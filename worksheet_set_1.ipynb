{
 "cells": [
  {
   "cell_type": "markdown",
   "id": "116d4d66",
   "metadata": {},
   "source": [
    "# program to check whether a string is palindrome or not"
   ]
  },
  {
   "cell_type": "code",
   "execution_count": null,
   "id": "ad36e688",
   "metadata": {},
   "outputs": [],
   "source": [
    "a=input(\"enter string:\")\n",
    "b=a[-1::-1]\n",
    "if(a==b):\n",
    "    print(\"palindrome string\")\n",
    "else:\n",
    "    print(\"not palindrome string\")\n",
    "        "
   ]
  },
  {
   "cell_type": "markdown",
   "id": "5b6b5ebf",
   "metadata": {},
   "source": [
    "# program to find the factorial of a number"
   ]
  },
  {
   "cell_type": "code",
   "execution_count": null,
   "id": "29f61abc",
   "metadata": {},
   "outputs": [],
   "source": [
    "def factorial(x):\n",
    "    fact=1\n",
    "    for i in range(1,x+1):\n",
    "        fact=fact*i\n",
    "    return(fact)   "
   ]
  },
  {
   "cell_type": "markdown",
   "id": "82b28b6e",
   "metadata": {},
   "source": [
    "# program to print the frequency of each of the characters present in a given string"
   ]
  },
  {
   "cell_type": "code",
   "execution_count": null,
   "id": "be4e4773",
   "metadata": {},
   "outputs": [],
   "source": [
    "str1=input (\"enter the string\")\n",
    "d1 = dict()\n",
    "for c in str1:\n",
    "    d1[c]=d1.get(c,0) + 1\n",
    "print(d1)    "
   ]
  },
  {
   "cell_type": "markdown",
   "id": "7a8f8292",
   "metadata": {},
   "source": [
    "# write a python program to get the third side of right angled triangle from two given sides."
   ]
  },
  {
   "cell_type": "code",
   "execution_count": null,
   "id": "12467bba",
   "metadata": {},
   "outputs": [],
   "source": [
    "from math import sqrt\n",
    "print(\"enter the length\")\n",
    "a=float(input(\"a: \"))\n",
    "b=float(input(\"b: \"))\n",
    "c=sqrt(a**2 + b**2)\n",
    "print(\"the length of the hypotenuse is\" ,c)"
   ]
  },
  {
   "cell_type": "markdown",
   "id": "bc6c4fd5",
   "metadata": {},
   "source": [
    "# program to find whether a number is prime or composite\n"
   ]
  },
  {
   "cell_type": "code",
   "execution_count": null,
   "id": "91bafda2",
   "metadata": {},
   "outputs": [],
   "source": [
    "number=int(input(\"enter a natural number : \"))\n",
    "if number < 1:\n",
    "    print(\"number needs to be greater than 1\")\n",
    "elif number ==1:\n",
    "    print(number,\" is neigher prime nor composite\")\n",
    "else:\n",
    "    for divisor in range(2,(number//2)+1):\n",
    "        if (number % divisor)==0:\n",
    "            print(number,\"is a composite number\")\n",
    "            break\n",
    "    else:\n",
    "        print(number,\"is a prime number\")"
   ]
  },
  {
   "cell_type": "code",
   "execution_count": null,
   "id": "e13ade51",
   "metadata": {},
   "outputs": [],
   "source": []
  },
  {
   "cell_type": "code",
   "execution_count": null,
   "id": "3808d770",
   "metadata": {},
   "outputs": [],
   "source": []
  }
 ],
 "metadata": {
  "kernelspec": {
   "display_name": "Python 3",
   "language": "python",
   "name": "python3"
  },
  "language_info": {
   "codemirror_mode": {
    "name": "ipython",
    "version": 3
   },
   "file_extension": ".py",
   "mimetype": "text/x-python",
   "name": "python",
   "nbconvert_exporter": "python",
   "pygments_lexer": "ipython3",
   "version": "3.8.8"
  }
 },
 "nbformat": 4,
 "nbformat_minor": 5
}
