{
 "cells": [
  {
   "cell_type": "code",
   "execution_count": 176,
   "id": "987b3dd4",
   "metadata": {},
   "outputs": [],
   "source": [
    "import numpy as np\n",
    "import pandas as pd\n",
    "import seaborn as sns\n",
    "import matplotlib.pyplot as plt\n",
    "train=pd.read_csv(\"bigdatamart_Train.csv\") \n",
    "new_data=pd.read_csv(\"bigdatamart_Test.csv\")"
   ]
  },
  {
   "cell_type": "code",
   "execution_count": 177,
   "id": "e27d726f",
   "metadata": {},
   "outputs": [
    {
     "data": {
      "text/html": [
       "<div>\n",
       "<style scoped>\n",
       "    .dataframe tbody tr th:only-of-type {\n",
       "        vertical-align: middle;\n",
       "    }\n",
       "\n",
       "    .dataframe tbody tr th {\n",
       "        vertical-align: top;\n",
       "    }\n",
       "\n",
       "    .dataframe thead th {\n",
       "        text-align: right;\n",
       "    }\n",
       "</style>\n",
       "<table border=\"1\" class=\"dataframe\">\n",
       "  <thead>\n",
       "    <tr style=\"text-align: right;\">\n",
       "      <th></th>\n",
       "      <th>Item_Identifier</th>\n",
       "      <th>Item_Weight</th>\n",
       "      <th>Item_Fat_Content</th>\n",
       "      <th>Item_Visibility</th>\n",
       "      <th>Item_Type</th>\n",
       "      <th>Item_MRP</th>\n",
       "      <th>Outlet_Identifier</th>\n",
       "      <th>Outlet_Establishment_Year</th>\n",
       "      <th>Outlet_Size</th>\n",
       "      <th>Outlet_Location_Type</th>\n",
       "      <th>Outlet_Type</th>\n",
       "      <th>Item_Outlet_Sales</th>\n",
       "    </tr>\n",
       "  </thead>\n",
       "  <tbody>\n",
       "    <tr>\n",
       "      <th>0</th>\n",
       "      <td>FDA15</td>\n",
       "      <td>9.30</td>\n",
       "      <td>Low Fat</td>\n",
       "      <td>0.016047</td>\n",
       "      <td>Dairy</td>\n",
       "      <td>249.8092</td>\n",
       "      <td>OUT049</td>\n",
       "      <td>1999</td>\n",
       "      <td>Medium</td>\n",
       "      <td>Tier 1</td>\n",
       "      <td>Supermarket Type1</td>\n",
       "      <td>3735.1380</td>\n",
       "    </tr>\n",
       "    <tr>\n",
       "      <th>1</th>\n",
       "      <td>DRC01</td>\n",
       "      <td>5.92</td>\n",
       "      <td>Regular</td>\n",
       "      <td>0.019278</td>\n",
       "      <td>Soft Drinks</td>\n",
       "      <td>48.2692</td>\n",
       "      <td>OUT018</td>\n",
       "      <td>2009</td>\n",
       "      <td>Medium</td>\n",
       "      <td>Tier 3</td>\n",
       "      <td>Supermarket Type2</td>\n",
       "      <td>443.4228</td>\n",
       "    </tr>\n",
       "    <tr>\n",
       "      <th>2</th>\n",
       "      <td>FDN15</td>\n",
       "      <td>17.50</td>\n",
       "      <td>Low Fat</td>\n",
       "      <td>0.016760</td>\n",
       "      <td>Meat</td>\n",
       "      <td>141.6180</td>\n",
       "      <td>OUT049</td>\n",
       "      <td>1999</td>\n",
       "      <td>Medium</td>\n",
       "      <td>Tier 1</td>\n",
       "      <td>Supermarket Type1</td>\n",
       "      <td>2097.2700</td>\n",
       "    </tr>\n",
       "    <tr>\n",
       "      <th>3</th>\n",
       "      <td>FDX07</td>\n",
       "      <td>19.20</td>\n",
       "      <td>Regular</td>\n",
       "      <td>0.000000</td>\n",
       "      <td>Fruits and Vegetables</td>\n",
       "      <td>182.0950</td>\n",
       "      <td>OUT010</td>\n",
       "      <td>1998</td>\n",
       "      <td>NaN</td>\n",
       "      <td>Tier 3</td>\n",
       "      <td>Grocery Store</td>\n",
       "      <td>732.3800</td>\n",
       "    </tr>\n",
       "    <tr>\n",
       "      <th>4</th>\n",
       "      <td>NCD19</td>\n",
       "      <td>8.93</td>\n",
       "      <td>Low Fat</td>\n",
       "      <td>0.000000</td>\n",
       "      <td>Household</td>\n",
       "      <td>53.8614</td>\n",
       "      <td>OUT013</td>\n",
       "      <td>1987</td>\n",
       "      <td>High</td>\n",
       "      <td>Tier 3</td>\n",
       "      <td>Supermarket Type1</td>\n",
       "      <td>994.7052</td>\n",
       "    </tr>\n",
       "  </tbody>\n",
       "</table>\n",
       "</div>"
      ],
      "text/plain": [
       "  Item_Identifier  Item_Weight Item_Fat_Content  Item_Visibility  \\\n",
       "0           FDA15         9.30          Low Fat         0.016047   \n",
       "1           DRC01         5.92          Regular         0.019278   \n",
       "2           FDN15        17.50          Low Fat         0.016760   \n",
       "3           FDX07        19.20          Regular         0.000000   \n",
       "4           NCD19         8.93          Low Fat         0.000000   \n",
       "\n",
       "               Item_Type  Item_MRP Outlet_Identifier  \\\n",
       "0                  Dairy  249.8092            OUT049   \n",
       "1            Soft Drinks   48.2692            OUT018   \n",
       "2                   Meat  141.6180            OUT049   \n",
       "3  Fruits and Vegetables  182.0950            OUT010   \n",
       "4              Household   53.8614            OUT013   \n",
       "\n",
       "   Outlet_Establishment_Year Outlet_Size Outlet_Location_Type  \\\n",
       "0                       1999      Medium               Tier 1   \n",
       "1                       2009      Medium               Tier 3   \n",
       "2                       1999      Medium               Tier 1   \n",
       "3                       1998         NaN               Tier 3   \n",
       "4                       1987        High               Tier 3   \n",
       "\n",
       "         Outlet_Type  Item_Outlet_Sales  \n",
       "0  Supermarket Type1          3735.1380  \n",
       "1  Supermarket Type2           443.4228  \n",
       "2  Supermarket Type1          2097.2700  \n",
       "3      Grocery Store           732.3800  \n",
       "4  Supermarket Type1           994.7052  "
      ]
     },
     "execution_count": 177,
     "metadata": {},
     "output_type": "execute_result"
    }
   ],
   "source": [
    "train.head()"
   ]
  },
  {
   "cell_type": "code",
   "execution_count": 178,
   "id": "1c903036",
   "metadata": {},
   "outputs": [
    {
     "name": "stdout",
     "output_type": "stream",
     "text": [
      "(8523, 12)\n",
      "(5681, 11)\n"
     ]
    }
   ],
   "source": [
    "print(train.shape)\n",
    "print(new_data.shape)"
   ]
  },
  {
   "cell_type": "code",
   "execution_count": 179,
   "id": "99090a4c",
   "metadata": {},
   "outputs": [
    {
     "name": "stdout",
     "output_type": "stream",
     "text": [
      "<class 'pandas.core.frame.DataFrame'>\n",
      "RangeIndex: 8523 entries, 0 to 8522\n",
      "Data columns (total 12 columns):\n",
      " #   Column                     Non-Null Count  Dtype  \n",
      "---  ------                     --------------  -----  \n",
      " 0   Item_Identifier            8523 non-null   object \n",
      " 1   Item_Weight                7060 non-null   float64\n",
      " 2   Item_Fat_Content           8523 non-null   object \n",
      " 3   Item_Visibility            8523 non-null   float64\n",
      " 4   Item_Type                  8523 non-null   object \n",
      " 5   Item_MRP                   8523 non-null   float64\n",
      " 6   Outlet_Identifier          8523 non-null   object \n",
      " 7   Outlet_Establishment_Year  8523 non-null   int64  \n",
      " 8   Outlet_Size                6113 non-null   object \n",
      " 9   Outlet_Location_Type       8523 non-null   object \n",
      " 10  Outlet_Type                8523 non-null   object \n",
      " 11  Item_Outlet_Sales          8523 non-null   float64\n",
      "dtypes: float64(4), int64(1), object(7)\n",
      "memory usage: 799.2+ KB\n",
      "None\n",
      "<class 'pandas.core.frame.DataFrame'>\n",
      "RangeIndex: 5681 entries, 0 to 5680\n",
      "Data columns (total 11 columns):\n",
      " #   Column                     Non-Null Count  Dtype  \n",
      "---  ------                     --------------  -----  \n",
      " 0   Item_Identifier            5681 non-null   object \n",
      " 1   Item_Weight                4705 non-null   float64\n",
      " 2   Item_Fat_Content           5681 non-null   object \n",
      " 3   Item_Visibility            5681 non-null   float64\n",
      " 4   Item_Type                  5681 non-null   object \n",
      " 5   Item_MRP                   5681 non-null   float64\n",
      " 6   Outlet_Identifier          5681 non-null   object \n",
      " 7   Outlet_Establishment_Year  5681 non-null   int64  \n",
      " 8   Outlet_Size                4075 non-null   object \n",
      " 9   Outlet_Location_Type       5681 non-null   object \n",
      " 10  Outlet_Type                5681 non-null   object \n",
      "dtypes: float64(3), int64(1), object(7)\n",
      "memory usage: 488.3+ KB\n",
      "None\n"
     ]
    }
   ],
   "source": [
    "print(train.info())\n",
    "print(new_data.info())"
   ]
  },
  {
   "cell_type": "markdown",
   "id": "9f17a4c2",
   "metadata": {},
   "source": [
    "# EXPLORATORY DATA ANALYSIS** and DATA PRE PROCESSING"
   ]
  },
  {
   "cell_type": "markdown",
   "id": "4f3188cc",
   "metadata": {},
   "source": [
    "# Finding number of categorical columns\n",
    "Creating new columns\n",
    "Duplicate values detection\n",
    "Imputing missing values\n",
    "Relation of every column with target variable (Analysing data)\n",
    "Plotting correlation\n",
    "Checking possibilities to reduce dimensionality\n",
    "Handling categorical variable\n",
    "Feature selection\n",
    "scaling the data"
   ]
  },
  {
   "cell_type": "code",
   "execution_count": 180,
   "id": "8ec33936",
   "metadata": {},
   "outputs": [],
   "source": [
    "categorical_train=[j for j in train if train[j].dtype == 'object']\n",
    "categorical_new_data =[k for k in new_data if new_data[k].dtype == 'object']"
   ]
  },
  {
   "cell_type": "code",
   "execution_count": 181,
   "id": "c04caa89",
   "metadata": {},
   "outputs": [
    {
     "name": "stdout",
     "output_type": "stream",
     "text": [
      "Item_Identifier ['FDA15' 'DRC01' 'FDN15' ... 'NCF55' 'NCW30' 'NCW05']\n",
      "Item_Fat_Content ['Low Fat' 'Regular' 'low fat' 'LF' 'reg']\n",
      "Item_Type ['Dairy' 'Soft Drinks' 'Meat' 'Fruits and Vegetables' 'Household'\n",
      " 'Baking Goods' 'Snack Foods' 'Frozen Foods' 'Breakfast'\n",
      " 'Health and Hygiene' 'Hard Drinks' 'Canned' 'Breads' 'Starchy Foods'\n",
      " 'Others' 'Seafood']\n",
      "Outlet_Identifier ['OUT049' 'OUT018' 'OUT010' 'OUT013' 'OUT027' 'OUT045' 'OUT017' 'OUT046'\n",
      " 'OUT035' 'OUT019']\n",
      "Outlet_Size ['Medium' nan 'High' 'Small']\n",
      "Outlet_Location_Type ['Tier 1' 'Tier 3' 'Tier 2']\n",
      "Outlet_Type ['Supermarket Type1' 'Supermarket Type2' 'Grocery Store'\n",
      " 'Supermarket Type3']\n"
     ]
    }
   ],
   "source": [
    "for i in categorical_train:\n",
    "    columns = train[i].unique()\n",
    "    print(i,columns)"
   ]
  },
  {
   "cell_type": "code",
   "execution_count": 182,
   "id": "747a461c",
   "metadata": {},
   "outputs": [
    {
     "name": "stdout",
     "output_type": "stream",
     "text": [
      "Outlet_Type ['FDW58' 'FDW14' 'NCN55' ... 'NCI29' 'FDP28' 'FDF04']\n",
      "Outlet_Type ['Low Fat' 'reg' 'Regular' 'LF' 'low fat']\n",
      "Outlet_Type ['Snack Foods' 'Dairy' 'Others' 'Fruits and Vegetables' 'Baking Goods'\n",
      " 'Health and Hygiene' 'Breads' 'Hard Drinks' 'Seafood' 'Soft Drinks'\n",
      " 'Household' 'Frozen Foods' 'Meat' 'Canned' 'Starchy Foods' 'Breakfast']\n",
      "Outlet_Type ['OUT049' 'OUT017' 'OUT010' 'OUT027' 'OUT046' 'OUT018' 'OUT045' 'OUT019'\n",
      " 'OUT013' 'OUT035']\n",
      "Outlet_Type ['Medium' nan 'Small' 'High']\n",
      "Outlet_Type ['Tier 1' 'Tier 2' 'Tier 3']\n",
      "Outlet_Type ['Supermarket Type1' 'Grocery Store' 'Supermarket Type3'\n",
      " 'Supermarket Type2']\n"
     ]
    }
   ],
   "source": [
    "for col in categorical_new_data:\n",
    "    columns2 = new_data[col].unique()\n",
    "    print(i,columns2)"
   ]
  },
  {
   "cell_type": "code",
   "execution_count": 183,
   "id": "d8ff5bf4",
   "metadata": {},
   "outputs": [],
   "source": [
    "train.insert(loc=9,column='current_year',value=2021)\n",
    "new_data.insert(loc=8,column='current_year',value=2021)"
   ]
  },
  {
   "cell_type": "code",
   "execution_count": 184,
   "id": "dde33c73",
   "metadata": {},
   "outputs": [],
   "source": [
    "train['Outlet_age']=train['current_year']- train['Outlet_Establishment_Year']\n",
    "new_data['Outlet_age']=new_data['current_year']- new_data['Outlet_Establishment_Year']"
   ]
  },
  {
   "cell_type": "code",
   "execution_count": 185,
   "id": "538b4da1",
   "metadata": {},
   "outputs": [],
   "source": [
    "train=train.drop(['current_year','Outlet_Establishment_Year'],axis=1)\n",
    "new_data=new_data.drop(['current_year','Outlet_Establishment_Year'],axis=1)"
   ]
  },
  {
   "cell_type": "markdown",
   "id": "f25940ab",
   "metadata": {},
   "source": [
    "# Missing Values"
   ]
  },
  {
   "cell_type": "code",
   "execution_count": 186,
   "id": "bdbab51e",
   "metadata": {},
   "outputs": [
    {
     "name": "stdout",
     "output_type": "stream",
     "text": [
      "Item_Identifier            0\n",
      "Item_Weight             1463\n",
      "Item_Fat_Content           0\n",
      "Item_Visibility            0\n",
      "Item_Type                  0\n",
      "Item_MRP                   0\n",
      "Outlet_Identifier          0\n",
      "Outlet_Size             2410\n",
      "Outlet_Location_Type       0\n",
      "Outlet_Type                0\n",
      "Item_Outlet_Sales          0\n",
      "Outlet_age                 0\n",
      "dtype: int64\n",
      "-------------------------------------\n",
      "Item_Identifier            0\n",
      "Item_Weight              976\n",
      "Item_Fat_Content           0\n",
      "Item_Visibility            0\n",
      "Item_Type                  0\n",
      "Item_MRP                   0\n",
      "Outlet_Identifier          0\n",
      "Outlet_Size             1606\n",
      "Outlet_Location_Type       0\n",
      "Outlet_Type                0\n",
      "Outlet_age                 0\n",
      "dtype: int64\n"
     ]
    }
   ],
   "source": [
    "print(train.isnull().sum())\n",
    "print('-------------------------------------')\n",
    "print(new_data.isnull().sum())"
   ]
  },
  {
   "cell_type": "code",
   "execution_count": 187,
   "id": "c7d5bcb6",
   "metadata": {},
   "outputs": [],
   "source": [
    "## replacing the duplicate values in 'Item_Weight'\n",
    "train['Item_Fat_Content']=train['Item_Fat_Content'].replace(['low fat','LF','reg'],['Low Fat','Low Fat','Regular'],inplace = False)\n",
    "new_data['Item_Fat_Content']=new_data['Item_Fat_Content'].replace(['low fat','LF','reg'],['Low Fat','Low Fat','Regular'],inplace = False) "
   ]
  },
  {
   "cell_type": "code",
   "execution_count": 188,
   "id": "75a39d3e",
   "metadata": {},
   "outputs": [
    {
     "data": {
      "text/html": [
       "<div>\n",
       "<style scoped>\n",
       "    .dataframe tbody tr th:only-of-type {\n",
       "        vertical-align: middle;\n",
       "    }\n",
       "\n",
       "    .dataframe tbody tr th {\n",
       "        vertical-align: top;\n",
       "    }\n",
       "\n",
       "    .dataframe thead th {\n",
       "        text-align: right;\n",
       "    }\n",
       "</style>\n",
       "<table border=\"1\" class=\"dataframe\">\n",
       "  <thead>\n",
       "    <tr style=\"text-align: right;\">\n",
       "      <th></th>\n",
       "      <th>Item_Identifier</th>\n",
       "      <th>Item_Weight</th>\n",
       "      <th>Item_Fat_Content</th>\n",
       "      <th>Item_Visibility</th>\n",
       "      <th>Item_Type</th>\n",
       "      <th>Item_MRP</th>\n",
       "      <th>Outlet_Identifier</th>\n",
       "      <th>Outlet_Size</th>\n",
       "      <th>Outlet_Location_Type</th>\n",
       "      <th>Outlet_Type</th>\n",
       "      <th>Item_Outlet_Sales</th>\n",
       "      <th>Outlet_age</th>\n",
       "    </tr>\n",
       "  </thead>\n",
       "  <tbody>\n",
       "    <tr>\n",
       "      <th>0</th>\n",
       "      <td>FDA15</td>\n",
       "      <td>9.30</td>\n",
       "      <td>Low Fat</td>\n",
       "      <td>0.016047</td>\n",
       "      <td>Dairy</td>\n",
       "      <td>249.8092</td>\n",
       "      <td>OUT049</td>\n",
       "      <td>Medium</td>\n",
       "      <td>Tier 1</td>\n",
       "      <td>Supermarket Type1</td>\n",
       "      <td>3735.1380</td>\n",
       "      <td>22</td>\n",
       "    </tr>\n",
       "    <tr>\n",
       "      <th>1</th>\n",
       "      <td>DRC01</td>\n",
       "      <td>5.92</td>\n",
       "      <td>Regular</td>\n",
       "      <td>0.019278</td>\n",
       "      <td>Soft Drinks</td>\n",
       "      <td>48.2692</td>\n",
       "      <td>OUT018</td>\n",
       "      <td>Medium</td>\n",
       "      <td>Tier 3</td>\n",
       "      <td>Supermarket Type2</td>\n",
       "      <td>443.4228</td>\n",
       "      <td>12</td>\n",
       "    </tr>\n",
       "    <tr>\n",
       "      <th>2</th>\n",
       "      <td>FDN15</td>\n",
       "      <td>17.50</td>\n",
       "      <td>Low Fat</td>\n",
       "      <td>0.016760</td>\n",
       "      <td>Meat</td>\n",
       "      <td>141.6180</td>\n",
       "      <td>OUT049</td>\n",
       "      <td>Medium</td>\n",
       "      <td>Tier 1</td>\n",
       "      <td>Supermarket Type1</td>\n",
       "      <td>2097.2700</td>\n",
       "      <td>22</td>\n",
       "    </tr>\n",
       "    <tr>\n",
       "      <th>3</th>\n",
       "      <td>FDX07</td>\n",
       "      <td>19.20</td>\n",
       "      <td>Regular</td>\n",
       "      <td>0.000000</td>\n",
       "      <td>Fruits and Vegetables</td>\n",
       "      <td>182.0950</td>\n",
       "      <td>OUT010</td>\n",
       "      <td>NaN</td>\n",
       "      <td>Tier 3</td>\n",
       "      <td>Grocery Store</td>\n",
       "      <td>732.3800</td>\n",
       "      <td>23</td>\n",
       "    </tr>\n",
       "    <tr>\n",
       "      <th>4</th>\n",
       "      <td>NCD19</td>\n",
       "      <td>8.93</td>\n",
       "      <td>Low Fat</td>\n",
       "      <td>0.000000</td>\n",
       "      <td>Household</td>\n",
       "      <td>53.8614</td>\n",
       "      <td>OUT013</td>\n",
       "      <td>High</td>\n",
       "      <td>Tier 3</td>\n",
       "      <td>Supermarket Type1</td>\n",
       "      <td>994.7052</td>\n",
       "      <td>34</td>\n",
       "    </tr>\n",
       "  </tbody>\n",
       "</table>\n",
       "</div>"
      ],
      "text/plain": [
       "  Item_Identifier  Item_Weight Item_Fat_Content  Item_Visibility  \\\n",
       "0           FDA15         9.30          Low Fat         0.016047   \n",
       "1           DRC01         5.92          Regular         0.019278   \n",
       "2           FDN15        17.50          Low Fat         0.016760   \n",
       "3           FDX07        19.20          Regular         0.000000   \n",
       "4           NCD19         8.93          Low Fat         0.000000   \n",
       "\n",
       "               Item_Type  Item_MRP Outlet_Identifier Outlet_Size  \\\n",
       "0                  Dairy  249.8092            OUT049      Medium   \n",
       "1            Soft Drinks   48.2692            OUT018      Medium   \n",
       "2                   Meat  141.6180            OUT049      Medium   \n",
       "3  Fruits and Vegetables  182.0950            OUT010         NaN   \n",
       "4              Household   53.8614            OUT013        High   \n",
       "\n",
       "  Outlet_Location_Type        Outlet_Type  Item_Outlet_Sales  Outlet_age  \n",
       "0               Tier 1  Supermarket Type1          3735.1380          22  \n",
       "1               Tier 3  Supermarket Type2           443.4228          12  \n",
       "2               Tier 1  Supermarket Type1          2097.2700          22  \n",
       "3               Tier 3      Grocery Store           732.3800          23  \n",
       "4               Tier 3  Supermarket Type1           994.7052          34  "
      ]
     },
     "execution_count": 188,
     "metadata": {},
     "output_type": "execute_result"
    }
   ],
   "source": [
    "train.head()"
   ]
  },
  {
   "cell_type": "code",
   "execution_count": 189,
   "id": "07d2b9f3",
   "metadata": {},
   "outputs": [
    {
     "data": {
      "text/plain": [
       "<AxesSubplot:>"
      ]
     },
     "execution_count": 189,
     "metadata": {},
     "output_type": "execute_result"
    },
    {
     "data": {
      "image/png": "[encoded data removed]",
      "text/plain": [
       "<Figure size 432x288 with 1 Axes>"
      ]
     },
     "metadata": {
      "needs_background": "light"
     },
     "output_type": "display_data"
    }
   ],
   "source": [
    "sns.heatmap(train.isnull(),yticklabels=False,cbar=False,cmap='viridis')"
   ]
  },
  {
   "cell_type": "code",
   "execution_count": 190,
   "id": "48466ab5",
   "metadata": {},
   "outputs": [
    {
     "data": {
      "text/plain": [
       "<AxesSubplot:>"
      ]
     },
     "execution_count": 190,
     "metadata": {},
     "output_type": "execute_result"
    },
    {
     "data": {
      "image/png": "[encoded data removed]",
      "text/plain": [
       "<Figure size 432x288 with 1 Axes>"
      ]
     },
     "metadata": {
      "needs_background": "light"
     },
     "output_type": "display_data"
    }
   ],
   "source": [
    "sns.heatmap(new_data.isnull(),yticklabels=False,cbar=False,cmap='viridis')"
   ]
  },
  {
   "cell_type": "markdown",
   "id": "6faa87b7",
   "metadata": {},
   "source": [
    "##by looking at the above graph, we can say that not too much data is missing in the same area. they are evenly distrbuted "
   ]
  },
  {
   "cell_type": "markdown",
   "id": "79ea40e9",
   "metadata": {},
   "source": [
    "# we have to check if the data is missing completely at random or not\n",
    "for data missing completely at random, there should be equal probability of missing values for every variable and there should not be any relationship with other variables\n",
    "\n",
    "Here, we have 'Item_weight' and 'Outlet_type' which subjectively says that there might not be dependant on each other\n",
    "Although it needs domain expert knowledge to make a note why the data is missing , in this case I went with basic subjective knowledge saying that there is no relation\n",
    "There any many imputation methods for no relation missing values such as mean , median, mode, random imputation , KNN etc..\n",
    "I went with imputation methods using statistics since and it worked as good as KNN\n",
    "Compared to KNN , statistical methods are preferably choosable since they do not require more computation and time"
   ]
  },
  {
   "cell_type": "code",
   "execution_count": 191,
   "id": "c04b4c14",
   "metadata": {},
   "outputs": [
    {
     "name": "stdout",
     "output_type": "stream",
     "text": [
      "Medium    2793\n",
      "Small     2388\n",
      "High       932\n",
      "Name: Outlet_Size, dtype: int64\n",
      "Medium    1862\n",
      "Small     1592\n",
      "High       621\n",
      "Name: Outlet_Size, dtype: int64\n"
     ]
    }
   ],
   "source": [
    "## imputing missing values for categorical variable 'Outlet_Size'\n",
    "print(train.Outlet_Size.value_counts())\n",
    "print(new_data.Outlet_Size.value_counts())"
   ]
  },
  {
   "cell_type": "code",
   "execution_count": 192,
   "id": "7ec3002c",
   "metadata": {},
   "outputs": [],
   "source": [
    "## imputing categorical variable with the most repeated\n",
    "mode=train['Outlet_Size'].mode().values[0]\n",
    "train['Outlet_Size']=train['Outlet_Size'].replace(np.nan,mode,inplace=False)\n",
    "mode1=new_data['Outlet_Size'].mode().values[0]\n",
    "new_data['Outlet_Size']=new_data['Outlet_Size'].replace(np.nan,mode,inplace=False)"
   ]
  },
  {
   "cell_type": "code",
   "execution_count": 193,
   "id": "07c0beb9",
   "metadata": {},
   "outputs": [
    {
     "data": {
      "text/plain": [
       "<AxesSubplot:>"
      ]
     },
     "execution_count": 193,
     "metadata": {},
     "output_type": "execute_result"
    },
    {
     "data": {
      "image/png": "[encoded data removed]",
      "text/plain": [
       "<Figure size 432x288 with 2 Axes>"
      ]
     },
     "metadata": {
      "needs_background": "light"
     },
     "output_type": "display_data"
    }
   ],
   "source": [
    "import seaborn as sns\n",
    "import matplotlib as plt\n",
    "corr=train.iloc[:,1:].corr()\n",
    "top_features=corr.index\n",
    "sns.heatmap(train[top_features].corr(),annot=True)"
   ]
  },
  {
   "cell_type": "markdown",
   "id": "81e1297a",
   "metadata": {},
   "source": [
    "## checking the correlation after imputation of categorical variable to make sure it is not correlating with any other\n",
    "## Also we can clearly see that the only variable correlating high with sales is MRP ."
   ]
  },
  {
   "cell_type": "code",
   "execution_count": 194,
   "id": "6e8c5e15",
   "metadata": {},
   "outputs": [
    {
     "name": "stdout",
     "output_type": "stream",
     "text": [
      "12.6\n",
      "12.5\n"
     ]
    }
   ],
   "source": [
    "median_train=train['Item_Weight'].median()\n",
    "print(median_train)\n",
    "median_new_data=new_data['Item_Weight'].median()\n",
    "print(median_new_data)"
   ]
  },
  {
   "cell_type": "code",
   "execution_count": 195,
   "id": "55dda10f",
   "metadata": {},
   "outputs": [],
   "source": [
    "def impute_nan(train,variable,median_train):\n",
    "    train[variable+\"_median\"]=train[variable].fillna(median_train)\n",
    "    train[variable+\"_random\"]=train[variable]\n",
    "    random_sample=train[variable].dropna().sample(train[variable].isnull().sum(),random_state=0)\n",
    "    random_sample.index=train[train[variable].isnull()].index\n",
    "    train.loc[train[variable].isnull(),variable+'_random']=random_sample"
   ]
  },
  {
   "cell_type": "code",
   "execution_count": 196,
   "id": "0aa5823a",
   "metadata": {},
   "outputs": [
    {
     "data": {
      "text/html": [
       "<div>\n",
       "<style scoped>\n",
       "    .dataframe tbody tr th:only-of-type {\n",
       "        vertical-align: middle;\n",
       "    }\n",
       "\n",
       "    .dataframe tbody tr th {\n",
       "        vertical-align: top;\n",
       "    }\n",
       "\n",
       "    .dataframe thead th {\n",
       "        text-align: right;\n",
       "    }\n",
       "</style>\n",
       "<table border=\"1\" class=\"dataframe\">\n",
       "  <thead>\n",
       "    <tr style=\"text-align: right;\">\n",
       "      <th></th>\n",
       "      <th>Item_Identifier</th>\n",
       "      <th>Item_Weight</th>\n",
       "      <th>Item_Fat_Content</th>\n",
       "      <th>Item_Visibility</th>\n",
       "      <th>Item_Type</th>\n",
       "      <th>Item_MRP</th>\n",
       "      <th>Outlet_Identifier</th>\n",
       "      <th>Outlet_Size</th>\n",
       "      <th>Outlet_Location_Type</th>\n",
       "      <th>Outlet_Type</th>\n",
       "      <th>Item_Outlet_Sales</th>\n",
       "      <th>Outlet_age</th>\n",
       "      <th>Item_Weight_median</th>\n",
       "      <th>Item_Weight_random</th>\n",
       "    </tr>\n",
       "  </thead>\n",
       "  <tbody>\n",
       "    <tr>\n",
       "      <th>0</th>\n",
       "      <td>FDA15</td>\n",
       "      <td>9.30</td>\n",
       "      <td>Low Fat</td>\n",
       "      <td>0.016047</td>\n",
       "      <td>Dairy</td>\n",
       "      <td>249.8092</td>\n",
       "      <td>OUT049</td>\n",
       "      <td>Medium</td>\n",
       "      <td>Tier 1</td>\n",
       "      <td>Supermarket Type1</td>\n",
       "      <td>3735.1380</td>\n",
       "      <td>22</td>\n",
       "      <td>9.30</td>\n",
       "      <td>9.30</td>\n",
       "    </tr>\n",
       "    <tr>\n",
       "      <th>1</th>\n",
       "      <td>DRC01</td>\n",
       "      <td>5.92</td>\n",
       "      <td>Regular</td>\n",
       "      <td>0.019278</td>\n",
       "      <td>Soft Drinks</td>\n",
       "      <td>48.2692</td>\n",
       "      <td>OUT018</td>\n",
       "      <td>Medium</td>\n",
       "      <td>Tier 3</td>\n",
       "      <td>Supermarket Type2</td>\n",
       "      <td>443.4228</td>\n",
       "      <td>12</td>\n",
       "      <td>5.92</td>\n",
       "      <td>5.92</td>\n",
       "    </tr>\n",
       "    <tr>\n",
       "      <th>2</th>\n",
       "      <td>FDN15</td>\n",
       "      <td>17.50</td>\n",
       "      <td>Low Fat</td>\n",
       "      <td>0.016760</td>\n",
       "      <td>Meat</td>\n",
       "      <td>141.6180</td>\n",
       "      <td>OUT049</td>\n",
       "      <td>Medium</td>\n",
       "      <td>Tier 1</td>\n",
       "      <td>Supermarket Type1</td>\n",
       "      <td>2097.2700</td>\n",
       "      <td>22</td>\n",
       "      <td>17.50</td>\n",
       "      <td>17.50</td>\n",
       "    </tr>\n",
       "    <tr>\n",
       "      <th>3</th>\n",
       "      <td>FDX07</td>\n",
       "      <td>19.20</td>\n",
       "      <td>Regular</td>\n",
       "      <td>0.000000</td>\n",
       "      <td>Fruits and Vegetables</td>\n",
       "      <td>182.0950</td>\n",
       "      <td>OUT010</td>\n",
       "      <td>Medium</td>\n",
       "      <td>Tier 3</td>\n",
       "      <td>Grocery Store</td>\n",
       "      <td>732.3800</td>\n",
       "      <td>23</td>\n",
       "      <td>19.20</td>\n",
       "      <td>19.20</td>\n",
       "    </tr>\n",
       "    <tr>\n",
       "      <th>4</th>\n",
       "      <td>NCD19</td>\n",
       "      <td>8.93</td>\n",
       "      <td>Low Fat</td>\n",
       "      <td>0.000000</td>\n",
       "      <td>Household</td>\n",
       "      <td>53.8614</td>\n",
       "      <td>OUT013</td>\n",
       "      <td>High</td>\n",
       "      <td>Tier 3</td>\n",
       "      <td>Supermarket Type1</td>\n",
       "      <td>994.7052</td>\n",
       "      <td>34</td>\n",
       "      <td>8.93</td>\n",
       "      <td>8.93</td>\n",
       "    </tr>\n",
       "  </tbody>\n",
       "</table>\n",
       "</div>"
      ],
      "text/plain": [
       "  Item_Identifier  Item_Weight Item_Fat_Content  Item_Visibility  \\\n",
       "0           FDA15         9.30          Low Fat         0.016047   \n",
       "1           DRC01         5.92          Regular         0.019278   \n",
       "2           FDN15        17.50          Low Fat         0.016760   \n",
       "3           FDX07        19.20          Regular         0.000000   \n",
       "4           NCD19         8.93          Low Fat         0.000000   \n",
       "\n",
       "               Item_Type  Item_MRP Outlet_Identifier Outlet_Size  \\\n",
       "0                  Dairy  249.8092            OUT049      Medium   \n",
       "1            Soft Drinks   48.2692            OUT018      Medium   \n",
       "2                   Meat  141.6180            OUT049      Medium   \n",
       "3  Fruits and Vegetables  182.0950            OUT010      Medium   \n",
       "4              Household   53.8614            OUT013        High   \n",
       "\n",
       "  Outlet_Location_Type        Outlet_Type  Item_Outlet_Sales  Outlet_age  \\\n",
       "0               Tier 1  Supermarket Type1          3735.1380          22   \n",
       "1               Tier 3  Supermarket Type2           443.4228          12   \n",
       "2               Tier 1  Supermarket Type1          2097.2700          22   \n",
       "3               Tier 3      Grocery Store           732.3800          23   \n",
       "4               Tier 3  Supermarket Type1           994.7052          34   \n",
       "\n",
       "   Item_Weight_median  Item_Weight_random  \n",
       "0                9.30                9.30  \n",
       "1                5.92                5.92  \n",
       "2               17.50               17.50  \n",
       "3               19.20               19.20  \n",
       "4                8.93                8.93  "
      ]
     },
     "execution_count": 196,
     "metadata": {},
     "output_type": "execute_result"
    }
   ],
   "source": [
    "impute_nan(train,'Item_Weight',median_train)\n",
    "train.head()"
   ]
  },
  {
   "cell_type": "markdown",
   "id": "e2b2b111",
   "metadata": {},
   "source": [
    "## imputed numerical variable with both median and random variable in  two different columns to compare"
   ]
  },
  {
   "cell_type": "code",
   "execution_count": 197,
   "id": "547a3d9d",
   "metadata": {},
   "outputs": [],
   "source": [
    "import matplotlib.pyplot as plt\n",
    "%matplotlib inline"
   ]
  },
  {
   "cell_type": "code",
   "execution_count": 198,
   "id": "d0ba40e4",
   "metadata": {},
   "outputs": [
    {
     "data": {
      "text/plain": [
       "<matplotlib.legend.Legend at 0x1ea65786fa0>"
      ]
     },
     "execution_count": 198,
     "metadata": {},
     "output_type": "execute_result"
    },
    {
     "data": {
      "image/png": "[encoded data removed]",
      "text/plain": [
       "<Figure size 432x288 with 1 Axes>"
      ]
     },
     "metadata": {
      "needs_background": "light"
     },
     "output_type": "display_data"
    }
   ],
   "source": [
    "fig = plt.figure()\n",
    "ax = fig.add_subplot(111)\n",
    "train['Item_Weight'].plot(kind='kde', ax=ax)\n",
    "train.Item_Weight_median.plot(kind='kde', ax=ax, color='red')\n",
    "lines, labels = ax.get_legend_handles_labels()\n",
    "ax.legend(lines, labels, loc='best')"
   ]
  },
  {
   "cell_type": "markdown",
   "id": "a5d6ded8",
   "metadata": {},
   "source": [
    "## we can observe that there is a deviation in the distribution which leads to outilers"
   ]
  },
  {
   "cell_type": "code",
   "execution_count": 199,
   "id": "d9ec6891",
   "metadata": {},
   "outputs": [
    {
     "data": {
      "text/plain": [
       "<matplotlib.legend.Legend at 0x1ea657f4940>"
      ]
     },
     "execution_count": 199,
     "metadata": {},
     "output_type": "execute_result"
    },
    {
     "data": {
      "image/png": "[encoded data removed]",
      "text/plain": [
       "<Figure size 432x288 with 1 Axes>"
      ]
     },
     "metadata": {
      "needs_background": "light"
     },
     "output_type": "display_data"
    }
   ],
   "source": [
    "fig = plt.figure()\n",
    "ax = fig.add_subplot(111)\n",
    "train['Item_Weight'].plot(kind='kde', ax=ax)\n",
    "train.Item_Weight_random.plot(kind='kde', ax=ax, color='red')\n",
    "lines, labels = ax.get_legend_handles_labels()\n",
    "ax.legend(lines, labels, loc='best')"
   ]
  },
  {
   "cell_type": "markdown",
   "id": "11d48c60",
   "metadata": {},
   "source": [
    "## clearly, random weight imputation is much closer to item weight distribution"
   ]
  },
  {
   "cell_type": "code",
   "execution_count": 200,
   "id": "cefc8569",
   "metadata": {},
   "outputs": [
    {
     "data": {
      "text/plain": [
       "<matplotlib.legend.Legend at 0x1ea65826cd0>"
      ]
     },
     "execution_count": 200,
     "metadata": {},
     "output_type": "execute_result"
    },
    {
     "data": {
      "image/png": "[encoded data removed]",
      "text/plain": [
       "<Figure size 432x288 with 1 Axes>"
      ]
     },
     "metadata": {
      "needs_background": "light"
     },
     "output_type": "display_data"
    }
   ],
   "source": [
    "fig = plt.figure()\n",
    "ax = fig.add_subplot(111)\n",
    "train['Item_Weight'].plot(kind='kde', ax=ax)\n",
    "train.Item_Weight_median.plot(kind='kde', ax=ax, color='red')\n",
    "train.Item_Weight_random.plot(kind='kde', ax=ax, color='green')\n",
    "lines, labels = ax.get_legend_handles_labels()\n",
    "ax.legend(lines, labels, loc='best')"
   ]
  },
  {
   "cell_type": "markdown",
   "id": "b4f05911",
   "metadata": {},
   "source": [
    "## 'Item_weight' and 'Item_weight_random' are in the same distribution and hence we can drop the imputaion with median"
   ]
  },
  {
   "cell_type": "code",
   "execution_count": 201,
   "id": "a43a4df0",
   "metadata": {},
   "outputs": [],
   "source": [
    "def impute_nan(test,variable,median_new_data):\n",
    "    new_data[variable+\"_median\"]=new_data[variable].fillna(median_new_data)\n",
    "    new_data[variable+\"_random\"]=new_data[variable]\n",
    "    random_sample=test[variable].dropna().sample(test[variable].isnull().sum(),random_state=0)\n",
    "    random_sample.index=test[test[variable].isnull()].index\n",
    "    new_data.loc[new_data[variable].isnull(),variable+'_random']=random_sample"
   ]
  },
  {
   "cell_type": "code",
   "execution_count": 202,
   "id": "9eb4361d",
   "metadata": {},
   "outputs": [
    {
     "data": {
      "text/html": [
       "<div>\n",
       "<style scoped>\n",
       "    .dataframe tbody tr th:only-of-type {\n",
       "        vertical-align: middle;\n",
       "    }\n",
       "\n",
       "    .dataframe tbody tr th {\n",
       "        vertical-align: top;\n",
       "    }\n",
       "\n",
       "    .dataframe thead th {\n",
       "        text-align: right;\n",
       "    }\n",
       "</style>\n",
       "<table border=\"1\" class=\"dataframe\">\n",
       "  <thead>\n",
       "    <tr style=\"text-align: right;\">\n",
       "      <th></th>\n",
       "      <th>Item_Identifier</th>\n",
       "      <th>Item_Weight</th>\n",
       "      <th>Item_Fat_Content</th>\n",
       "      <th>Item_Visibility</th>\n",
       "      <th>Item_Type</th>\n",
       "      <th>Item_MRP</th>\n",
       "      <th>Outlet_Identifier</th>\n",
       "      <th>Outlet_Size</th>\n",
       "      <th>Outlet_Location_Type</th>\n",
       "      <th>Outlet_Type</th>\n",
       "      <th>Outlet_age</th>\n",
       "      <th>Item_Weight_median</th>\n",
       "      <th>Item_Weight_random</th>\n",
       "    </tr>\n",
       "  </thead>\n",
       "  <tbody>\n",
       "    <tr>\n",
       "      <th>0</th>\n",
       "      <td>FDW58</td>\n",
       "      <td>20.750</td>\n",
       "      <td>Low Fat</td>\n",
       "      <td>0.007565</td>\n",
       "      <td>Snack Foods</td>\n",
       "      <td>107.8622</td>\n",
       "      <td>OUT049</td>\n",
       "      <td>Medium</td>\n",
       "      <td>Tier 1</td>\n",
       "      <td>Supermarket Type1</td>\n",
       "      <td>22</td>\n",
       "      <td>20.750</td>\n",
       "      <td>20.750</td>\n",
       "    </tr>\n",
       "    <tr>\n",
       "      <th>1</th>\n",
       "      <td>FDW14</td>\n",
       "      <td>8.300</td>\n",
       "      <td>Regular</td>\n",
       "      <td>0.038428</td>\n",
       "      <td>Dairy</td>\n",
       "      <td>87.3198</td>\n",
       "      <td>OUT017</td>\n",
       "      <td>Medium</td>\n",
       "      <td>Tier 2</td>\n",
       "      <td>Supermarket Type1</td>\n",
       "      <td>14</td>\n",
       "      <td>8.300</td>\n",
       "      <td>8.300</td>\n",
       "    </tr>\n",
       "    <tr>\n",
       "      <th>2</th>\n",
       "      <td>NCN55</td>\n",
       "      <td>14.600</td>\n",
       "      <td>Low Fat</td>\n",
       "      <td>0.099575</td>\n",
       "      <td>Others</td>\n",
       "      <td>241.7538</td>\n",
       "      <td>OUT010</td>\n",
       "      <td>Medium</td>\n",
       "      <td>Tier 3</td>\n",
       "      <td>Grocery Store</td>\n",
       "      <td>23</td>\n",
       "      <td>14.600</td>\n",
       "      <td>14.600</td>\n",
       "    </tr>\n",
       "    <tr>\n",
       "      <th>3</th>\n",
       "      <td>FDQ58</td>\n",
       "      <td>7.315</td>\n",
       "      <td>Low Fat</td>\n",
       "      <td>0.015388</td>\n",
       "      <td>Snack Foods</td>\n",
       "      <td>155.0340</td>\n",
       "      <td>OUT017</td>\n",
       "      <td>Medium</td>\n",
       "      <td>Tier 2</td>\n",
       "      <td>Supermarket Type1</td>\n",
       "      <td>14</td>\n",
       "      <td>7.315</td>\n",
       "      <td>7.315</td>\n",
       "    </tr>\n",
       "    <tr>\n",
       "      <th>4</th>\n",
       "      <td>FDY38</td>\n",
       "      <td>NaN</td>\n",
       "      <td>Regular</td>\n",
       "      <td>0.118599</td>\n",
       "      <td>Dairy</td>\n",
       "      <td>234.2300</td>\n",
       "      <td>OUT027</td>\n",
       "      <td>Medium</td>\n",
       "      <td>Tier 3</td>\n",
       "      <td>Supermarket Type3</td>\n",
       "      <td>36</td>\n",
       "      <td>12.500</td>\n",
       "      <td>15.100</td>\n",
       "    </tr>\n",
       "  </tbody>\n",
       "</table>\n",
       "</div>"
      ],
      "text/plain": [
       "  Item_Identifier  Item_Weight Item_Fat_Content  Item_Visibility    Item_Type  \\\n",
       "0           FDW58       20.750          Low Fat         0.007565  Snack Foods   \n",
       "1           FDW14        8.300          Regular         0.038428        Dairy   \n",
       "2           NCN55       14.600          Low Fat         0.099575       Others   \n",
       "3           FDQ58        7.315          Low Fat         0.015388  Snack Foods   \n",
       "4           FDY38          NaN          Regular         0.118599        Dairy   \n",
       "\n",
       "   Item_MRP Outlet_Identifier Outlet_Size Outlet_Location_Type  \\\n",
       "0  107.8622            OUT049      Medium               Tier 1   \n",
       "1   87.3198            OUT017      Medium               Tier 2   \n",
       "2  241.7538            OUT010      Medium               Tier 3   \n",
       "3  155.0340            OUT017      Medium               Tier 2   \n",
       "4  234.2300            OUT027      Medium               Tier 3   \n",
       "\n",
       "         Outlet_Type  Outlet_age  Item_Weight_median  Item_Weight_random  \n",
       "0  Supermarket Type1          22              20.750              20.750  \n",
       "1  Supermarket Type1          14               8.300               8.300  \n",
       "2      Grocery Store          23              14.600              14.600  \n",
       "3  Supermarket Type1          14               7.315               7.315  \n",
       "4  Supermarket Type3          36              12.500              15.100  "
      ]
     },
     "execution_count": 202,
     "metadata": {},
     "output_type": "execute_result"
    }
   ],
   "source": [
    "impute_nan(new_data,'Item_Weight',median_new_data)\n",
    "new_data.head()"
   ]
  },
  {
   "cell_type": "code",
   "execution_count": 203,
   "id": "4d1e3aee",
   "metadata": {},
   "outputs": [
    {
     "data": {
      "text/plain": [
       "<matplotlib.legend.Legend at 0x1ea5dbdacd0>"
      ]
     },
     "execution_count": 203,
     "metadata": {},
     "output_type": "execute_result"
    },
    {
     "data": {
      "image/png": "[encoded data removed]",
      "text/plain": [
       "<Figure size 432x288 with 1 Axes>"
      ]
     },
     "metadata": {
      "needs_background": "light"
     },
     "output_type": "display_data"
    }
   ],
   "source": [
    "fig = plt.figure()\n",
    "ax = fig.add_subplot(111)\n",
    "new_data['Item_Weight'].plot(kind='kde', ax=ax)\n",
    "new_data.Item_Weight_median.plot(kind='kde', ax=ax, color='red')\n",
    "new_data.Item_Weight_random.plot(kind='kde', ax=ax, color='green')\n",
    "lines, labels = ax.get_legend_handles_labels()\n",
    "ax.legend(lines, labels, loc='best')"
   ]
  },
  {
   "cell_type": "markdown",
   "id": "48bc65f1",
   "metadata": {},
   "source": [
    "## it worked the same for testing , dropping 'Item_weight_median'"
   ]
  },
  {
   "cell_type": "code",
   "execution_count": 204,
   "id": "91c4f83c",
   "metadata": {},
   "outputs": [],
   "source": [
    "train=train.drop(['Item_Weight_median','Item_Weight'],axis=1)\n",
    "new_data=new_data.drop(['Item_Weight_median','Item_Weight'],axis=1)"
   ]
  },
  {
   "cell_type": "markdown",
   "id": "2e5c8a5c",
   "metadata": {},
   "source": [
    "Relation of every column with target variable (Analysing data)"
   ]
  },
  {
   "cell_type": "code",
   "execution_count": 205,
   "id": "029ded22",
   "metadata": {},
   "outputs": [],
   "source": [
    "# Initially, we check if the data is normally distributed or left/right skewed in order to avoid outlier"
   ]
  },
  {
   "cell_type": "code",
   "execution_count": 206,
   "id": "a4eb65d4",
   "metadata": {},
   "outputs": [
    {
     "name": "stderr",
     "output_type": "stream",
     "text": [
      "C:\\Users\\hp-pc\\anaconda3\\lib\\site-packages\\seaborn\\distributions.py:2557: FutureWarning: `distplot` is a deprecated function and will be removed in a future version. Please adapt your code to use either `displot` (a figure-level function with similar flexibility) or `histplot` (an axes-level function for histograms).\n",
      "  warnings.warn(msg, FutureWarning)\n"
     ]
    },
    {
     "data": {
      "text/plain": [
       "<AxesSubplot:xlabel='Item_Visibility', ylabel='Density'>"
      ]
     },
     "execution_count": 206,
     "metadata": {},
     "output_type": "execute_result"
    },
    {
     "data": {
      "image/png": "[encoded data removed]",
      "text/plain": [
       "<Figure size 432x288 with 1 Axes>"
      ]
     },
     "metadata": {
      "needs_background": "light"
     },
     "output_type": "display_data"
    }
   ],
   "source": [
    "sns.distplot(train['Item_Visibility'])"
   ]
  },
  {
   "cell_type": "markdown",
   "id": "20900c7e",
   "metadata": {},
   "source": [
    "# data is right skewed which shows that it is positively skewed\n",
    "Although the data is skewed and is touching the peak points, outlier removal might lead to loosing of sensitive information\n",
    "since this is a sales data , every information which increases/decreases the sales is equally important"
   ]
  },
  {
   "cell_type": "code",
   "execution_count": 207,
   "id": "df0bd140",
   "metadata": {},
   "outputs": [
    {
     "name": "stderr",
     "output_type": "stream",
     "text": [
      "C:\\Users\\hp-pc\\anaconda3\\lib\\site-packages\\seaborn\\distributions.py:2557: FutureWarning: `distplot` is a deprecated function and will be removed in a future version. Please adapt your code to use either `displot` (a figure-level function with similar flexibility) or `histplot` (an axes-level function for histograms).\n",
      "  warnings.warn(msg, FutureWarning)\n"
     ]
    },
    {
     "data": {
      "text/plain": [
       "<AxesSubplot:xlabel='Item_MRP', ylabel='Density'>"
      ]
     },
     "execution_count": 207,
     "metadata": {},
     "output_type": "execute_result"
    },
    {
     "data": {
      "image/png": "[encoded data removed]",
      "text/plain": [
       "<Figure size 432x288 with 1 Axes>"
      ]
     },
     "metadata": {
      "needs_background": "light"
     },
     "output_type": "display_data"
    }
   ],
   "source": [
    "sns.distplot(train['Item_MRP'])"
   ]
  },
  {
   "cell_type": "code",
   "execution_count": 208,
   "id": "3f0a46c0",
   "metadata": {},
   "outputs": [
    {
     "name": "stderr",
     "output_type": "stream",
     "text": [
      "C:\\Users\\hp-pc\\anaconda3\\lib\\site-packages\\seaborn\\distributions.py:2557: FutureWarning: `distplot` is a deprecated function and will be removed in a future version. Please adapt your code to use either `displot` (a figure-level function with similar flexibility) or `histplot` (an axes-level function for histograms).\n",
      "  warnings.warn(msg, FutureWarning)\n"
     ]
    },
    {
     "data": {
      "text/plain": [
       "<AxesSubplot:xlabel='Item_Outlet_Sales', ylabel='Density'>"
      ]
     },
     "execution_count": 208,
     "metadata": {},
     "output_type": "execute_result"
    },
    {
     "data": {
      "image/png": "[encoded data removed]",
      "text/plain": [
       "<Figure size 432x288 with 1 Axes>"
      ]
     },
     "metadata": {
      "needs_background": "light"
     },
     "output_type": "display_data"
    }
   ],
   "source": [
    "sns.distplot(train['Item_Outlet_Sales'])"
   ]
  },
  {
   "cell_type": "code",
   "execution_count": 209,
   "id": "ddfa2690",
   "metadata": {},
   "outputs": [],
   "source": [
    "## sales are positively skewed , also shows peakness"
   ]
  },
  {
   "cell_type": "code",
   "execution_count": 210,
   "id": "7c7be6f7",
   "metadata": {},
   "outputs": [
    {
     "name": "stderr",
     "output_type": "stream",
     "text": [
      "C:\\Users\\hp-pc\\anaconda3\\lib\\site-packages\\seaborn\\distributions.py:2557: FutureWarning: `distplot` is a deprecated function and will be removed in a future version. Please adapt your code to use either `displot` (a figure-level function with similar flexibility) or `histplot` (an axes-level function for histograms).\n",
      "  warnings.warn(msg, FutureWarning)\n"
     ]
    },
    {
     "data": {
      "text/plain": [
       "<AxesSubplot:xlabel='Outlet_age', ylabel='Density'>"
      ]
     },
     "execution_count": 210,
     "metadata": {},
     "output_type": "execute_result"
    },
    {
     "data": {
      "image/png": "[encoded data removed]",
      "text/plain": [
       "<Figure size 432x288 with 1 Axes>"
      ]
     },
     "metadata": {
      "needs_background": "light"
     },
     "output_type": "display_data"
    }
   ],
   "source": [
    "sns.distplot(train['Outlet_age'])"
   ]
  },
  {
   "cell_type": "code",
   "execution_count": 211,
   "id": "25cbc67b",
   "metadata": {},
   "outputs": [
    {
     "data": {
      "text/plain": [
       "<AxesSubplot:>"
      ]
     },
     "execution_count": 211,
     "metadata": {},
     "output_type": "execute_result"
    },
    {
     "data": {
      "image/png": "[encoded data removed]",
      "text/plain": [
       "<Figure size 432x288 with 2 Axes>"
      ]
     },
     "metadata": {
      "needs_background": "light"
     },
     "output_type": "display_data"
    }
   ],
   "source": [
    "import seaborn as sns\n",
    "import matplotlib as plt\n",
    "corr=train.iloc[:,1:].corr()\n",
    "top_features=corr.index\n",
    "sns.heatmap(train[top_features].corr(),annot=True)"
   ]
  },
  {
   "cell_type": "code",
   "execution_count": 212,
   "id": "93590c9c",
   "metadata": {},
   "outputs": [],
   "source": [
    "## in order to check relation between target variable, picking top correlated features with sales"
   ]
  },
  {
   "cell_type": "code",
   "execution_count": 213,
   "id": "3258ae0d",
   "metadata": {},
   "outputs": [
    {
     "data": {
      "text/plain": [
       "<AxesSubplot:xlabel='Item_MRP', ylabel='Item_Outlet_Sales'>"
      ]
     },
     "execution_count": 213,
     "metadata": {},
     "output_type": "execute_result"
    },
    {
     "data": {
      "image/png": "[encoded data removed]",
      "text/plain": [
       "<Figure size 432x288 with 1 Axes>"
      ]
     },
     "metadata": {
      "needs_background": "light"
     },
     "output_type": "display_data"
    }
   ],
   "source": [
    "sns.regplot(x='Item_MRP',y='Item_Outlet_Sales',data=train)"
   ]
  },
  {
   "cell_type": "code",
   "execution_count": 214,
   "id": "dcbd6631",
   "metadata": {},
   "outputs": [],
   "source": [
    "## as correlation said in the heatmap, as the mrp is increasing, sales are gradually increasing which shows good correlation"
   ]
  },
  {
   "cell_type": "code",
   "execution_count": 215,
   "id": "741ab709",
   "metadata": {},
   "outputs": [
    {
     "data": {
      "text/plain": [
       "<AxesSubplot:xlabel='Item_Visibility', ylabel='Item_Outlet_Sales'>"
      ]
     },
     "execution_count": 215,
     "metadata": {},
     "output_type": "execute_result"
    },
    {
     "data": {
      "image/png": "[encoded data removed]",
      "text/plain": [
       "<Figure size 432x288 with 1 Axes>"
      ]
     },
     "metadata": {
      "needs_background": "light"
     },
     "output_type": "display_data"
    }
   ],
   "source": [
    "sns.regplot(x='Item_Visibility',y='Item_Outlet_Sales',data=train)"
   ]
  },
  {
   "cell_type": "code",
   "execution_count": 216,
   "id": "c74dac86",
   "metadata": {},
   "outputs": [],
   "source": [
    "##Item_visibility does shows correlation in a negative direction"
   ]
  },
  {
   "cell_type": "code",
   "execution_count": 217,
   "id": "6a5a459f",
   "metadata": {},
   "outputs": [
    {
     "data": {
      "text/plain": [
       "<AxesSubplot:xlabel='Item_Weight_random', ylabel='Item_Outlet_Sales'>"
      ]
     },
     "execution_count": 217,
     "metadata": {},
     "output_type": "execute_result"
    },
    {
     "data": {
      "image/png": "[encoded data removed]",
      "text/plain": [
       "<Figure size 432x288 with 1 Axes>"
      ]
     },
     "metadata": {
      "needs_background": "light"
     },
     "output_type": "display_data"
    }
   ],
   "source": [
    "sns.regplot(x='Item_Weight_random',y='Item_Outlet_Sales',data=train)"
   ]
  },
  {
   "cell_type": "code",
   "execution_count": 218,
   "id": "b54e5bcc",
   "metadata": {},
   "outputs": [],
   "source": [
    "## very less correlation"
   ]
  },
  {
   "cell_type": "code",
   "execution_count": 219,
   "id": "c20ae5bc",
   "metadata": {},
   "outputs": [],
   "source": [
    "#ckecking possibilities to reduce dimensionality"
   ]
  },
  {
   "cell_type": "code",
   "execution_count": 220,
   "id": "dba6a3a7",
   "metadata": {},
   "outputs": [],
   "source": [
    "## removing unnecessary columns based on subjective knowledge\n",
    "train=train.drop(['Item_Identifier','Outlet_Identifier'],axis=1)\n",
    "new_data=new_data.drop(['Item_Identifier','Outlet_Identifier'],axis=1)"
   ]
  },
  {
   "cell_type": "markdown",
   "id": "9eabd2cb",
   "metadata": {},
   "source": [
    "# handling categorical variables"
   ]
  },
  {
   "cell_type": "code",
   "execution_count": 221,
   "id": "f385a4dd",
   "metadata": {},
   "outputs": [
    {
     "data": {
      "text/plain": [
       "Fruits and Vegetables    1232\n",
       "Snack Foods              1200\n",
       "Household                 910\n",
       "Frozen Foods              856\n",
       "Dairy                     682\n",
       "Canned                    649\n",
       "Baking Goods              648\n",
       "Health and Hygiene        520\n",
       "Soft Drinks               445\n",
       "Meat                      425\n",
       "Breads                    251\n",
       "Hard Drinks               214\n",
       "Others                    169\n",
       "Starchy Foods             148\n",
       "Breakfast                 110\n",
       "Seafood                    64\n",
       "Name: Item_Type, dtype: int64"
      ]
     },
     "execution_count": 221,
     "metadata": {},
     "output_type": "execute_result"
    }
   ],
   "source": [
    "train['Item_Type'].value_counts()"
   ]
  },
  {
   "cell_type": "code",
   "execution_count": 222,
   "id": "291c5420",
   "metadata": {},
   "outputs": [],
   "source": [
    "## Item_type has anyway very less correlation with sales and it has too many categorical variables, we can decrease them into categories which can reduce the dimensionality\n",
    "train['Item_Type']=train['Item_Type'].replace(['Fruits and Vegetables','Snack Foods','Household','Frozen Foods','Dairy','Canned','Baking Goods','Health and Hygiene','Soft Drinks','Meat','Breads','Hard Drinks','Starchy Foods','Breakfast','Seafood','Others'],['edible','edible','non-edible','edible','edible','edible','edible','non-edible','edible','edible','edible','edible','edible','edible','edible','non-edible'],inplace = False)\n",
    "new_data['Item_Type']=new_data['Item_Type'].replace(['Fruits and Vegetables','Snack Foods','Household','Frozen Foods','Dairy','Canned','Baking Goods','Health and Hygiene','Soft Drinks','Meat','Breads','Hard Drinks','Starchy Foods','Breakfast','Seafood','Others'],['edible','edible','non-edible','edible','edible','edible','edible','non-edible','edible','edible','edible','edible','edible','edible','edible','non-edible'],inplace = False)"
   ]
  },
  {
   "cell_type": "code",
   "execution_count": 223,
   "id": "df892060",
   "metadata": {},
   "outputs": [
    {
     "data": {
      "text/plain": [
       "edible        6924\n",
       "non-edible    1599\n",
       "Name: Item_Type, dtype: int64"
      ]
     },
     "execution_count": 223,
     "metadata": {},
     "output_type": "execute_result"
    }
   ],
   "source": [
    "train['Item_Type'].value_counts()"
   ]
  },
  {
   "cell_type": "code",
   "execution_count": 224,
   "id": "47c0fdd3",
   "metadata": {},
   "outputs": [
    {
     "data": {
      "text/html": [
       "<div>\n",
       "<style scoped>\n",
       "    .dataframe tbody tr th:only-of-type {\n",
       "        vertical-align: middle;\n",
       "    }\n",
       "\n",
       "    .dataframe tbody tr th {\n",
       "        vertical-align: top;\n",
       "    }\n",
       "\n",
       "    .dataframe thead th {\n",
       "        text-align: right;\n",
       "    }\n",
       "</style>\n",
       "<table border=\"1\" class=\"dataframe\">\n",
       "  <thead>\n",
       "    <tr style=\"text-align: right;\">\n",
       "      <th></th>\n",
       "      <th>Item_Fat_Content</th>\n",
       "      <th>Item_Visibility</th>\n",
       "      <th>Item_Type</th>\n",
       "      <th>Item_MRP</th>\n",
       "      <th>Outlet_Size</th>\n",
       "      <th>Outlet_Location_Type</th>\n",
       "      <th>Outlet_Type</th>\n",
       "      <th>Outlet_age</th>\n",
       "      <th>Item_Weight_random</th>\n",
       "    </tr>\n",
       "  </thead>\n",
       "  <tbody>\n",
       "    <tr>\n",
       "      <th>0</th>\n",
       "      <td>Low Fat</td>\n",
       "      <td>0.007565</td>\n",
       "      <td>edible</td>\n",
       "      <td>107.8622</td>\n",
       "      <td>Medium</td>\n",
       "      <td>Tier 1</td>\n",
       "      <td>Supermarket Type1</td>\n",
       "      <td>22</td>\n",
       "      <td>20.750</td>\n",
       "    </tr>\n",
       "    <tr>\n",
       "      <th>1</th>\n",
       "      <td>Regular</td>\n",
       "      <td>0.038428</td>\n",
       "      <td>edible</td>\n",
       "      <td>87.3198</td>\n",
       "      <td>Medium</td>\n",
       "      <td>Tier 2</td>\n",
       "      <td>Supermarket Type1</td>\n",
       "      <td>14</td>\n",
       "      <td>8.300</td>\n",
       "    </tr>\n",
       "    <tr>\n",
       "      <th>2</th>\n",
       "      <td>Low Fat</td>\n",
       "      <td>0.099575</td>\n",
       "      <td>non-edible</td>\n",
       "      <td>241.7538</td>\n",
       "      <td>Medium</td>\n",
       "      <td>Tier 3</td>\n",
       "      <td>Grocery Store</td>\n",
       "      <td>23</td>\n",
       "      <td>14.600</td>\n",
       "    </tr>\n",
       "    <tr>\n",
       "      <th>3</th>\n",
       "      <td>Low Fat</td>\n",
       "      <td>0.015388</td>\n",
       "      <td>edible</td>\n",
       "      <td>155.0340</td>\n",
       "      <td>Medium</td>\n",
       "      <td>Tier 2</td>\n",
       "      <td>Supermarket Type1</td>\n",
       "      <td>14</td>\n",
       "      <td>7.315</td>\n",
       "    </tr>\n",
       "    <tr>\n",
       "      <th>4</th>\n",
       "      <td>Regular</td>\n",
       "      <td>0.118599</td>\n",
       "      <td>edible</td>\n",
       "      <td>234.2300</td>\n",
       "      <td>Medium</td>\n",
       "      <td>Tier 3</td>\n",
       "      <td>Supermarket Type3</td>\n",
       "      <td>36</td>\n",
       "      <td>15.100</td>\n",
       "    </tr>\n",
       "  </tbody>\n",
       "</table>\n",
       "</div>"
      ],
      "text/plain": [
       "  Item_Fat_Content  Item_Visibility   Item_Type  Item_MRP Outlet_Size  \\\n",
       "0          Low Fat         0.007565      edible  107.8622      Medium   \n",
       "1          Regular         0.038428      edible   87.3198      Medium   \n",
       "2          Low Fat         0.099575  non-edible  241.7538      Medium   \n",
       "3          Low Fat         0.015388      edible  155.0340      Medium   \n",
       "4          Regular         0.118599      edible  234.2300      Medium   \n",
       "\n",
       "  Outlet_Location_Type        Outlet_Type  Outlet_age  Item_Weight_random  \n",
       "0               Tier 1  Supermarket Type1          22              20.750  \n",
       "1               Tier 2  Supermarket Type1          14               8.300  \n",
       "2               Tier 3      Grocery Store          23              14.600  \n",
       "3               Tier 2  Supermarket Type1          14               7.315  \n",
       "4               Tier 3  Supermarket Type3          36              15.100  "
      ]
     },
     "execution_count": 224,
     "metadata": {},
     "output_type": "execute_result"
    }
   ],
   "source": [
    "new_data.head()"
   ]
  },
  {
   "cell_type": "code",
   "execution_count": 225,
   "id": "6d6bf3c5",
   "metadata": {},
   "outputs": [
    {
     "data": {
      "text/html": [
       "<div>\n",
       "<style scoped>\n",
       "    .dataframe tbody tr th:only-of-type {\n",
       "        vertical-align: middle;\n",
       "    }\n",
       "\n",
       "    .dataframe tbody tr th {\n",
       "        vertical-align: top;\n",
       "    }\n",
       "\n",
       "    .dataframe thead th {\n",
       "        text-align: right;\n",
       "    }\n",
       "</style>\n",
       "<table border=\"1\" class=\"dataframe\">\n",
       "  <thead>\n",
       "    <tr style=\"text-align: right;\">\n",
       "      <th></th>\n",
       "      <th>Item_Fat_Content</th>\n",
       "      <th>Item_Visibility</th>\n",
       "      <th>Item_Type</th>\n",
       "      <th>Item_MRP</th>\n",
       "      <th>Outlet_Size</th>\n",
       "      <th>Outlet_Location_Type</th>\n",
       "      <th>Outlet_Type</th>\n",
       "      <th>Item_Outlet_Sales</th>\n",
       "      <th>Outlet_age</th>\n",
       "      <th>Item_Weight_random</th>\n",
       "    </tr>\n",
       "  </thead>\n",
       "  <tbody>\n",
       "    <tr>\n",
       "      <th>0</th>\n",
       "      <td>Low Fat</td>\n",
       "      <td>0.016047</td>\n",
       "      <td>edible</td>\n",
       "      <td>249.8092</td>\n",
       "      <td>Medium</td>\n",
       "      <td>Tier 1</td>\n",
       "      <td>Supermarket Type1</td>\n",
       "      <td>3735.1380</td>\n",
       "      <td>22</td>\n",
       "      <td>9.30</td>\n",
       "    </tr>\n",
       "    <tr>\n",
       "      <th>1</th>\n",
       "      <td>Regular</td>\n",
       "      <td>0.019278</td>\n",
       "      <td>edible</td>\n",
       "      <td>48.2692</td>\n",
       "      <td>Medium</td>\n",
       "      <td>Tier 3</td>\n",
       "      <td>Supermarket Type2</td>\n",
       "      <td>443.4228</td>\n",
       "      <td>12</td>\n",
       "      <td>5.92</td>\n",
       "    </tr>\n",
       "    <tr>\n",
       "      <th>2</th>\n",
       "      <td>Low Fat</td>\n",
       "      <td>0.016760</td>\n",
       "      <td>edible</td>\n",
       "      <td>141.6180</td>\n",
       "      <td>Medium</td>\n",
       "      <td>Tier 1</td>\n",
       "      <td>Supermarket Type1</td>\n",
       "      <td>2097.2700</td>\n",
       "      <td>22</td>\n",
       "      <td>17.50</td>\n",
       "    </tr>\n",
       "    <tr>\n",
       "      <th>3</th>\n",
       "      <td>Regular</td>\n",
       "      <td>0.000000</td>\n",
       "      <td>edible</td>\n",
       "      <td>182.0950</td>\n",
       "      <td>Medium</td>\n",
       "      <td>Tier 3</td>\n",
       "      <td>Grocery Store</td>\n",
       "      <td>732.3800</td>\n",
       "      <td>23</td>\n",
       "      <td>19.20</td>\n",
       "    </tr>\n",
       "    <tr>\n",
       "      <th>4</th>\n",
       "      <td>Low Fat</td>\n",
       "      <td>0.000000</td>\n",
       "      <td>non-edible</td>\n",
       "      <td>53.8614</td>\n",
       "      <td>High</td>\n",
       "      <td>Tier 3</td>\n",
       "      <td>Supermarket Type1</td>\n",
       "      <td>994.7052</td>\n",
       "      <td>34</td>\n",
       "      <td>8.93</td>\n",
       "    </tr>\n",
       "  </tbody>\n",
       "</table>\n",
       "</div>"
      ],
      "text/plain": [
       "  Item_Fat_Content  Item_Visibility   Item_Type  Item_MRP Outlet_Size  \\\n",
       "0          Low Fat         0.016047      edible  249.8092      Medium   \n",
       "1          Regular         0.019278      edible   48.2692      Medium   \n",
       "2          Low Fat         0.016760      edible  141.6180      Medium   \n",
       "3          Regular         0.000000      edible  182.0950      Medium   \n",
       "4          Low Fat         0.000000  non-edible   53.8614        High   \n",
       "\n",
       "  Outlet_Location_Type        Outlet_Type  Item_Outlet_Sales  Outlet_age  \\\n",
       "0               Tier 1  Supermarket Type1          3735.1380          22   \n",
       "1               Tier 3  Supermarket Type2           443.4228          12   \n",
       "2               Tier 1  Supermarket Type1          2097.2700          22   \n",
       "3               Tier 3      Grocery Store           732.3800          23   \n",
       "4               Tier 3  Supermarket Type1           994.7052          34   \n",
       "\n",
       "   Item_Weight_random  \n",
       "0                9.30  \n",
       "1                5.92  \n",
       "2               17.50  \n",
       "3               19.20  \n",
       "4                8.93  "
      ]
     },
     "execution_count": 225,
     "metadata": {},
     "output_type": "execute_result"
    }
   ],
   "source": [
    "train.head()"
   ]
  },
  {
   "cell_type": "code",
   "execution_count": 226,
   "id": "29fbc16e",
   "metadata": {},
   "outputs": [],
   "source": [
    "X=train[['Item_Fat_Content','Item_Visibility','Item_Type','Item_MRP','Outlet_Size','Outlet_Location_Type','Outlet_Type','Outlet_age','Item_Weight_random']]\n",
    "y=train['Item_Outlet_Sales']"
   ]
  },
  {
   "cell_type": "code",
   "execution_count": 227,
   "id": "778459ee",
   "metadata": {},
   "outputs": [
    {
     "data": {
      "text/plain": [
       "['Item_Fat_Content',\n",
       " 'Item_Type',\n",
       " 'Outlet_Size',\n",
       " 'Outlet_Location_Type',\n",
       " 'Outlet_Type']"
      ]
     },
     "execution_count": 227,
     "metadata": {},
     "output_type": "execute_result"
    }
   ],
   "source": [
    "categorical_columns = X.describe(include='object').columns.to_list()\n",
    "categorical_columns"
   ]
  },
  {
   "cell_type": "code",
   "execution_count": 228,
   "id": "fcd8f5fa",
   "metadata": {},
   "outputs": [],
   "source": [
    "X= pd.get_dummies(X,categorical_columns)"
   ]
  },
  {
   "cell_type": "code",
   "execution_count": 229,
   "id": "d828aa05",
   "metadata": {},
   "outputs": [],
   "source": [
    "from sklearn.model_selection import train_test_split\n",
    "X_train, X_test, y_train, y_test = train_test_split(X, y, test_size=0.20, random_state=42)"
   ]
  },
  {
   "cell_type": "code",
   "execution_count": 230,
   "id": "a521b319",
   "metadata": {},
   "outputs": [
    {
     "data": {
      "text/html": [
       "<div>\n",
       "<style scoped>\n",
       "    .dataframe tbody tr th:only-of-type {\n",
       "        vertical-align: middle;\n",
       "    }\n",
       "\n",
       "    .dataframe tbody tr th {\n",
       "        vertical-align: top;\n",
       "    }\n",
       "\n",
       "    .dataframe thead th {\n",
       "        text-align: right;\n",
       "    }\n",
       "</style>\n",
       "<table border=\"1\" class=\"dataframe\">\n",
       "  <thead>\n",
       "    <tr style=\"text-align: right;\">\n",
       "      <th></th>\n",
       "      <th>Item_Visibility</th>\n",
       "      <th>Item_MRP</th>\n",
       "      <th>Outlet_age</th>\n",
       "      <th>Item_Weight_random</th>\n",
       "      <th>Item_Fat_Content_Low Fat</th>\n",
       "      <th>Item_Fat_Content_Regular</th>\n",
       "      <th>Item_Type_edible</th>\n",
       "      <th>Item_Type_non-edible</th>\n",
       "      <th>Outlet_Size_High</th>\n",
       "      <th>Outlet_Size_Medium</th>\n",
       "      <th>Outlet_Size_Small</th>\n",
       "      <th>Outlet_Location_Type_Tier 1</th>\n",
       "      <th>Outlet_Location_Type_Tier 2</th>\n",
       "      <th>Outlet_Location_Type_Tier 3</th>\n",
       "      <th>Outlet_Type_Grocery Store</th>\n",
       "      <th>Outlet_Type_Supermarket Type1</th>\n",
       "      <th>Outlet_Type_Supermarket Type2</th>\n",
       "      <th>Outlet_Type_Supermarket Type3</th>\n",
       "    </tr>\n",
       "  </thead>\n",
       "  <tbody>\n",
       "    <tr>\n",
       "      <th>0</th>\n",
       "      <td>0.016047</td>\n",
       "      <td>249.8092</td>\n",
       "      <td>22</td>\n",
       "      <td>9.30</td>\n",
       "      <td>1</td>\n",
       "      <td>0</td>\n",
       "      <td>1</td>\n",
       "      <td>0</td>\n",
       "      <td>0</td>\n",
       "      <td>1</td>\n",
       "      <td>0</td>\n",
       "      <td>1</td>\n",
       "      <td>0</td>\n",
       "      <td>0</td>\n",
       "      <td>0</td>\n",
       "      <td>1</td>\n",
       "      <td>0</td>\n",
       "      <td>0</td>\n",
       "    </tr>\n",
       "    <tr>\n",
       "      <th>1</th>\n",
       "      <td>0.019278</td>\n",
       "      <td>48.2692</td>\n",
       "      <td>12</td>\n",
       "      <td>5.92</td>\n",
       "      <td>0</td>\n",
       "      <td>1</td>\n",
       "      <td>1</td>\n",
       "      <td>0</td>\n",
       "      <td>0</td>\n",
       "      <td>1</td>\n",
       "      <td>0</td>\n",
       "      <td>0</td>\n",
       "      <td>0</td>\n",
       "      <td>1</td>\n",
       "      <td>0</td>\n",
       "      <td>0</td>\n",
       "      <td>1</td>\n",
       "      <td>0</td>\n",
       "    </tr>\n",
       "    <tr>\n",
       "      <th>2</th>\n",
       "      <td>0.016760</td>\n",
       "      <td>141.6180</td>\n",
       "      <td>22</td>\n",
       "      <td>17.50</td>\n",
       "      <td>1</td>\n",
       "      <td>0</td>\n",
       "      <td>1</td>\n",
       "      <td>0</td>\n",
       "      <td>0</td>\n",
       "      <td>1</td>\n",
       "      <td>0</td>\n",
       "      <td>1</td>\n",
       "      <td>0</td>\n",
       "      <td>0</td>\n",
       "      <td>0</td>\n",
       "      <td>1</td>\n",
       "      <td>0</td>\n",
       "      <td>0</td>\n",
       "    </tr>\n",
       "    <tr>\n",
       "      <th>3</th>\n",
       "      <td>0.000000</td>\n",
       "      <td>182.0950</td>\n",
       "      <td>23</td>\n",
       "      <td>19.20</td>\n",
       "      <td>0</td>\n",
       "      <td>1</td>\n",
       "      <td>1</td>\n",
       "      <td>0</td>\n",
       "      <td>0</td>\n",
       "      <td>1</td>\n",
       "      <td>0</td>\n",
       "      <td>0</td>\n",
       "      <td>0</td>\n",
       "      <td>1</td>\n",
       "      <td>1</td>\n",
       "      <td>0</td>\n",
       "      <td>0</td>\n",
       "      <td>0</td>\n",
       "    </tr>\n",
       "    <tr>\n",
       "      <th>4</th>\n",
       "      <td>0.000000</td>\n",
       "      <td>53.8614</td>\n",
       "      <td>34</td>\n",
       "      <td>8.93</td>\n",
       "      <td>1</td>\n",
       "      <td>0</td>\n",
       "      <td>0</td>\n",
       "      <td>1</td>\n",
       "      <td>1</td>\n",
       "      <td>0</td>\n",
       "      <td>0</td>\n",
       "      <td>0</td>\n",
       "      <td>0</td>\n",
       "      <td>1</td>\n",
       "      <td>0</td>\n",
       "      <td>1</td>\n",
       "      <td>0</td>\n",
       "      <td>0</td>\n",
       "    </tr>\n",
       "  </tbody>\n",
       "</table>\n",
       "</div>"
      ],
      "text/plain": [
       "   Item_Visibility  Item_MRP  Outlet_age  Item_Weight_random  \\\n",
       "0         0.016047  249.8092          22                9.30   \n",
       "1         0.019278   48.2692          12                5.92   \n",
       "2         0.016760  141.6180          22               17.50   \n",
       "3         0.000000  182.0950          23               19.20   \n",
       "4         0.000000   53.8614          34                8.93   \n",
       "\n",
       "   Item_Fat_Content_Low Fat  Item_Fat_Content_Regular  Item_Type_edible  \\\n",
       "0                         1                         0                 1   \n",
       "1                         0                         1                 1   \n",
       "2                         1                         0                 1   \n",
       "3                         0                         1                 1   \n",
       "4                         1                         0                 0   \n",
       "\n",
       "   Item_Type_non-edible  Outlet_Size_High  Outlet_Size_Medium  \\\n",
       "0                     0                 0                   1   \n",
       "1                     0                 0                   1   \n",
       "2                     0                 0                   1   \n",
       "3                     0                 0                   1   \n",
       "4                     1                 1                   0   \n",
       "\n",
       "   Outlet_Size_Small  Outlet_Location_Type_Tier 1  \\\n",
       "0                  0                            1   \n",
       "1                  0                            0   \n",
       "2                  0                            1   \n",
       "3                  0                            0   \n",
       "4                  0                            0   \n",
       "\n",
       "   Outlet_Location_Type_Tier 2  Outlet_Location_Type_Tier 3  \\\n",
       "0                            0                            0   \n",
       "1                            0                            1   \n",
       "2                            0                            0   \n",
       "3                            0                            1   \n",
       "4                            0                            1   \n",
       "\n",
       "   Outlet_Type_Grocery Store  Outlet_Type_Supermarket Type1  \\\n",
       "0                          0                              1   \n",
       "1                          0                              0   \n",
       "2                          0                              1   \n",
       "3                          1                              0   \n",
       "4                          0                              1   \n",
       "\n",
       "   Outlet_Type_Supermarket Type2  Outlet_Type_Supermarket Type3  \n",
       "0                              0                              0  \n",
       "1                              1                              0  \n",
       "2                              0                              0  \n",
       "3                              0                              0  \n",
       "4                              0                              0  "
      ]
     },
     "execution_count": 230,
     "metadata": {},
     "output_type": "execute_result"
    }
   ],
   "source": [
    "X.head()"
   ]
  },
  {
   "cell_type": "code",
   "execution_count": 231,
   "id": "9e1dfdf3",
   "metadata": {},
   "outputs": [
    {
     "data": {
      "text/plain": [
       "['Item_Fat_Content',\n",
       " 'Item_Type',\n",
       " 'Outlet_Size',\n",
       " 'Outlet_Location_Type',\n",
       " 'Outlet_Type']"
      ]
     },
     "execution_count": 231,
     "metadata": {},
     "output_type": "execute_result"
    }
   ],
   "source": [
    "categorical_columns2 = new_data.describe(include='object').columns.to_list()\n",
    "categorical_columns2"
   ]
  },
  {
   "cell_type": "code",
   "execution_count": 232,
   "id": "2aff3531",
   "metadata": {},
   "outputs": [],
   "source": [
    "new_data= pd.get_dummies(new_data,categorical_columns2)"
   ]
  },
  {
   "cell_type": "code",
   "execution_count": 233,
   "id": "e09cc197",
   "metadata": {},
   "outputs": [
    {
     "data": {
      "text/html": [
       "<div>\n",
       "<style scoped>\n",
       "    .dataframe tbody tr th:only-of-type {\n",
       "        vertical-align: middle;\n",
       "    }\n",
       "\n",
       "    .dataframe tbody tr th {\n",
       "        vertical-align: top;\n",
       "    }\n",
       "\n",
       "    .dataframe thead th {\n",
       "        text-align: right;\n",
       "    }\n",
       "</style>\n",
       "<table border=\"1\" class=\"dataframe\">\n",
       "  <thead>\n",
       "    <tr style=\"text-align: right;\">\n",
       "      <th></th>\n",
       "      <th>Item_Visibility</th>\n",
       "      <th>Item_MRP</th>\n",
       "      <th>Outlet_age</th>\n",
       "      <th>Item_Weight_random</th>\n",
       "      <th>Item_Fat_Content_Low Fat</th>\n",
       "      <th>Item_Fat_Content_Regular</th>\n",
       "      <th>Item_Type_edible</th>\n",
       "      <th>Item_Type_non-edible</th>\n",
       "      <th>Outlet_Size_High</th>\n",
       "      <th>Outlet_Size_Medium</th>\n",
       "      <th>Outlet_Size_Small</th>\n",
       "      <th>Outlet_Location_Type_Tier 1</th>\n",
       "      <th>Outlet_Location_Type_Tier 2</th>\n",
       "      <th>Outlet_Location_Type_Tier 3</th>\n",
       "      <th>Outlet_Type_Grocery Store</th>\n",
       "      <th>Outlet_Type_Supermarket Type1</th>\n",
       "      <th>Outlet_Type_Supermarket Type2</th>\n",
       "      <th>Outlet_Type_Supermarket Type3</th>\n",
       "    </tr>\n",
       "  </thead>\n",
       "  <tbody>\n",
       "    <tr>\n",
       "      <th>0</th>\n",
       "      <td>0.007565</td>\n",
       "      <td>107.8622</td>\n",
       "      <td>22</td>\n",
       "      <td>20.750</td>\n",
       "      <td>1</td>\n",
       "      <td>0</td>\n",
       "      <td>1</td>\n",
       "      <td>0</td>\n",
       "      <td>0</td>\n",
       "      <td>1</td>\n",
       "      <td>0</td>\n",
       "      <td>1</td>\n",
       "      <td>0</td>\n",
       "      <td>0</td>\n",
       "      <td>0</td>\n",
       "      <td>1</td>\n",
       "      <td>0</td>\n",
       "      <td>0</td>\n",
       "    </tr>\n",
       "    <tr>\n",
       "      <th>1</th>\n",
       "      <td>0.038428</td>\n",
       "      <td>87.3198</td>\n",
       "      <td>14</td>\n",
       "      <td>8.300</td>\n",
       "      <td>0</td>\n",
       "      <td>1</td>\n",
       "      <td>1</td>\n",
       "      <td>0</td>\n",
       "      <td>0</td>\n",
       "      <td>1</td>\n",
       "      <td>0</td>\n",
       "      <td>0</td>\n",
       "      <td>1</td>\n",
       "      <td>0</td>\n",
       "      <td>0</td>\n",
       "      <td>1</td>\n",
       "      <td>0</td>\n",
       "      <td>0</td>\n",
       "    </tr>\n",
       "    <tr>\n",
       "      <th>2</th>\n",
       "      <td>0.099575</td>\n",
       "      <td>241.7538</td>\n",
       "      <td>23</td>\n",
       "      <td>14.600</td>\n",
       "      <td>1</td>\n",
       "      <td>0</td>\n",
       "      <td>0</td>\n",
       "      <td>1</td>\n",
       "      <td>0</td>\n",
       "      <td>1</td>\n",
       "      <td>0</td>\n",
       "      <td>0</td>\n",
       "      <td>0</td>\n",
       "      <td>1</td>\n",
       "      <td>1</td>\n",
       "      <td>0</td>\n",
       "      <td>0</td>\n",
       "      <td>0</td>\n",
       "    </tr>\n",
       "    <tr>\n",
       "      <th>3</th>\n",
       "      <td>0.015388</td>\n",
       "      <td>155.0340</td>\n",
       "      <td>14</td>\n",
       "      <td>7.315</td>\n",
       "      <td>1</td>\n",
       "      <td>0</td>\n",
       "      <td>1</td>\n",
       "      <td>0</td>\n",
       "      <td>0</td>\n",
       "      <td>1</td>\n",
       "      <td>0</td>\n",
       "      <td>0</td>\n",
       "      <td>1</td>\n",
       "      <td>0</td>\n",
       "      <td>0</td>\n",
       "      <td>1</td>\n",
       "      <td>0</td>\n",
       "      <td>0</td>\n",
       "    </tr>\n",
       "    <tr>\n",
       "      <th>4</th>\n",
       "      <td>0.118599</td>\n",
       "      <td>234.2300</td>\n",
       "      <td>36</td>\n",
       "      <td>15.100</td>\n",
       "      <td>0</td>\n",
       "      <td>1</td>\n",
       "      <td>1</td>\n",
       "      <td>0</td>\n",
       "      <td>0</td>\n",
       "      <td>1</td>\n",
       "      <td>0</td>\n",
       "      <td>0</td>\n",
       "      <td>0</td>\n",
       "      <td>1</td>\n",
       "      <td>0</td>\n",
       "      <td>0</td>\n",
       "      <td>0</td>\n",
       "      <td>1</td>\n",
       "    </tr>\n",
       "  </tbody>\n",
       "</table>\n",
       "</div>"
      ],
      "text/plain": [
       "   Item_Visibility  Item_MRP  Outlet_age  Item_Weight_random  \\\n",
       "0         0.007565  107.8622          22              20.750   \n",
       "1         0.038428   87.3198          14               8.300   \n",
       "2         0.099575  241.7538          23              14.600   \n",
       "3         0.015388  155.0340          14               7.315   \n",
       "4         0.118599  234.2300          36              15.100   \n",
       "\n",
       "   Item_Fat_Content_Low Fat  Item_Fat_Content_Regular  Item_Type_edible  \\\n",
       "0                         1                         0                 1   \n",
       "1                         0                         1                 1   \n",
       "2                         1                         0                 0   \n",
       "3                         1                         0                 1   \n",
       "4                         0                         1                 1   \n",
       "\n",
       "   Item_Type_non-edible  Outlet_Size_High  Outlet_Size_Medium  \\\n",
       "0                     0                 0                   1   \n",
       "1                     0                 0                   1   \n",
       "2                     1                 0                   1   \n",
       "3                     0                 0                   1   \n",
       "4                     0                 0                   1   \n",
       "\n",
       "   Outlet_Size_Small  Outlet_Location_Type_Tier 1  \\\n",
       "0                  0                            1   \n",
       "1                  0                            0   \n",
       "2                  0                            0   \n",
       "3                  0                            0   \n",
       "4                  0                            0   \n",
       "\n",
       "   Outlet_Location_Type_Tier 2  Outlet_Location_Type_Tier 3  \\\n",
       "0                            0                            0   \n",
       "1                            1                            0   \n",
       "2                            0                            1   \n",
       "3                            1                            0   \n",
       "4                            0                            1   \n",
       "\n",
       "   Outlet_Type_Grocery Store  Outlet_Type_Supermarket Type1  \\\n",
       "0                          0                              1   \n",
       "1                          0                              1   \n",
       "2                          1                              0   \n",
       "3                          0                              1   \n",
       "4                          0                              0   \n",
       "\n",
       "   Outlet_Type_Supermarket Type2  Outlet_Type_Supermarket Type3  \n",
       "0                              0                              0  \n",
       "1                              0                              0  \n",
       "2                              0                              0  \n",
       "3                              0                              0  \n",
       "4                              0                              1  "
      ]
     },
     "execution_count": 233,
     "metadata": {},
     "output_type": "execute_result"
    }
   ],
   "source": [
    "new_data.head()"
   ]
  },
  {
   "cell_type": "markdown",
   "id": "46a32306",
   "metadata": {},
   "source": [
    "# FEATURE SELECTION"
   ]
  },
  {
   "cell_type": "code",
   "execution_count": 234,
   "id": "4410ee16",
   "metadata": {},
   "outputs": [
    {
     "data": {
      "text/plain": [
       "ExtraTreesRegressor()"
      ]
     },
     "execution_count": 234,
     "metadata": {},
     "output_type": "execute_result"
    }
   ],
   "source": [
    "from sklearn.ensemble import ExtraTreesRegressor\n",
    "import matplotlib.pyplot as plt\n",
    "model = ExtraTreesRegressor()\n",
    "model.fit(X_train,y_train)"
   ]
  },
  {
   "cell_type": "code",
   "execution_count": 235,
   "id": "7708a244",
   "metadata": {},
   "outputs": [],
   "source": [
    "rank=model.feature_importances_"
   ]
  },
  {
   "cell_type": "code",
   "execution_count": 236,
   "id": "e54987e6",
   "metadata": {},
   "outputs": [
    {
     "data": {
      "image/png": "[encoded data removed]",
      "text/plain": [
       "<Figure size 432x288 with 1 Axes>"
      ]
     },
     "metadata": {
      "needs_background": "light"
     },
     "output_type": "display_data"
    }
   ],
   "source": [
    "feat_importances = pd.Series(model.feature_importances_, index=X_train.columns)\n",
    "feat_importances.nlargest(18).plot(kind='barh')\n",
    "plt.show()"
   ]
  },
  {
   "cell_type": "code",
   "execution_count": 237,
   "id": "35df3249",
   "metadata": {},
   "outputs": [],
   "source": [
    "#Dropping unnecessary features that have below 0% can be done but in this case, since they are giving 0.002% information , i did not want to loose any minute information as well. \n",
    "#therefore no dropping is perfomed"
   ]
  },
  {
   "cell_type": "code",
   "execution_count": 238,
   "id": "0a822f6d",
   "metadata": {},
   "outputs": [
    {
     "data": {
      "text/plain": [
       "(6818, 18)"
      ]
     },
     "execution_count": 238,
     "metadata": {},
     "output_type": "execute_result"
    }
   ],
   "source": [
    "X_train.shape"
   ]
  },
  {
   "cell_type": "code",
   "execution_count": 239,
   "id": "bb0c3c62",
   "metadata": {},
   "outputs": [
    {
     "data": {
      "text/plain": [
       "Item_MRP                         0.451301\n",
       "Outlet_Type_Grocery Store        0.178467\n",
       "Item_Visibility                  0.103282\n",
       "Item_Weight_random               0.099696\n",
       "Outlet_Type_Supermarket Type3    0.072914\n",
       "Outlet_age                       0.018417\n",
       "Item_Fat_Content_Regular         0.010272\n",
       "Item_Fat_Content_Low Fat         0.009728\n",
       "Outlet_Size_Small                0.008295\n",
       "Item_Type_non-edible             0.008184\n",
       "Item_Type_edible                 0.007967\n",
       "Outlet_Size_Medium               0.007945\n",
       "Outlet_Location_Type_Tier 2      0.007103\n",
       "Outlet_Location_Type_Tier 1      0.006851\n",
       "Outlet_Location_Type_Tier 3      0.002801\n",
       "Outlet_Type_Supermarket Type1    0.002582\n",
       "Outlet_Size_High                 0.002219\n",
       "Outlet_Type_Supermarket Type2    0.001976\n",
       "dtype: float64"
      ]
     },
     "execution_count": 239,
     "metadata": {},
     "output_type": "execute_result"
    }
   ],
   "source": [
    "imp_fea=feat_importances.nlargest(18)\n",
    "imp_fea"
   ]
  },
  {
   "cell_type": "markdown",
   "id": "c6a7c735",
   "metadata": {},
   "source": [
    "# SCALING"
   ]
  },
  {
   "cell_type": "code",
   "execution_count": 240,
   "id": "9d1a9f4a",
   "metadata": {},
   "outputs": [],
   "source": [
    "from sklearn.preprocessing import StandardScaler\n",
    "sc=StandardScaler()"
   ]
  },
  {
   "cell_type": "code",
   "execution_count": 241,
   "id": "e89f3f09",
   "metadata": {},
   "outputs": [],
   "source": [
    "X_train=sc.fit_transform(X_train)\n",
    "X_train=pd.DataFrame(X_train,columns=X_test.columns)\n",
    "\n",
    "X_test=sc.transform(X_test)\n",
    "X_test=pd.DataFrame(X_test,columns=X_train.columns)"
   ]
  },
  {
   "cell_type": "code",
   "execution_count": 242,
   "id": "016b1cd5",
   "metadata": {},
   "outputs": [
    {
     "data": {
      "text/html": [
       "<div>\n",
       "<style scoped>\n",
       "    .dataframe tbody tr th:only-of-type {\n",
       "        vertical-align: middle;\n",
       "    }\n",
       "\n",
       "    .dataframe tbody tr th {\n",
       "        vertical-align: top;\n",
       "    }\n",
       "\n",
       "    .dataframe thead th {\n",
       "        text-align: right;\n",
       "    }\n",
       "</style>\n",
       "<table border=\"1\" class=\"dataframe\">\n",
       "  <thead>\n",
       "    <tr style=\"text-align: right;\">\n",
       "      <th></th>\n",
       "      <th>Item_Visibility</th>\n",
       "      <th>Item_MRP</th>\n",
       "      <th>Outlet_age</th>\n",
       "      <th>Item_Weight_random</th>\n",
       "      <th>Item_Fat_Content_Low Fat</th>\n",
       "      <th>Item_Fat_Content_Regular</th>\n",
       "      <th>Item_Type_edible</th>\n",
       "      <th>Item_Type_non-edible</th>\n",
       "      <th>Outlet_Size_High</th>\n",
       "      <th>Outlet_Size_Medium</th>\n",
       "      <th>Outlet_Size_Small</th>\n",
       "      <th>Outlet_Location_Type_Tier 1</th>\n",
       "      <th>Outlet_Location_Type_Tier 2</th>\n",
       "      <th>Outlet_Location_Type_Tier 3</th>\n",
       "      <th>Outlet_Type_Grocery Store</th>\n",
       "      <th>Outlet_Type_Supermarket Type1</th>\n",
       "      <th>Outlet_Type_Supermarket Type2</th>\n",
       "      <th>Outlet_Type_Supermarket Type3</th>\n",
       "    </tr>\n",
       "  </thead>\n",
       "  <tbody>\n",
       "    <tr>\n",
       "      <th>0</th>\n",
       "      <td>-0.600703</td>\n",
       "      <td>0.470709</td>\n",
       "      <td>-0.136169</td>\n",
       "      <td>-0.724616</td>\n",
       "      <td>-1.344216</td>\n",
       "      <td>1.344216</td>\n",
       "      <td>0.483533</td>\n",
       "      <td>-0.483533</td>\n",
       "      <td>-0.349985</td>\n",
       "      <td>0.797369</td>\n",
       "      <td>-0.622920</td>\n",
       "      <td>1.623061</td>\n",
       "      <td>-0.699265</td>\n",
       "      <td>-0.810472</td>\n",
       "      <td>-0.379673</td>\n",
       "      <td>0.73042</td>\n",
       "      <td>-0.352093</td>\n",
       "      <td>-0.354457</td>\n",
       "    </tr>\n",
       "    <tr>\n",
       "      <th>1</th>\n",
       "      <td>-0.362159</td>\n",
       "      <td>0.457877</td>\n",
       "      <td>-0.493521</td>\n",
       "      <td>1.111785</td>\n",
       "      <td>0.743928</td>\n",
       "      <td>-0.743928</td>\n",
       "      <td>-2.068113</td>\n",
       "      <td>2.068113</td>\n",
       "      <td>-0.349985</td>\n",
       "      <td>0.797369</td>\n",
       "      <td>-0.622920</td>\n",
       "      <td>-0.616120</td>\n",
       "      <td>1.430073</td>\n",
       "      <td>-0.810472</td>\n",
       "      <td>-0.379673</td>\n",
       "      <td>0.73042</td>\n",
       "      <td>-0.352093</td>\n",
       "      <td>-0.354457</td>\n",
       "    </tr>\n",
       "    <tr>\n",
       "      <th>2</th>\n",
       "      <td>0.194933</td>\n",
       "      <td>-0.482625</td>\n",
       "      <td>0.102066</td>\n",
       "      <td>1.025366</td>\n",
       "      <td>-1.344216</td>\n",
       "      <td>1.344216</td>\n",
       "      <td>0.483533</td>\n",
       "      <td>-0.483533</td>\n",
       "      <td>-0.349985</td>\n",
       "      <td>-1.254125</td>\n",
       "      <td>1.605343</td>\n",
       "      <td>1.623061</td>\n",
       "      <td>-0.699265</td>\n",
       "      <td>-0.810472</td>\n",
       "      <td>-0.379673</td>\n",
       "      <td>0.73042</td>\n",
       "      <td>-0.352093</td>\n",
       "      <td>-0.354457</td>\n",
       "    </tr>\n",
       "    <tr>\n",
       "      <th>3</th>\n",
       "      <td>-0.704944</td>\n",
       "      <td>-1.603553</td>\n",
       "      <td>-0.493521</td>\n",
       "      <td>-0.978471</td>\n",
       "      <td>0.743928</td>\n",
       "      <td>-0.743928</td>\n",
       "      <td>0.483533</td>\n",
       "      <td>-0.483533</td>\n",
       "      <td>-0.349985</td>\n",
       "      <td>0.797369</td>\n",
       "      <td>-0.622920</td>\n",
       "      <td>-0.616120</td>\n",
       "      <td>1.430073</td>\n",
       "      <td>-0.810472</td>\n",
       "      <td>-0.379673</td>\n",
       "      <td>0.73042</td>\n",
       "      <td>-0.352093</td>\n",
       "      <td>-0.354457</td>\n",
       "    </tr>\n",
       "    <tr>\n",
       "      <th>4</th>\n",
       "      <td>1.383177</td>\n",
       "      <td>0.218375</td>\n",
       "      <td>0.102066</td>\n",
       "      <td>-0.000858</td>\n",
       "      <td>0.743928</td>\n",
       "      <td>-0.743928</td>\n",
       "      <td>0.483533</td>\n",
       "      <td>-0.483533</td>\n",
       "      <td>-0.349985</td>\n",
       "      <td>-1.254125</td>\n",
       "      <td>1.605343</td>\n",
       "      <td>1.623061</td>\n",
       "      <td>-0.699265</td>\n",
       "      <td>-0.810472</td>\n",
       "      <td>-0.379673</td>\n",
       "      <td>0.73042</td>\n",
       "      <td>-0.352093</td>\n",
       "      <td>-0.354457</td>\n",
       "    </tr>\n",
       "  </tbody>\n",
       "</table>\n",
       "</div>"
      ],
      "text/plain": [
       "   Item_Visibility  Item_MRP  Outlet_age  Item_Weight_random  \\\n",
       "0        -0.600703  0.470709   -0.136169           -0.724616   \n",
       "1        -0.362159  0.457877   -0.493521            1.111785   \n",
       "2         0.194933 -0.482625    0.102066            1.025366   \n",
       "3        -0.704944 -1.603553   -0.493521           -0.978471   \n",
       "4         1.383177  0.218375    0.102066           -0.000858   \n",
       "\n",
       "   Item_Fat_Content_Low Fat  Item_Fat_Content_Regular  Item_Type_edible  \\\n",
       "0                 -1.344216                  1.344216          0.483533   \n",
       "1                  0.743928                 -0.743928         -2.068113   \n",
       "2                 -1.344216                  1.344216          0.483533   \n",
       "3                  0.743928                 -0.743928          0.483533   \n",
       "4                  0.743928                 -0.743928          0.483533   \n",
       "\n",
       "   Item_Type_non-edible  Outlet_Size_High  Outlet_Size_Medium  \\\n",
       "0             -0.483533         -0.349985            0.797369   \n",
       "1              2.068113         -0.349985            0.797369   \n",
       "2             -0.483533         -0.349985           -1.254125   \n",
       "3             -0.483533         -0.349985            0.797369   \n",
       "4             -0.483533         -0.349985           -1.254125   \n",
       "\n",
       "   Outlet_Size_Small  Outlet_Location_Type_Tier 1  \\\n",
       "0          -0.622920                     1.623061   \n",
       "1          -0.622920                    -0.616120   \n",
       "2           1.605343                     1.623061   \n",
       "3          -0.622920                    -0.616120   \n",
       "4           1.605343                     1.623061   \n",
       "\n",
       "   Outlet_Location_Type_Tier 2  Outlet_Location_Type_Tier 3  \\\n",
       "0                    -0.699265                    -0.810472   \n",
       "1                     1.430073                    -0.810472   \n",
       "2                    -0.699265                    -0.810472   \n",
       "3                     1.430073                    -0.810472   \n",
       "4                    -0.699265                    -0.810472   \n",
       "\n",
       "   Outlet_Type_Grocery Store  Outlet_Type_Supermarket Type1  \\\n",
       "0                  -0.379673                        0.73042   \n",
       "1                  -0.379673                        0.73042   \n",
       "2                  -0.379673                        0.73042   \n",
       "3                  -0.379673                        0.73042   \n",
       "4                  -0.379673                        0.73042   \n",
       "\n",
       "   Outlet_Type_Supermarket Type2  Outlet_Type_Supermarket Type3  \n",
       "0                      -0.352093                      -0.354457  \n",
       "1                      -0.352093                      -0.354457  \n",
       "2                      -0.352093                      -0.354457  \n",
       "3                      -0.352093                      -0.354457  \n",
       "4                      -0.352093                      -0.354457  "
      ]
     },
     "execution_count": 242,
     "metadata": {},
     "output_type": "execute_result"
    }
   ],
   "source": [
    "X_train.head()"
   ]
  },
  {
   "cell_type": "code",
   "execution_count": 243,
   "id": "cb7f6dc9",
   "metadata": {},
   "outputs": [],
   "source": [
    "new_data=sc.fit_transform(new_data)\n",
    "new_data=pd.DataFrame(new_data,columns=X_test.columns)"
   ]
  },
  {
   "cell_type": "markdown",
   "id": "c85e176a",
   "metadata": {},
   "source": [
    "# MODEL IMPLEMENTATION**"
   ]
  },
  {
   "cell_type": "markdown",
   "id": "31b597d4",
   "metadata": {},
   "source": [
    "# LINEAR REGRESSION"
   ]
  },
  {
   "cell_type": "code",
   "execution_count": 244,
   "id": "80a41bcf",
   "metadata": {},
   "outputs": [
    {
     "data": {
      "text/plain": [
       "LinearRegression(normalize=True)"
      ]
     },
     "execution_count": 244,
     "metadata": {},
     "output_type": "execute_result"
    }
   ],
   "source": [
    "from sklearn.linear_model import LinearRegression\n",
    "model1 = LinearRegression(normalize=True)\n",
    "model1.fit(X_train,y_train)"
   ]
  },
  {
   "cell_type": "code",
   "execution_count": 245,
   "id": "8259b5a7",
   "metadata": {},
   "outputs": [
    {
     "name": "stdout",
     "output_type": "stream",
     "text": [
      "r2 score is : 0.5584890480343382\n"
     ]
    }
   ],
   "source": [
    "y_pred_train_model1 = model1.predict(X_train)\n",
    "from sklearn.metrics import r2_score\n",
    "R2 = r2_score(y_train,y_pred_train_model1)\n",
    "print(\"r2 score is :\",R2)"
   ]
  },
  {
   "cell_type": "code",
   "execution_count": 246,
   "id": "6e1d3a10",
   "metadata": {},
   "outputs": [
    {
     "name": "stdout",
     "output_type": "stream",
     "text": [
      "r2 score is : 0.5814427807621453\n"
     ]
    }
   ],
   "source": [
    "y_pred_test_model1 = model1.predict(X_test)\n",
    "from sklearn.metrics import r2_score\n",
    "R2 = r2_score(y_test,y_pred_test_model1)\n",
    "print(\"r2 score is :\",R2)"
   ]
  },
  {
   "cell_type": "code",
   "execution_count": 247,
   "id": "7305b098",
   "metadata": {},
   "outputs": [
    {
     "name": "stdout",
     "output_type": "stream",
     "text": [
      "MAE: 848.0254742945029\n",
      "MSE: 1306011.5756128645\n",
      "RMSE: 1142.8086347297453\n"
     ]
    }
   ],
   "source": [
    "from sklearn import metrics\n",
    "print('MAE:', metrics.mean_absolute_error(y_train,y_pred_train_model1))\n",
    "print('MSE:', metrics.mean_squared_error(y_train, y_pred_train_model1))\n",
    "print('RMSE:', np.sqrt(metrics.mean_squared_error(y_train, y_pred_train_model1)))"
   ]
  },
  {
   "cell_type": "code",
   "execution_count": 248,
   "id": "1a3a7666",
   "metadata": {},
   "outputs": [
    {
     "name": "stdout",
     "output_type": "stream",
     "text": [
      "MAE: 790.3513920535557\n",
      "MSE: 1137625.993054822\n",
      "RMSE: 1066.59551520472\n"
     ]
    }
   ],
   "source": [
    "from sklearn import metrics\n",
    "print('MAE:', metrics.mean_absolute_error(y_test,y_pred_test_model1))\n",
    "print('MSE:', metrics.mean_squared_error(y_test, y_pred_test_model1))\n",
    "print('RMSE:', np.sqrt(metrics.mean_squared_error(y_test, y_pred_test_model1)))"
   ]
  },
  {
   "cell_type": "markdown",
   "id": "278dca34",
   "metadata": {},
   "source": [
    "# XGBOOST"
   ]
  },
  {
   "cell_type": "code",
   "execution_count": 249,
   "id": "5f82ec12",
   "metadata": {},
   "outputs": [],
   "source": [
    "from xgboost import XGBRegressor\n",
    "model2= XGBRegressor(base_score=1, booster='gbtree', colsample_bylevel=1,\n",
    "             colsample_bynode=1, colsample_bytree=1, gamma=0, gpu_id=-1,\n",
    "             importance_type='gain', interaction_constraints='',\n",
    "             learning_rate=0.15, max_delta_step=0, max_depth=5,\n",
    "             min_child_weight=2, monotone_constraints='()',\n",
    "             n_estimators=80, n_jobs=4, num_parallel_tree=1, random_state=0,\n",
    "             reg_alpha=0, reg_lambda=1, scale_pos_weight=1, subsample=1,\n",
    "             tree_method='exact', validate_parameters=1, verbosity=None)"
   ]
  },
  {
   "cell_type": "code",
   "execution_count": 250,
   "id": "4d4f7d13",
   "metadata": {},
   "outputs": [
    {
     "data": {
      "text/plain": [
       "XGBRegressor(base_score=1, booster='gbtree', colsample_bylevel=1,\n",
       "             colsample_bynode=1, colsample_bytree=1, enable_categorical=False,\n",
       "             gamma=0, gpu_id=-1, importance_type='gain',\n",
       "             interaction_constraints='', learning_rate=0.15, max_delta_step=0,\n",
       "             max_depth=5, min_child_weight=2, missing=nan,\n",
       "             monotone_constraints='()', n_estimators=80, n_jobs=4,\n",
       "             num_parallel_tree=1, predictor='auto', random_state=0, reg_alpha=0,\n",
       "             reg_lambda=1, scale_pos_weight=1, subsample=1, tree_method='exact',\n",
       "             validate_parameters=1, verbosity=None)"
      ]
     },
     "execution_count": 250,
     "metadata": {},
     "output_type": "execute_result"
    }
   ],
   "source": [
    "model2.fit(X_train,y_train)"
   ]
  },
  {
   "cell_type": "code",
   "execution_count": 261,
   "id": "894629c9",
   "metadata": {},
   "outputs": [
    {
     "name": "stdout",
     "output_type": "stream",
     "text": [
      "r2 score is : 0.7037219067802329\n"
     ]
    }
   ],
   "source": [
    "y_pred_train_model2 = model2.predict(X_train)\n",
    "from sklearn.metrics import r2_score\n",
    "R2 = r2_score(y_train,y_pred_train_model2)\n",
    "print(\"r2 score is :\",R2)"
   ]
  },
  {
   "cell_type": "code",
   "execution_count": 262,
   "id": "f06e9b29",
   "metadata": {},
   "outputs": [
    {
     "name": "stdout",
     "output_type": "stream",
     "text": [
      "MAE: 666.577049444037\n",
      "MSE: 876405.4835396637\n",
      "RMSE: 936.1653078060859\n"
     ]
    }
   ],
   "source": [
    "print('MAE:', metrics.mean_absolute_error(y_train,y_pred_train_model2))\n",
    "print('MSE:', metrics.mean_squared_error(y_train, y_pred_train_model2))\n",
    "print('RMSE:', np.sqrt(metrics.mean_squared_error(y_train, y_pred_train_model2)))"
   ]
  },
  {
   "cell_type": "code",
   "execution_count": 263,
   "id": "d7681ce7",
   "metadata": {},
   "outputs": [
    {
     "name": "stdout",
     "output_type": "stream",
     "text": [
      "r2 score is : 0.5887121486767045\n"
     ]
    }
   ],
   "source": [
    "y_pred_test_model2 = model2.predict(X_test)\n",
    "from sklearn.metrics import r2_score\n",
    "R2 = r2_score(y_test,y_pred_test_model2)\n",
    "print(\"r2 score is :\",R2)"
   ]
  },
  {
   "cell_type": "code",
   "execution_count": 264,
   "id": "68529edd",
   "metadata": {},
   "outputs": [
    {
     "name": "stdout",
     "output_type": "stream",
     "text": [
      "MAE: 732.0325818719224\n",
      "MSE: 1117868.068659826\n",
      "RMSE: 1057.2928017629865\n"
     ]
    }
   ],
   "source": [
    "print('MAE:', metrics.mean_absolute_error(y_test,y_pred_test_model2))\n",
    "print('MSE:', metrics.mean_squared_error(y_test, y_pred_test_model2))\n",
    "print('RMSE:', np.sqrt(metrics.mean_squared_error(y_test, y_pred_test_model2)))"
   ]
  },
  {
   "cell_type": "markdown",
   "id": "e75c652e",
   "metadata": {},
   "source": [
    "# GradientBoostingRegressor"
   ]
  },
  {
   "cell_type": "code",
   "execution_count": 251,
   "id": "734b573d",
   "metadata": {},
   "outputs": [],
   "source": [
    "from sklearn.ensemble import GradientBoostingRegressor\n",
    "model3= GradientBoostingRegressor()"
   ]
  },
  {
   "cell_type": "code",
   "execution_count": 252,
   "id": "b5785847",
   "metadata": {},
   "outputs": [],
   "source": [
    "from scipy.stats import uniform as sp_randFloat\n",
    "from scipy.stats import randint as sp_randInt"
   ]
  },
  {
   "cell_type": "code",
   "execution_count": 253,
   "id": "2c1fa97a",
   "metadata": {},
   "outputs": [],
   "source": [
    "## implementing randomised search cv to get the best parameters"
   ]
  },
  {
   "cell_type": "code",
   "execution_count": 254,
   "id": "0e527de2",
   "metadata": {},
   "outputs": [],
   "source": [
    "params = {'learning_rate': sp_randFloat(),'subsample'    : sp_randFloat(),'n_estimators' : sp_randInt(100, 1000),'max_depth'    : sp_randInt(4, 10)}"
   ]
  },
  {
   "cell_type": "code",
   "execution_count": 255,
   "id": "7dbbcde5",
   "metadata": {},
   "outputs": [
    {
     "data": {
      "text/plain": [
       "RandomizedSearchCV(cv=2, estimator=GradientBoostingRegressor(), n_jobs=-1,\n",
       "                   param_distributions={'learning_rate': <scipy.stats._distn_infrastructure.rv_frozen object at 0x000001EA6BC720D0>,\n",
       "                                        'max_depth': <scipy.stats._distn_infrastructure.rv_frozen object at 0x000001EA6BC72A60>,\n",
       "                                        'n_estimators': <scipy.stats._distn_infrastructure.rv_frozen object at 0x000001EA6BC72070>,\n",
       "                                        'subsample': <scipy.stats._distn_infrastructure.rv_frozen object at 0x000001EA66CA2430>})"
      ]
     },
     "execution_count": 255,
     "metadata": {},
     "output_type": "execute_result"
    }
   ],
   "source": [
    "from sklearn.model_selection import RandomizedSearchCV\n",
    "randm_search = RandomizedSearchCV(estimator=model3, param_distributions = params,\n",
    "                               cv = 2, n_iter = 10, n_jobs=-1)\n",
    "randm_search.fit(X_train, y_train)"
   ]
  },
  {
   "cell_type": "code",
   "execution_count": 256,
   "id": "bd61b0d4",
   "metadata": {},
   "outputs": [
    {
     "name": "stdout",
     "output_type": "stream",
     "text": [
      "Best estimators GradientBoostingRegressor(learning_rate=0.035727705537032306, max_depth=9,\n",
      "                          n_estimators=428, subsample=0.5398942737129736)\n",
      "Best score 0.5007542575969968\n",
      "Best params {'learning_rate': 0.035727705537032306, 'max_depth': 9, 'n_estimators': 428, 'subsample': 0.5398942737129736}\n"
     ]
    }
   ],
   "source": [
    "print(\"Best estimators\",randm_search.best_estimator_)\n",
    "print(\"Best score\",randm_search.best_score_)\n",
    "print(\"Best params\",randm_search.best_params_)"
   ]
  },
  {
   "cell_type": "code",
   "execution_count": 257,
   "id": "a6f3f9bc",
   "metadata": {},
   "outputs": [],
   "source": [
    "model3=  GradientBoostingRegressor(learning_rate=0.0154291815347819, max_depth=9,\n",
    "                          n_estimators=165, subsample=0.11550214721325958)"
   ]
  },
  {
   "cell_type": "code",
   "execution_count": 258,
   "id": "05a82eed",
   "metadata": {},
   "outputs": [
    {
     "data": {
      "text/plain": [
       "GradientBoostingRegressor(learning_rate=0.0154291815347819, max_depth=9,\n",
       "                          n_estimators=165, subsample=0.11550214721325958)"
      ]
     },
     "execution_count": 258,
     "metadata": {},
     "output_type": "execute_result"
    }
   ],
   "source": [
    "model3.fit(X_train,y_train)"
   ]
  },
  {
   "cell_type": "code",
   "execution_count": 259,
   "id": "9e543fdb",
   "metadata": {},
   "outputs": [
    {
     "name": "stdout",
     "output_type": "stream",
     "text": [
      "r2 score is : 0.6776034735947907\n"
     ]
    }
   ],
   "source": [
    "y_pred_train_model3 = model3.predict(X_train)\n",
    "from sklearn.metrics import r2_score\n",
    "R2 = r2_score(y_train,y_pred_train_model3)\n",
    "print(\"r2 score is :\",R2)"
   ]
  },
  {
   "cell_type": "code",
   "execution_count": 260,
   "id": "aad2a285",
   "metadata": {},
   "outputs": [
    {
     "name": "stdout",
     "output_type": "stream",
     "text": [
      "r2 score is : 0.6018660949454799\n"
     ]
    }
   ],
   "source": [
    "y_pred_test_model3 = model3.predict(X_test)\n",
    "from sklearn.metrics import r2_score\n",
    "R2 = r2_score(y_test,y_pred_test_model3)\n",
    "print(\"r2 score is :\",R2)"
   ]
  },
  {
   "cell_type": "code",
   "execution_count": 265,
   "id": "6d7f8276",
   "metadata": {},
   "outputs": [
    {
     "name": "stdout",
     "output_type": "stream",
     "text": [
      "MAE: 705.3470595893957\n",
      "MSE: 953665.1209851054\n",
      "RMSE: 976.557791933025\n"
     ]
    }
   ],
   "source": [
    "print('MAE:', metrics.mean_absolute_error(y_train,y_pred_train_model3))\n",
    "print('MSE:', metrics.mean_squared_error(y_train, y_pred_train_model3))\n",
    "print('RMSE:', np.sqrt(metrics.mean_squared_error(y_train, y_pred_train_model3)))"
   ]
  },
  {
   "cell_type": "code",
   "execution_count": 266,
   "id": "a03f4c41",
   "metadata": {},
   "outputs": [
    {
     "name": "stdout",
     "output_type": "stream",
     "text": [
      "MAE: 741.4882558212227\n",
      "MSE: 1082116.0364434097\n",
      "RMSE: 1040.2480648592477\n"
     ]
    }
   ],
   "source": [
    "print('MAE:', metrics.mean_absolute_error(y_test,y_pred_test_model3))\n",
    "print('MSE:', metrics.mean_squared_error(y_test, y_pred_test_model3))\n",
    "print('RMSE:', np.sqrt(metrics.mean_squared_error(y_test, y_pred_test_model3)))"
   ]
  },
  {
   "cell_type": "markdown",
   "id": "fa6776d3",
   "metadata": {},
   "source": [
    "# FINAL RESULTS FOR TRAINING and TESTING DATA"
   ]
  },
  {
   "cell_type": "raw",
   "id": "93f862a9",
   "metadata": {},
   "source": [
    "LINEAR REGRESSION:\n",
    "\n",
    "training:\n",
    "\n",
    "r2 score is : 0.5584145136909324\n",
    "MAE: 848.1920611339497\n",
    "MSE: 1306232.051944958\n",
    "RMSE: 1142.9050931485772 \n",
    "\n",
    "testing:\n",
    "\n",
    "r2 score is : 0.5809991170997183\n",
    "MAE: 791.1141359649645\n",
    "MSE: 1138831.8576089442\n",
    "RMSE: 1067.1606522023496"
   ]
  },
  {
   "cell_type": "raw",
   "id": "0c62d9da",
   "metadata": {},
   "source": [
    "XGBOOST: training:\n",
    "\n",
    "r2 score is : 0.7037219067802329\n",
    "MAE: 666.577049444037\n",
    "MSE: 876405.4835396637\n",
    "RMSE: 936.1653078060859\n",
    "testing:\n",
    "\n",
    "r2 score is : 0.5887121486767045\n",
    "MAE: 732.0325818719224\n",
    "MSE: 1117868.068659826\n",
    "RMSE: 1057.2928017629865"
   ]
  },
  {
   "cell_type": "raw",
   "id": "c9d20833",
   "metadata": {},
   "source": [
    "GRADIENT BOOSTING REGRESSOR: training:\n",
    "\n",
    "r2 score is : 0.6737769589742313\n",
    "MAE: 709.2194716729872\n",
    "MSE: 964984.1434611119\n",
    "RMSE: 982.3360644204772\n",
    "testing:\n",
    "\n",
    "r2 score is : 0.6013689251080387\n",
    "MAE: 744.5459877561524\n",
    "MSE: 1083467.3291795994\n",
    "RMSE: 1040.8973672651878"
   ]
  },
  {
   "cell_type": "code",
   "execution_count": 270,
   "id": "9b345ace",
   "metadata": {},
   "outputs": [],
   "source": [
    "## gradient boost regressor and xgboost regressor are giving almost same root mean saure error but, comparitively , GBR is giving slightly more error than xgboost\n",
    "## if we observe r2 values of XGBOOST it is overfitting compared to GB REGRESSOR  \n",
    "## one thing which is commonly observed is that testing data is only able to give 58% of r2 which means that only 58% is explainable by independant variable\n",
    "## although in XGBOOST 70% is explainable is training , it is overfitting in the testing\n",
    "## therefore best model which can predict BIGMART SALES would be GRADIENT BOOST REGRESSOR"
   ]
  },
  {
   "cell_type": "code",
   "execution_count": 280,
   "id": "cf66f95a",
   "metadata": {},
   "outputs": [],
   "source": [
    "import pickle\n",
    "output=open(\"bigmartsales.pickle\",\"wb\")\n",
    "pickle.dump(model3,output)"
   ]
  },
  {
   "cell_type": "code",
   "execution_count": 281,
   "id": "2adf4e7c",
   "metadata": {},
   "outputs": [],
   "source": [
    "sales_pred=open(\"bigmartsales.pickle\",\"rb\")"
   ]
  },
  {
   "cell_type": "code",
   "execution_count": 282,
   "id": "3849344e",
   "metadata": {},
   "outputs": [],
   "source": [
    "emp=pickle.load(sales_pred)"
   ]
  },
  {
   "cell_type": "code",
   "execution_count": 283,
   "id": "3a31aa75",
   "metadata": {},
   "outputs": [],
   "source": [
    "pred=model3.predict(new_data)"
   ]
  },
  {
   "cell_type": "code",
   "execution_count": 284,
   "id": "59157c8a",
   "metadata": {
    "scrolled": true
   },
   "outputs": [
    {
     "data": {
      "text/plain": [
       "array([1641.85592007, 1464.84279012,  698.43625675, ..., 2033.1320589 ,\n",
       "       4149.65199963, 1276.60574298])"
      ]
     },
     "execution_count": 284,
     "metadata": {},
     "output_type": "execute_result"
    }
   ],
   "source": [
    "pred"
   ]
  },
  {
   "cell_type": "code",
   "execution_count": 285,
   "id": "2e407d2b",
   "metadata": {},
   "outputs": [],
   "source": [
    "new_data['Outlet_Sales']=pred"
   ]
  },
  {
   "cell_type": "code",
   "execution_count": 286,
   "id": "458f5d1f",
   "metadata": {},
   "outputs": [
    {
     "data": {
      "text/html": [
       "<div>\n",
       "<style scoped>\n",
       "    .dataframe tbody tr th:only-of-type {\n",
       "        vertical-align: middle;\n",
       "    }\n",
       "\n",
       "    .dataframe tbody tr th {\n",
       "        vertical-align: top;\n",
       "    }\n",
       "\n",
       "    .dataframe thead th {\n",
       "        text-align: right;\n",
       "    }\n",
       "</style>\n",
       "<table border=\"1\" class=\"dataframe\">\n",
       "  <thead>\n",
       "    <tr style=\"text-align: right;\">\n",
       "      <th></th>\n",
       "      <th>Item_Visibility</th>\n",
       "      <th>Item_MRP</th>\n",
       "      <th>Outlet_age</th>\n",
       "      <th>Item_Weight_random</th>\n",
       "      <th>Item_Fat_Content_Low Fat</th>\n",
       "      <th>Item_Fat_Content_Regular</th>\n",
       "      <th>Item_Type_edible</th>\n",
       "      <th>Item_Type_non-edible</th>\n",
       "      <th>Outlet_Size_High</th>\n",
       "      <th>Outlet_Size_Medium</th>\n",
       "      <th>Outlet_Size_Small</th>\n",
       "      <th>Outlet_Location_Type_Tier 1</th>\n",
       "      <th>Outlet_Location_Type_Tier 2</th>\n",
       "      <th>Outlet_Location_Type_Tier 3</th>\n",
       "      <th>Outlet_Type_Grocery Store</th>\n",
       "      <th>Outlet_Type_Supermarket Type1</th>\n",
       "      <th>Outlet_Type_Supermarket Type2</th>\n",
       "      <th>Outlet_Type_Supermarket Type3</th>\n",
       "      <th>Outlet_Sales</th>\n",
       "    </tr>\n",
       "  </thead>\n",
       "  <tbody>\n",
       "    <tr>\n",
       "      <th>0</th>\n",
       "      <td>-1.134077</td>\n",
       "      <td>-0.536555</td>\n",
       "      <td>-0.139891</td>\n",
       "      <td>1.723127</td>\n",
       "      <td>0.740811</td>\n",
       "      <td>-0.740811</td>\n",
       "      <td>0.486429</td>\n",
       "      <td>-0.486429</td>\n",
       "      <td>-0.350325</td>\n",
       "      <td>0.798824</td>\n",
       "      <td>-0.623969</td>\n",
       "      <td>1.602644</td>\n",
       "      <td>-0.696584</td>\n",
       "      <td>-0.804750</td>\n",
       "      <td>-0.381568</td>\n",
       "      <td>0.726900</td>\n",
       "      <td>-0.349374</td>\n",
       "      <td>-0.351274</td>\n",
       "      <td>1641.855920</td>\n",
       "    </tr>\n",
       "    <tr>\n",
       "      <th>1</th>\n",
       "      <td>-0.531850</td>\n",
       "      <td>-0.868937</td>\n",
       "      <td>-1.095512</td>\n",
       "      <td>-0.943601</td>\n",
       "      <td>-1.349873</td>\n",
       "      <td>1.349873</td>\n",
       "      <td>0.486429</td>\n",
       "      <td>-0.486429</td>\n",
       "      <td>-0.350325</td>\n",
       "      <td>0.798824</td>\n",
       "      <td>-0.623969</td>\n",
       "      <td>-0.623969</td>\n",
       "      <td>1.435578</td>\n",
       "      <td>-0.804750</td>\n",
       "      <td>-0.381568</td>\n",
       "      <td>0.726900</td>\n",
       "      <td>-0.349374</td>\n",
       "      <td>-0.351274</td>\n",
       "      <td>1464.842790</td>\n",
       "    </tr>\n",
       "    <tr>\n",
       "      <th>2</th>\n",
       "      <td>0.661316</td>\n",
       "      <td>1.629848</td>\n",
       "      <td>-0.020438</td>\n",
       "      <td>0.405827</td>\n",
       "      <td>0.740811</td>\n",
       "      <td>-0.740811</td>\n",
       "      <td>-2.055799</td>\n",
       "      <td>2.055799</td>\n",
       "      <td>-0.350325</td>\n",
       "      <td>0.798824</td>\n",
       "      <td>-0.623969</td>\n",
       "      <td>-0.623969</td>\n",
       "      <td>-0.696584</td>\n",
       "      <td>1.242623</td>\n",
       "      <td>2.620767</td>\n",
       "      <td>-1.375706</td>\n",
       "      <td>-0.349374</td>\n",
       "      <td>-0.351274</td>\n",
       "      <td>698.436257</td>\n",
       "    </tr>\n",
       "    <tr>\n",
       "      <th>3</th>\n",
       "      <td>-0.981416</td>\n",
       "      <td>0.226697</td>\n",
       "      <td>-1.095512</td>\n",
       "      <td>-1.154584</td>\n",
       "      <td>0.740811</td>\n",
       "      <td>-0.740811</td>\n",
       "      <td>0.486429</td>\n",
       "      <td>-0.486429</td>\n",
       "      <td>-0.350325</td>\n",
       "      <td>0.798824</td>\n",
       "      <td>-0.623969</td>\n",
       "      <td>-0.623969</td>\n",
       "      <td>1.435578</td>\n",
       "      <td>-0.804750</td>\n",
       "      <td>-0.381568</td>\n",
       "      <td>0.726900</td>\n",
       "      <td>-0.349374</td>\n",
       "      <td>-0.351274</td>\n",
       "      <td>2377.132168</td>\n",
       "    </tr>\n",
       "    <tr>\n",
       "      <th>4</th>\n",
       "      <td>1.032540</td>\n",
       "      <td>1.508110</td>\n",
       "      <td>1.532446</td>\n",
       "      <td>0.512925</td>\n",
       "      <td>-1.349873</td>\n",
       "      <td>1.349873</td>\n",
       "      <td>0.486429</td>\n",
       "      <td>-0.486429</td>\n",
       "      <td>-0.350325</td>\n",
       "      <td>0.798824</td>\n",
       "      <td>-0.623969</td>\n",
       "      <td>-0.623969</td>\n",
       "      <td>-0.696584</td>\n",
       "      <td>1.242623</td>\n",
       "      <td>-0.381568</td>\n",
       "      <td>-1.375706</td>\n",
       "      <td>-0.349374</td>\n",
       "      <td>2.846782</td>\n",
       "      <td>5921.778563</td>\n",
       "    </tr>\n",
       "  </tbody>\n",
       "</table>\n",
       "</div>"
      ],
      "text/plain": [
       "   Item_Visibility  Item_MRP  Outlet_age  Item_Weight_random  \\\n",
       "0        -1.134077 -0.536555   -0.139891            1.723127   \n",
       "1        -0.531850 -0.868937   -1.095512           -0.943601   \n",
       "2         0.661316  1.629848   -0.020438            0.405827   \n",
       "3        -0.981416  0.226697   -1.095512           -1.154584   \n",
       "4         1.032540  1.508110    1.532446            0.512925   \n",
       "\n",
       "   Item_Fat_Content_Low Fat  Item_Fat_Content_Regular  Item_Type_edible  \\\n",
       "0                  0.740811                 -0.740811          0.486429   \n",
       "1                 -1.349873                  1.349873          0.486429   \n",
       "2                  0.740811                 -0.740811         -2.055799   \n",
       "3                  0.740811                 -0.740811          0.486429   \n",
       "4                 -1.349873                  1.349873          0.486429   \n",
       "\n",
       "   Item_Type_non-edible  Outlet_Size_High  Outlet_Size_Medium  \\\n",
       "0             -0.486429         -0.350325            0.798824   \n",
       "1             -0.486429         -0.350325            0.798824   \n",
       "2              2.055799         -0.350325            0.798824   \n",
       "3             -0.486429         -0.350325            0.798824   \n",
       "4             -0.486429         -0.350325            0.798824   \n",
       "\n",
       "   Outlet_Size_Small  Outlet_Location_Type_Tier 1  \\\n",
       "0          -0.623969                     1.602644   \n",
       "1          -0.623969                    -0.623969   \n",
       "2          -0.623969                    -0.623969   \n",
       "3          -0.623969                    -0.623969   \n",
       "4          -0.623969                    -0.623969   \n",
       "\n",
       "   Outlet_Location_Type_Tier 2  Outlet_Location_Type_Tier 3  \\\n",
       "0                    -0.696584                    -0.804750   \n",
       "1                     1.435578                    -0.804750   \n",
       "2                    -0.696584                     1.242623   \n",
       "3                     1.435578                    -0.804750   \n",
       "4                    -0.696584                     1.242623   \n",
       "\n",
       "   Outlet_Type_Grocery Store  Outlet_Type_Supermarket Type1  \\\n",
       "0                  -0.381568                       0.726900   \n",
       "1                  -0.381568                       0.726900   \n",
       "2                   2.620767                      -1.375706   \n",
       "3                  -0.381568                       0.726900   \n",
       "4                  -0.381568                      -1.375706   \n",
       "\n",
       "   Outlet_Type_Supermarket Type2  Outlet_Type_Supermarket Type3  Outlet_Sales  \n",
       "0                      -0.349374                      -0.351274   1641.855920  \n",
       "1                      -0.349374                      -0.351274   1464.842790  \n",
       "2                      -0.349374                      -0.351274    698.436257  \n",
       "3                      -0.349374                      -0.351274   2377.132168  \n",
       "4                      -0.349374                       2.846782   5921.778563  "
      ]
     },
     "execution_count": 286,
     "metadata": {},
     "output_type": "execute_result"
    }
   ],
   "source": [
    "new_data.head()"
   ]
  },
  {
   "cell_type": "code",
   "execution_count": 287,
   "id": "1533de98",
   "metadata": {},
   "outputs": [],
   "source": [
    "## we have predicted sales using GRADIENT BOOST REGRESSOR by loading it into pickle and predicting the new data\n",
    "## the new_data 'Outlet_Sales' is now loaded into the new_data file"
   ]
  },
  {
   "cell_type": "code",
   "execution_count": null,
   "id": "9123035c",
   "metadata": {},
   "outputs": [],
   "source": []
  }
 ],
 "metadata": {
  "kernelspec": {
   "display_name": "Python 3",
   "language": "python",
   "name": "python3"
  },
  "language_info": {
   "codemirror_mode": {
    "name": "ipython",
    "version": 3
   },
   "file_extension": ".py",
   "mimetype": "text/x-python",
   "name": "python",
   "nbconvert_exporter": "python",
   "pygments_lexer": "ipython3",
   "version": "3.8.8"
  }
 },
 "nbformat": 4,
 "nbformat_minor": 5
}
