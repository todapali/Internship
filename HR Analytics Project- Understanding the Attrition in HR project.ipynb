{
 "cells": [
  {
   "cell_type": "markdown",
   "id": "5a2aebe9",
   "metadata": {},
   "source": [
    "# Problem Statement:\n",
    "Every year a lot of companies hire a number of employees. The companies invest time and money in training those employees, not just this but there are training programs within the companies for their existing employees as well. The aim of these programs is to increase the effectiveness of their employees. But where HR Analytics fit in this? and is it just about improving the performance of employees?"
   ]
  },
  {
   "cell_type": "markdown",
   "id": "83592feb",
   "metadata": {},
   "source": [
    "# HR Analytics\n",
    "\n",
    "Human resource analytics (HR analytics) is an area in the field of analytics that refers to applying analytic processes to the human resource department of an organization in the hope of improving employee performance and therefore getting a better return on investment. HR analytics does not just deal with gathering data on employee efficiency. Instead, it aims to provide insight into each process by gathering data and then using it to make relevant decisions about how to improve these processes."
   ]
  },
  {
   "cell_type": "markdown",
   "id": "da909ec9",
   "metadata": {},
   "source": [
    "# Implimentations:\n",
    "    The aim of these programs is to increase the effectiveness of their employees. But where HR Analytics fit in this? and is it just about improving the performance of employees?"
   ]
  },
  {
   "cell_type": "code",
   "execution_count": 1,
   "id": "b1fb5d51",
   "metadata": {},
   "outputs": [],
   "source": [
    "import pandas as pd\n",
    "import numpy as np\n",
    "import seaborn as sns\n",
    "import matplotlib.pyplot as plt\n",
    "from sklearn.metrics import classification_report,roc_curve,precision_recall_curve,roc_auc_score,f1_score,confusion_matrix"
   ]
  },
  {
   "cell_type": "markdown",
   "id": "4c2e1de3",
   "metadata": {},
   "source": [
    "# importing basic library"
   ]
  },
  {
   "cell_type": "code",
   "execution_count": 2,
   "id": "86c67320",
   "metadata": {},
   "outputs": [
    {
     "data": {
      "text/html": [
       "<div>\n",
       "<style scoped>\n",
       "    .dataframe tbody tr th:only-of-type {\n",
       "        vertical-align: middle;\n",
       "    }\n",
       "\n",
       "    .dataframe tbody tr th {\n",
       "        vertical-align: top;\n",
       "    }\n",
       "\n",
       "    .dataframe thead th {\n",
       "        text-align: right;\n",
       "    }\n",
       "</style>\n",
       "<table border=\"1\" class=\"dataframe\">\n",
       "  <thead>\n",
       "    <tr style=\"text-align: right;\">\n",
       "      <th></th>\n",
       "      <th>Age</th>\n",
       "      <th>Attrition</th>\n",
       "      <th>BusinessTravel</th>\n",
       "      <th>DailyRate</th>\n",
       "      <th>Department</th>\n",
       "      <th>DistanceFromHome</th>\n",
       "      <th>Education</th>\n",
       "      <th>EducationField</th>\n",
       "      <th>EmployeeCount</th>\n",
       "      <th>EmployeeNumber</th>\n",
       "      <th>...</th>\n",
       "      <th>RelationshipSatisfaction</th>\n",
       "      <th>StandardHours</th>\n",
       "      <th>StockOptionLevel</th>\n",
       "      <th>TotalWorkingYears</th>\n",
       "      <th>TrainingTimesLastYear</th>\n",
       "      <th>WorkLifeBalance</th>\n",
       "      <th>YearsAtCompany</th>\n",
       "      <th>YearsInCurrentRole</th>\n",
       "      <th>YearsSinceLastPromotion</th>\n",
       "      <th>YearsWithCurrManager</th>\n",
       "    </tr>\n",
       "  </thead>\n",
       "  <tbody>\n",
       "    <tr>\n",
       "      <th>0</th>\n",
       "      <td>41</td>\n",
       "      <td>Yes</td>\n",
       "      <td>Travel_Rarely</td>\n",
       "      <td>1102</td>\n",
       "      <td>Sales</td>\n",
       "      <td>1</td>\n",
       "      <td>2</td>\n",
       "      <td>Life Sciences</td>\n",
       "      <td>1</td>\n",
       "      <td>1</td>\n",
       "      <td>...</td>\n",
       "      <td>1</td>\n",
       "      <td>80</td>\n",
       "      <td>0</td>\n",
       "      <td>8</td>\n",
       "      <td>0</td>\n",
       "      <td>1</td>\n",
       "      <td>6</td>\n",
       "      <td>4</td>\n",
       "      <td>0</td>\n",
       "      <td>5</td>\n",
       "    </tr>\n",
       "    <tr>\n",
       "      <th>1</th>\n",
       "      <td>49</td>\n",
       "      <td>No</td>\n",
       "      <td>Travel_Frequently</td>\n",
       "      <td>279</td>\n",
       "      <td>Research &amp; Development</td>\n",
       "      <td>8</td>\n",
       "      <td>1</td>\n",
       "      <td>Life Sciences</td>\n",
       "      <td>1</td>\n",
       "      <td>2</td>\n",
       "      <td>...</td>\n",
       "      <td>4</td>\n",
       "      <td>80</td>\n",
       "      <td>1</td>\n",
       "      <td>10</td>\n",
       "      <td>3</td>\n",
       "      <td>3</td>\n",
       "      <td>10</td>\n",
       "      <td>7</td>\n",
       "      <td>1</td>\n",
       "      <td>7</td>\n",
       "    </tr>\n",
       "    <tr>\n",
       "      <th>2</th>\n",
       "      <td>37</td>\n",
       "      <td>Yes</td>\n",
       "      <td>Travel_Rarely</td>\n",
       "      <td>1373</td>\n",
       "      <td>Research &amp; Development</td>\n",
       "      <td>2</td>\n",
       "      <td>2</td>\n",
       "      <td>Other</td>\n",
       "      <td>1</td>\n",
       "      <td>4</td>\n",
       "      <td>...</td>\n",
       "      <td>2</td>\n",
       "      <td>80</td>\n",
       "      <td>0</td>\n",
       "      <td>7</td>\n",
       "      <td>3</td>\n",
       "      <td>3</td>\n",
       "      <td>0</td>\n",
       "      <td>0</td>\n",
       "      <td>0</td>\n",
       "      <td>0</td>\n",
       "    </tr>\n",
       "    <tr>\n",
       "      <th>3</th>\n",
       "      <td>33</td>\n",
       "      <td>No</td>\n",
       "      <td>Travel_Frequently</td>\n",
       "      <td>1392</td>\n",
       "      <td>Research &amp; Development</td>\n",
       "      <td>3</td>\n",
       "      <td>4</td>\n",
       "      <td>Life Sciences</td>\n",
       "      <td>1</td>\n",
       "      <td>5</td>\n",
       "      <td>...</td>\n",
       "      <td>3</td>\n",
       "      <td>80</td>\n",
       "      <td>0</td>\n",
       "      <td>8</td>\n",
       "      <td>3</td>\n",
       "      <td>3</td>\n",
       "      <td>8</td>\n",
       "      <td>7</td>\n",
       "      <td>3</td>\n",
       "      <td>0</td>\n",
       "    </tr>\n",
       "    <tr>\n",
       "      <th>4</th>\n",
       "      <td>27</td>\n",
       "      <td>No</td>\n",
       "      <td>Travel_Rarely</td>\n",
       "      <td>591</td>\n",
       "      <td>Research &amp; Development</td>\n",
       "      <td>2</td>\n",
       "      <td>1</td>\n",
       "      <td>Medical</td>\n",
       "      <td>1</td>\n",
       "      <td>7</td>\n",
       "      <td>...</td>\n",
       "      <td>4</td>\n",
       "      <td>80</td>\n",
       "      <td>1</td>\n",
       "      <td>6</td>\n",
       "      <td>3</td>\n",
       "      <td>3</td>\n",
       "      <td>2</td>\n",
       "      <td>2</td>\n",
       "      <td>2</td>\n",
       "      <td>2</td>\n",
       "    </tr>\n",
       "  </tbody>\n",
       "</table>\n",
       "<p>5 rows × 35 columns</p>\n",
       "</div>"
      ],
      "text/plain": [
       "   Age Attrition     BusinessTravel  DailyRate              Department  \\\n",
       "0   41       Yes      Travel_Rarely       1102                   Sales   \n",
       "1   49        No  Travel_Frequently        279  Research & Development   \n",
       "2   37       Yes      Travel_Rarely       1373  Research & Development   \n",
       "3   33        No  Travel_Frequently       1392  Research & Development   \n",
       "4   27        No      Travel_Rarely        591  Research & Development   \n",
       "\n",
       "   DistanceFromHome  Education EducationField  EmployeeCount  EmployeeNumber  \\\n",
       "0                 1          2  Life Sciences              1               1   \n",
       "1                 8          1  Life Sciences              1               2   \n",
       "2                 2          2          Other              1               4   \n",
       "3                 3          4  Life Sciences              1               5   \n",
       "4                 2          1        Medical              1               7   \n",
       "\n",
       "   ...  RelationshipSatisfaction StandardHours  StockOptionLevel  \\\n",
       "0  ...                         1            80                 0   \n",
       "1  ...                         4            80                 1   \n",
       "2  ...                         2            80                 0   \n",
       "3  ...                         3            80                 0   \n",
       "4  ...                         4            80                 1   \n",
       "\n",
       "   TotalWorkingYears  TrainingTimesLastYear WorkLifeBalance  YearsAtCompany  \\\n",
       "0                  8                      0               1               6   \n",
       "1                 10                      3               3              10   \n",
       "2                  7                      3               3               0   \n",
       "3                  8                      3               3               8   \n",
       "4                  6                      3               3               2   \n",
       "\n",
       "  YearsInCurrentRole  YearsSinceLastPromotion  YearsWithCurrManager  \n",
       "0                  4                        0                     5  \n",
       "1                  7                        1                     7  \n",
       "2                  0                        0                     0  \n",
       "3                  7                        3                     0  \n",
       "4                  2                        2                     2  \n",
       "\n",
       "[5 rows x 35 columns]"
      ]
     },
     "execution_count": 2,
     "metadata": {},
     "output_type": "execute_result"
    }
   ],
   "source": [
    "df_hr=pd.read_csv('HR-Employee-Attrition.csv')\n",
    "df_hr.head(5)\n"
   ]
  },
  {
   "cell_type": "code",
   "execution_count": 3,
   "id": "99b5320a",
   "metadata": {},
   "outputs": [
    {
     "data": {
      "text/html": [
       "<div>\n",
       "<style scoped>\n",
       "    .dataframe tbody tr th:only-of-type {\n",
       "        vertical-align: middle;\n",
       "    }\n",
       "\n",
       "    .dataframe tbody tr th {\n",
       "        vertical-align: top;\n",
       "    }\n",
       "\n",
       "    .dataframe thead th {\n",
       "        text-align: right;\n",
       "    }\n",
       "</style>\n",
       "<table border=\"1\" class=\"dataframe\">\n",
       "  <thead>\n",
       "    <tr style=\"text-align: right;\">\n",
       "      <th></th>\n",
       "      <th>Age</th>\n",
       "      <th>Attrition</th>\n",
       "      <th>BusinessTravel</th>\n",
       "      <th>DailyRate</th>\n",
       "      <th>Department</th>\n",
       "      <th>DistanceFromHome</th>\n",
       "      <th>Education</th>\n",
       "      <th>EducationField</th>\n",
       "      <th>EmployeeCount</th>\n",
       "      <th>EmployeeNumber</th>\n",
       "      <th>...</th>\n",
       "      <th>RelationshipSatisfaction</th>\n",
       "      <th>StandardHours</th>\n",
       "      <th>StockOptionLevel</th>\n",
       "      <th>TotalWorkingYears</th>\n",
       "      <th>TrainingTimesLastYear</th>\n",
       "      <th>WorkLifeBalance</th>\n",
       "      <th>YearsAtCompany</th>\n",
       "      <th>YearsInCurrentRole</th>\n",
       "      <th>YearsSinceLastPromotion</th>\n",
       "      <th>YearsWithCurrManager</th>\n",
       "    </tr>\n",
       "  </thead>\n",
       "  <tbody>\n",
       "    <tr>\n",
       "      <th>1465</th>\n",
       "      <td>36</td>\n",
       "      <td>No</td>\n",
       "      <td>Travel_Frequently</td>\n",
       "      <td>884</td>\n",
       "      <td>Research &amp; Development</td>\n",
       "      <td>23</td>\n",
       "      <td>2</td>\n",
       "      <td>Medical</td>\n",
       "      <td>1</td>\n",
       "      <td>2061</td>\n",
       "      <td>...</td>\n",
       "      <td>3</td>\n",
       "      <td>80</td>\n",
       "      <td>1</td>\n",
       "      <td>17</td>\n",
       "      <td>3</td>\n",
       "      <td>3</td>\n",
       "      <td>5</td>\n",
       "      <td>2</td>\n",
       "      <td>0</td>\n",
       "      <td>3</td>\n",
       "    </tr>\n",
       "    <tr>\n",
       "      <th>1466</th>\n",
       "      <td>39</td>\n",
       "      <td>No</td>\n",
       "      <td>Travel_Rarely</td>\n",
       "      <td>613</td>\n",
       "      <td>Research &amp; Development</td>\n",
       "      <td>6</td>\n",
       "      <td>1</td>\n",
       "      <td>Medical</td>\n",
       "      <td>1</td>\n",
       "      <td>2062</td>\n",
       "      <td>...</td>\n",
       "      <td>1</td>\n",
       "      <td>80</td>\n",
       "      <td>1</td>\n",
       "      <td>9</td>\n",
       "      <td>5</td>\n",
       "      <td>3</td>\n",
       "      <td>7</td>\n",
       "      <td>7</td>\n",
       "      <td>1</td>\n",
       "      <td>7</td>\n",
       "    </tr>\n",
       "    <tr>\n",
       "      <th>1467</th>\n",
       "      <td>27</td>\n",
       "      <td>No</td>\n",
       "      <td>Travel_Rarely</td>\n",
       "      <td>155</td>\n",
       "      <td>Research &amp; Development</td>\n",
       "      <td>4</td>\n",
       "      <td>3</td>\n",
       "      <td>Life Sciences</td>\n",
       "      <td>1</td>\n",
       "      <td>2064</td>\n",
       "      <td>...</td>\n",
       "      <td>2</td>\n",
       "      <td>80</td>\n",
       "      <td>1</td>\n",
       "      <td>6</td>\n",
       "      <td>0</td>\n",
       "      <td>3</td>\n",
       "      <td>6</td>\n",
       "      <td>2</td>\n",
       "      <td>0</td>\n",
       "      <td>3</td>\n",
       "    </tr>\n",
       "    <tr>\n",
       "      <th>1468</th>\n",
       "      <td>49</td>\n",
       "      <td>No</td>\n",
       "      <td>Travel_Frequently</td>\n",
       "      <td>1023</td>\n",
       "      <td>Sales</td>\n",
       "      <td>2</td>\n",
       "      <td>3</td>\n",
       "      <td>Medical</td>\n",
       "      <td>1</td>\n",
       "      <td>2065</td>\n",
       "      <td>...</td>\n",
       "      <td>4</td>\n",
       "      <td>80</td>\n",
       "      <td>0</td>\n",
       "      <td>17</td>\n",
       "      <td>3</td>\n",
       "      <td>2</td>\n",
       "      <td>9</td>\n",
       "      <td>6</td>\n",
       "      <td>0</td>\n",
       "      <td>8</td>\n",
       "    </tr>\n",
       "    <tr>\n",
       "      <th>1469</th>\n",
       "      <td>34</td>\n",
       "      <td>No</td>\n",
       "      <td>Travel_Rarely</td>\n",
       "      <td>628</td>\n",
       "      <td>Research &amp; Development</td>\n",
       "      <td>8</td>\n",
       "      <td>3</td>\n",
       "      <td>Medical</td>\n",
       "      <td>1</td>\n",
       "      <td>2068</td>\n",
       "      <td>...</td>\n",
       "      <td>1</td>\n",
       "      <td>80</td>\n",
       "      <td>0</td>\n",
       "      <td>6</td>\n",
       "      <td>3</td>\n",
       "      <td>4</td>\n",
       "      <td>4</td>\n",
       "      <td>3</td>\n",
       "      <td>1</td>\n",
       "      <td>2</td>\n",
       "    </tr>\n",
       "  </tbody>\n",
       "</table>\n",
       "<p>5 rows × 35 columns</p>\n",
       "</div>"
      ],
      "text/plain": [
       "      Age Attrition     BusinessTravel  DailyRate              Department  \\\n",
       "1465   36        No  Travel_Frequently        884  Research & Development   \n",
       "1466   39        No      Travel_Rarely        613  Research & Development   \n",
       "1467   27        No      Travel_Rarely        155  Research & Development   \n",
       "1468   49        No  Travel_Frequently       1023                   Sales   \n",
       "1469   34        No      Travel_Rarely        628  Research & Development   \n",
       "\n",
       "      DistanceFromHome  Education EducationField  EmployeeCount  \\\n",
       "1465                23          2        Medical              1   \n",
       "1466                 6          1        Medical              1   \n",
       "1467                 4          3  Life Sciences              1   \n",
       "1468                 2          3        Medical              1   \n",
       "1469                 8          3        Medical              1   \n",
       "\n",
       "      EmployeeNumber  ...  RelationshipSatisfaction StandardHours  \\\n",
       "1465            2061  ...                         3            80   \n",
       "1466            2062  ...                         1            80   \n",
       "1467            2064  ...                         2            80   \n",
       "1468            2065  ...                         4            80   \n",
       "1469            2068  ...                         1            80   \n",
       "\n",
       "      StockOptionLevel  TotalWorkingYears  TrainingTimesLastYear  \\\n",
       "1465                 1                 17                      3   \n",
       "1466                 1                  9                      5   \n",
       "1467                 1                  6                      0   \n",
       "1468                 0                 17                      3   \n",
       "1469                 0                  6                      3   \n",
       "\n",
       "     WorkLifeBalance  YearsAtCompany YearsInCurrentRole  \\\n",
       "1465               3               5                  2   \n",
       "1466               3               7                  7   \n",
       "1467               3               6                  2   \n",
       "1468               2               9                  6   \n",
       "1469               4               4                  3   \n",
       "\n",
       "      YearsSinceLastPromotion  YearsWithCurrManager  \n",
       "1465                        0                     3  \n",
       "1466                        1                     7  \n",
       "1467                        0                     3  \n",
       "1468                        0                     8  \n",
       "1469                        1                     2  \n",
       "\n",
       "[5 rows x 35 columns]"
      ]
     },
     "execution_count": 3,
     "metadata": {},
     "output_type": "execute_result"
    }
   ],
   "source": [
    "df_hr.tail()"
   ]
  },
  {
   "cell_type": "code",
   "execution_count": 4,
   "id": "f1f17275",
   "metadata": {},
   "outputs": [
    {
     "data": {
      "text/plain": [
       "(1470, 35)"
      ]
     },
     "execution_count": 4,
     "metadata": {},
     "output_type": "execute_result"
    }
   ],
   "source": [
    "df_hr.shape # checkings data dimensions"
   ]
  },
  {
   "cell_type": "markdown",
   "id": "2914ee41",
   "metadata": {},
   "source": [
    "# there are 1470 rows and 35 columns"
   ]
  },
  {
   "cell_type": "code",
   "execution_count": 5,
   "id": "eda5a762",
   "metadata": {},
   "outputs": [
    {
     "data": {
      "text/plain": [
       "Age                         0\n",
       "Attrition                   0\n",
       "BusinessTravel              0\n",
       "DailyRate                   0\n",
       "Department                  0\n",
       "DistanceFromHome            0\n",
       "Education                   0\n",
       "EducationField              0\n",
       "EmployeeCount               0\n",
       "EmployeeNumber              0\n",
       "EnvironmentSatisfaction     0\n",
       "Gender                      0\n",
       "HourlyRate                  0\n",
       "JobInvolvement              0\n",
       "JobLevel                    0\n",
       "JobRole                     0\n",
       "JobSatisfaction             0\n",
       "MaritalStatus               0\n",
       "MonthlyIncome               0\n",
       "MonthlyRate                 0\n",
       "NumCompaniesWorked          0\n",
       "Over18                      0\n",
       "OverTime                    0\n",
       "PercentSalaryHike           0\n",
       "PerformanceRating           0\n",
       "RelationshipSatisfaction    0\n",
       "StandardHours               0\n",
       "StockOptionLevel            0\n",
       "TotalWorkingYears           0\n",
       "TrainingTimesLastYear       0\n",
       "WorkLifeBalance             0\n",
       "YearsAtCompany              0\n",
       "YearsInCurrentRole          0\n",
       "YearsSinceLastPromotion     0\n",
       "YearsWithCurrManager        0\n",
       "dtype: int64"
      ]
     },
     "execution_count": 5,
     "metadata": {},
     "output_type": "execute_result"
    }
   ],
   "source": [
    "df_hr.isnull().sum()"
   ]
  },
  {
   "cell_type": "markdown",
   "id": "6f2c0a89",
   "metadata": {},
   "source": [
    "# while checking null values in the data set no null values present in it"
   ]
  },
  {
   "cell_type": "code",
   "execution_count": 6,
   "id": "f707b0ee",
   "metadata": {},
   "outputs": [
    {
     "name": "stdout",
     "output_type": "stream",
     "text": [
      "<class 'pandas.core.frame.DataFrame'>\n",
      "RangeIndex: 1470 entries, 0 to 1469\n",
      "Data columns (total 35 columns):\n",
      " #   Column                    Non-Null Count  Dtype \n",
      "---  ------                    --------------  ----- \n",
      " 0   Age                       1470 non-null   int64 \n",
      " 1   Attrition                 1470 non-null   object\n",
      " 2   BusinessTravel            1470 non-null   object\n",
      " 3   DailyRate                 1470 non-null   int64 \n",
      " 4   Department                1470 non-null   object\n",
      " 5   DistanceFromHome          1470 non-null   int64 \n",
      " 6   Education                 1470 non-null   int64 \n",
      " 7   EducationField            1470 non-null   object\n",
      " 8   EmployeeCount             1470 non-null   int64 \n",
      " 9   EmployeeNumber            1470 non-null   int64 \n",
      " 10  EnvironmentSatisfaction   1470 non-null   int64 \n",
      " 11  Gender                    1470 non-null   object\n",
      " 12  HourlyRate                1470 non-null   int64 \n",
      " 13  JobInvolvement            1470 non-null   int64 \n",
      " 14  JobLevel                  1470 non-null   int64 \n",
      " 15  JobRole                   1470 non-null   object\n",
      " 16  JobSatisfaction           1470 non-null   int64 \n",
      " 17  MaritalStatus             1470 non-null   object\n",
      " 18  MonthlyIncome             1470 non-null   int64 \n",
      " 19  MonthlyRate               1470 non-null   int64 \n",
      " 20  NumCompaniesWorked        1470 non-null   int64 \n",
      " 21  Over18                    1470 non-null   object\n",
      " 22  OverTime                  1470 non-null   object\n",
      " 23  PercentSalaryHike         1470 non-null   int64 \n",
      " 24  PerformanceRating         1470 non-null   int64 \n",
      " 25  RelationshipSatisfaction  1470 non-null   int64 \n",
      " 26  StandardHours             1470 non-null   int64 \n",
      " 27  StockOptionLevel          1470 non-null   int64 \n",
      " 28  TotalWorkingYears         1470 non-null   int64 \n",
      " 29  TrainingTimesLastYear     1470 non-null   int64 \n",
      " 30  WorkLifeBalance           1470 non-null   int64 \n",
      " 31  YearsAtCompany            1470 non-null   int64 \n",
      " 32  YearsInCurrentRole        1470 non-null   int64 \n",
      " 33  YearsSinceLastPromotion   1470 non-null   int64 \n",
      " 34  YearsWithCurrManager      1470 non-null   int64 \n",
      "dtypes: int64(26), object(9)\n",
      "memory usage: 402.1+ KB\n"
     ]
    }
   ],
   "source": [
    "df_hr.info()"
   ]
  },
  {
   "cell_type": "markdown",
   "id": "dc6d4eeb",
   "metadata": {},
   "source": [
    "# in this 26 columns have dtype is int64 and 9 columns have dtype object"
   ]
  },
  {
   "cell_type": "code",
   "execution_count": 7,
   "id": "fb9861b2",
   "metadata": {},
   "outputs": [],
   "source": [
    "df_hr.drop(columns=[\"EmployeeNumber\"],inplace=True)\n",
    "df_hr.drop(columns=[\"Over18\"],inplace=True)\n",
    "df_hr.drop(columns=[\"EmployeeCount\"],inplace=True)\n",
    "df_hr.drop(columns=[\"StandardHours\"],inplace=True)"
   ]
  },
  {
   "cell_type": "raw",
   "id": "36283e98",
   "metadata": {},
   "source": [
    " There is column employee number in the dataset that we can drop as it does not helps so droped it.\n",
    "\n",
    "Over18 columnn has only one value throughout the dataset so it will not help us in any way so droped it.\n",
    "\n",
    "Here we see that EmployeeCount is having same vaue in entire dataset it will not help us in any way so droped it.\n",
    "\n",
    "Here we see that StandardHours has same value throughout it will not help us in any way so droped it."
   ]
  },
  {
   "cell_type": "code",
   "execution_count": 8,
   "id": "cca763c7",
   "metadata": {},
   "outputs": [
    {
     "data": {
      "text/plain": [
       "<AxesSubplot:xlabel='Attrition', ylabel='count'>"
      ]
     },
     "execution_count": 8,
     "metadata": {},
     "output_type": "execute_result"
    },
    {
     "data": {
      "image/png": "[encoded data removed]",
      "text/plain": [
       "<Figure size 432x288 with 1 Axes>"
      ]
     },
     "metadata": {
      "needs_background": "light"
     },
     "output_type": "display_data"
    }
   ],
   "source": [
    "sns.countplot(x='Attrition',data=df_hr)"
   ]
  },
  {
   "cell_type": "markdown",
   "id": "15b06510",
   "metadata": {},
   "source": [
    "# as per above this is very highly unbalanced data set"
   ]
  },
  {
   "cell_type": "code",
   "execution_count": 9,
   "id": "52ff407d",
   "metadata": {},
   "outputs": [
    {
     "data": {
      "text/plain": [
       "<AxesSubplot:xlabel='Attrition', ylabel='Age'>"
      ]
     },
     "execution_count": 9,
     "metadata": {},
     "output_type": "execute_result"
    },
    {
     "data": {
      "image/png": "[encoded data removed]",
      "text/plain": [
       "<Figure size 432x288 with 1 Axes>"
      ]
     },
     "metadata": {
      "needs_background": "light"
     },
     "output_type": "display_data"
    }
   ],
   "source": [
    "sns.barplot(x=\"Attrition\",y=\"Age\",data=df_hr)"
   ]
  },
  {
   "cell_type": "markdown",
   "id": "a8e2c536",
   "metadata": {},
   "source": [
    "# from the above result we can see that high avg age people are staying more"
   ]
  },
  {
   "cell_type": "code",
   "execution_count": 10,
   "id": "6bede6cd",
   "metadata": {},
   "outputs": [
    {
     "data": {
      "text/plain": [
       "<AxesSubplot:xlabel='BusinessTravel', ylabel='count'>"
      ]
     },
     "execution_count": 10,
     "metadata": {},
     "output_type": "execute_result"
    },
    {
     "data": {
      "image/png": "[encoded data removed]",
      "text/plain": [
       "<Figure size 432x288 with 1 Axes>"
      ]
     },
     "metadata": {
      "needs_background": "light"
     },
     "output_type": "display_data"
    }
   ],
   "source": [
    "sns.countplot(x=\"BusinessTravel\",data=df_hr)"
   ]
  },
  {
   "cell_type": "markdown",
   "id": "2ceb0922",
   "metadata": {},
   "source": [
    "# As checked the count of employees based on buisness travel is most of the employee travel rarely."
   ]
  },
  {
   "cell_type": "code",
   "execution_count": 11,
   "id": "fc0dddb9",
   "metadata": {},
   "outputs": [
    {
     "data": {
      "text/plain": [
       "<AxesSubplot:xlabel='BusinessTravel', ylabel='count'>"
      ]
     },
     "execution_count": 11,
     "metadata": {},
     "output_type": "execute_result"
    },
    {
     "data": {
      "image/png": "[encoded data removed]",
      "text/plain": [
       "<Figure size 432x288 with 1 Axes>"
      ]
     },
     "metadata": {
      "needs_background": "light"
     },
     "output_type": "display_data"
    }
   ],
   "source": [
    "sns.countplot(x=\"BusinessTravel\",data=df_hr,hue=\"Attrition\")"
   ]
  },
  {
   "cell_type": "markdown",
   "id": "3682e41c",
   "metadata": {},
   "source": [
    "# As from above checked count of each category of business travel where employee attrition is true? it can be concluded that proportion of attrition is higher where travel is frequent."
   ]
  },
  {
   "cell_type": "code",
   "execution_count": 12,
   "id": "3d2430cf",
   "metadata": {},
   "outputs": [
    {
     "data": {
      "text/plain": [
       "<AxesSubplot:xlabel='Department', ylabel='count'>"
      ]
     },
     "execution_count": 12,
     "metadata": {},
     "output_type": "execute_result"
    },
    {
     "data": {
      "image/png": "[encoded data removed]",
      "text/plain": [
       "<Figure size 432x288 with 1 Axes>"
      ]
     },
     "metadata": {
      "needs_background": "light"
     },
     "output_type": "display_data"
    }
   ],
   "source": [
    "sns.countplot(x=\"Department\",data=df_hr,hue=\"Attrition\")"
   ]
  },
  {
   "cell_type": "markdown",
   "id": "19296b3f",
   "metadata": {},
   "source": [
    "As checked in above  which department attrintion is high?, Research and development depertment have more attrintion."
   ]
  },
  {
   "cell_type": "code",
   "execution_count": 13,
   "id": "caf40d7b",
   "metadata": {},
   "outputs": [
    {
     "data": {
      "text/plain": [
       "<AxesSubplot:xlabel='Attrition', ylabel='count'>"
      ]
     },
     "execution_count": 13,
     "metadata": {},
     "output_type": "execute_result"
    },
    {
     "data": {
      "image/png": "[encoded data removed]",
      "text/plain": [
       "<Figure size 432x288 with 1 Axes>"
      ]
     },
     "metadata": {
      "needs_background": "light"
     },
     "output_type": "display_data"
    }
   ],
   "source": [
    "sns.countplot(x=\"Attrition\",data=df_hr.loc[df_hr[\"DistanceFromHome\"]>15])"
   ]
  },
  {
   "cell_type": "markdown",
   "id": "f2aafc8b",
   "metadata": {},
   "source": [
    "As checked from above when distance from home is above 15 kms attrintions is less."
   ]
  },
  {
   "cell_type": "code",
   "execution_count": 14,
   "id": "3846a089",
   "metadata": {},
   "outputs": [
    {
     "data": {
      "text/plain": [
       "<AxesSubplot:xlabel='JobRole', ylabel='count'>"
      ]
     },
     "execution_count": 14,
     "metadata": {},
     "output_type": "execute_result"
    },
    {
     "data": {
      "image/png": "[encoded data removed]",
      "text/plain": [
       "<Figure size 1440x288 with 1 Axes>"
      ]
     },
     "metadata": {
      "needs_background": "light"
     },
     "output_type": "display_data"
    }
   ],
   "source": [
    "plt.figure(figsize=(20,4))\n",
    "sns.countplot(x=\"JobRole\",data=df_hr,hue=\"Attrition\")"
   ]
  },
  {
   "cell_type": "markdown",
   "id": "a7dba740",
   "metadata": {},
   "source": [
    "we analysed  from the above the attrition ratio in each category and take corrective actions by understanding the reason behind the attrition."
   ]
  },
  {
   "cell_type": "code",
   "execution_count": 15,
   "id": "d8c90ba0",
   "metadata": {},
   "outputs": [
    {
     "data": {
      "text/plain": [
       "<AxesSubplot:xlabel='Gender', ylabel='count'>"
      ]
     },
     "execution_count": 15,
     "metadata": {},
     "output_type": "execute_result"
    },
    {
     "data": {
      "image/png": "[encoded data removed]",
      "text/plain": [
       "<Figure size 432x288 with 1 Axes>"
      ]
     },
     "metadata": {
      "needs_background": "light"
     },
     "output_type": "display_data"
    }
   ],
   "source": [
    "sns.countplot(x=\"Gender\",data=df_hr,hue=\"Attrition\")"
   ]
  },
  {
   "cell_type": "markdown",
   "id": "d7f7f298",
   "metadata": {},
   "source": [
    "As checked from the above the attrition ratio based on gender Male is high."
   ]
  },
  {
   "cell_type": "code",
   "execution_count": 16,
   "id": "60bcd412",
   "metadata": {},
   "outputs": [
    {
     "data": {
      "text/plain": [
       "<AxesSubplot:xlabel='JobSatisfaction', ylabel='count'>"
      ]
     },
     "execution_count": 16,
     "metadata": {},
     "output_type": "execute_result"
    },
    {
     "data": {
      "image/png": "[encoded data removed]",
      "text/plain": [
       "<Figure size 432x288 with 1 Axes>"
      ]
     },
     "metadata": {
      "needs_background": "light"
     },
     "output_type": "display_data"
    }
   ],
   "source": [
    "sns.countplot(x=\"JobSatisfaction\",data=df_hr,hue=\"Attrition\")"
   ]
  },
  {
   "cell_type": "markdown",
   "id": "c4bb6e5d",
   "metadata": {},
   "source": [
    "As checked from above the attrition ratio based on job satisfaction, job satisfaction increases proportion of aleavers decreases."
   ]
  },
  {
   "cell_type": "code",
   "execution_count": 17,
   "id": "370a4044",
   "metadata": {},
   "outputs": [
    {
     "data": {
      "text/plain": [
       "<AxesSubplot:xlabel='MaritalStatus', ylabel='count'>"
      ]
     },
     "execution_count": 17,
     "metadata": {},
     "output_type": "execute_result"
    },
    {
     "data": {
      "image/png": "[encoded data removed]",
      "text/plain": [
       "<Figure size 432x288 with 1 Axes>"
      ]
     },
     "metadata": {
      "needs_background": "light"
     },
     "output_type": "display_data"
    }
   ],
   "source": [
    "sns.countplot(x=\"MaritalStatus\",data=df_hr,hue=\"Attrition\")"
   ]
  },
  {
   "cell_type": "markdown",
   "id": "7d6aaa27",
   "metadata": {},
   "source": [
    "As checked from above the attrition ratio in MaritalStatus, in singles ratio is higher"
   ]
  },
  {
   "cell_type": "code",
   "execution_count": 18,
   "id": "f6a22896",
   "metadata": {},
   "outputs": [
    {
     "data": {
      "text/plain": [
       "<AxesSubplot:xlabel='OverTime', ylabel='count'>"
      ]
     },
     "execution_count": 18,
     "metadata": {},
     "output_type": "execute_result"
    },
    {
     "data": {
      "image/png": "[encoded data removed]",
      "text/plain": [
       "<Figure size 432x288 with 1 Axes>"
      ]
     },
     "metadata": {
      "needs_background": "light"
     },
     "output_type": "display_data"
    }
   ],
   "source": [
    "sns.countplot(x=\"OverTime\",data=df_hr,hue=\"Attrition\")"
   ]
  },
  {
   "cell_type": "markdown",
   "id": "712d064c",
   "metadata": {},
   "source": [
    "As checked from the above the proportion of attrition based on overtime, overtime is there then attrition proportion is higher."
   ]
  },
  {
   "cell_type": "code",
   "execution_count": 19,
   "id": "4d25bb2f",
   "metadata": {},
   "outputs": [
    {
     "data": {
      "text/plain": [
       "<AxesSubplot:xlabel='YearsWithCurrManager', ylabel='count'>"
      ]
     },
     "execution_count": 19,
     "metadata": {},
     "output_type": "execute_result"
    },
    {
     "data": {
      "image/png": "[encoded data removed]",
      "text/plain": [
       "<Figure size 432x288 with 1 Axes>"
      ]
     },
     "metadata": {
      "needs_background": "light"
     },
     "output_type": "display_data"
    }
   ],
   "source": [
    "sns.countplot(x=\"YearsWithCurrManager\",data=df_hr.loc[df_hr[\"Attrition\"]==\"Yes\"])"
   ]
  },
  {
   "cell_type": "markdown",
   "id": "826e5f1b",
   "metadata": {},
   "source": [
    "we came to know that if years working wth current manager is 0 then attrition was very high Also after 2 years of working significant amount of people left so it can be new project they moved and they dint like job role or something else"
   ]
  },
  {
   "cell_type": "code",
   "execution_count": 20,
   "id": "ea4e8c24",
   "metadata": {},
   "outputs": [
    {
     "data": {
      "text/plain": [
       "<AxesSubplot:xlabel='Attrition', ylabel='YearsAtCompany'>"
      ]
     },
     "execution_count": 20,
     "metadata": {},
     "output_type": "execute_result"
    },
    {
     "data": {
      "image/png": "[encoded data removed]",
      "text/plain": [
       "<Figure size 432x288 with 1 Axes>"
      ]
     },
     "metadata": {
      "needs_background": "light"
     },
     "output_type": "display_data"
    }
   ],
   "source": [
    "sns.barplot(x=\"Attrition\",y=\"YearsAtCompany\",data=df_hr)"
   ]
  },
  {
   "cell_type": "code",
   "execution_count": 21,
   "id": "5b9e3c12",
   "metadata": {},
   "outputs": [
    {
     "data": {
      "text/plain": [
       "<AxesSubplot:xlabel='YearsSinceLastPromotion', ylabel='count'>"
      ]
     },
     "execution_count": 21,
     "metadata": {},
     "output_type": "execute_result"
    },
    {
     "data": {
      "image/png": "[encoded data removed]",
      "text/plain": [
       "<Figure size 432x288 with 1 Axes>"
      ]
     },
     "metadata": {
      "needs_background": "light"
     },
     "output_type": "display_data"
    }
   ],
   "source": [
    "sns.countplot(x='YearsSinceLastPromotion' , data=df_hr[df_hr[\"Attrition\"]==\"Yes\"])"
   ]
  },
  {
   "cell_type": "markdown",
   "id": "79aeb908",
   "metadata": {},
   "source": [
    "Checking from the above the time laped since last promotion, majority almost half of people left not even single year passed since last promotion.\n",
    "\n",
    "we can conclude promotion is not the fact why people left the company"
   ]
  },
  {
   "cell_type": "code",
   "execution_count": 22,
   "id": "40e69a60",
   "metadata": {},
   "outputs": [
    {
     "data": {
      "text/plain": [
       "<AxesSubplot:xlabel='PerformanceRating', ylabel='count'>"
      ]
     },
     "execution_count": 22,
     "metadata": {},
     "output_type": "execute_result"
    },
    {
     "data": {
      "image/png": "[encoded data removed]",
      "text/plain": [
       "<Figure size 432x288 with 1 Axes>"
      ]
     },
     "metadata": {
      "needs_background": "light"
     },
     "output_type": "display_data"
    }
   ],
   "source": [
    "sns.countplot(x=\"PerformanceRating\",data=df_hr.loc[df_hr[\"Attrition\"]==\"Yes\"])"
   ]
  },
  {
   "cell_type": "markdown",
   "id": "99129fe5",
   "metadata": {},
   "source": [
    "As checked from above how performnce rating is afecting attrition level, may be since they expect that their work deserves more rating and is undervalued.\n",
    "\n",
    "Almost all the people who left were who got rating 3"
   ]
  },
  {
   "cell_type": "code",
   "execution_count": 23,
   "id": "d30f8b84",
   "metadata": {},
   "outputs": [
    {
     "data": {
      "text/plain": [
       "<AxesSubplot:>"
      ]
     },
     "execution_count": 23,
     "metadata": {},
     "output_type": "execute_result"
    },
    {
     "data": {
      "image/png": "[encoded data removed]",
      "text/plain": [
       "<Figure size 1296x576 with 2 Axes>"
      ]
     },
     "metadata": {
      "needs_background": "light"
     },
     "output_type": "display_data"
    }
   ],
   "source": [
    "plt.figure(figsize=(18,8))\n",
    "sns.heatmap(df_hr.corr(),annot=True)"
   ]
  },
  {
   "cell_type": "markdown",
   "id": "c5646ed5",
   "metadata": {},
   "source": [
    "some features are strongly correlated"
   ]
  },
  {
   "cell_type": "code",
   "execution_count": 24,
   "id": "65648abe",
   "metadata": {},
   "outputs": [],
   "source": [
    "df_x=df_hr.drop(columns=[\"Attrition\"])\n",
    "y=df_hr[[\"Attrition\"]]"
   ]
  },
  {
   "cell_type": "markdown",
   "id": "5b587594",
   "metadata": {},
   "source": [
    "seperating dependent and independent features."
   ]
  },
  {
   "cell_type": "code",
   "execution_count": 25,
   "id": "f6efec9c",
   "metadata": {},
   "outputs": [
    {
     "name": "stdout",
     "output_type": "stream",
     "text": [
      "Age                         0.413286\n",
      "DailyRate                  -0.003519\n",
      "DistanceFromHome            0.958118\n",
      "Education                  -0.289681\n",
      "EnvironmentSatisfaction    -0.321654\n",
      "HourlyRate                 -0.032311\n",
      "JobInvolvement             -0.498419\n",
      "JobLevel                    1.025401\n",
      "JobSatisfaction            -0.329672\n",
      "MonthlyIncome               1.369817\n",
      "MonthlyRate                 0.018578\n",
      "NumCompaniesWorked          1.026471\n",
      "PercentSalaryHike           0.821128\n",
      "PerformanceRating           1.921883\n",
      "RelationshipSatisfaction   -0.302828\n",
      "StockOptionLevel            0.968980\n",
      "TotalWorkingYears           1.117172\n",
      "TrainingTimesLastYear       0.553124\n",
      "WorkLifeBalance            -0.552480\n",
      "YearsAtCompany              1.764529\n",
      "YearsInCurrentRole          0.917363\n",
      "YearsSinceLastPromotion     1.984290\n",
      "YearsWithCurrManager        0.833451\n",
      "dtype: float64\n",
      "Total count of numeric features:  23\n",
      "count of features which are significantly skewed:  14\n"
     ]
    }
   ],
   "source": [
    "print(df_x.skew())\n",
    "print(\"Total count of numeric features: \",len(df_x.skew()))\n",
    "print(\"count of features which are significantly skewed: \",len(df_x.skew().loc[abs(df_x.skew())>0.5]))"
   ]
  },
  {
   "cell_type": "markdown",
   "id": "d14463b5",
   "metadata": {},
   "source": [
    " as from the aboveTotal count of numeric features: 26 count of features which are significantly skewed: 14"
   ]
  },
  {
   "cell_type": "code",
   "execution_count": 26,
   "id": "17114c8a",
   "metadata": {},
   "outputs": [
    {
     "name": "stdout",
     "output_type": "stream",
     "text": [
      "Age                         0.413286\n",
      "DailyRate                  -0.003519\n",
      "DistanceFromHome           -0.029121\n",
      "Education                  -0.289681\n",
      "EnvironmentSatisfaction    -0.321654\n",
      "HourlyRate                 -0.032311\n",
      "JobInvolvement             -0.498419\n",
      "JobLevel                    0.448133\n",
      "JobSatisfaction            -0.329672\n",
      "MonthlyIncome               0.286448\n",
      "MonthlyRate                 0.018578\n",
      "NumCompaniesWorked          0.092896\n",
      "PercentSalaryHike           0.513543\n",
      "PerformanceRating           1.921883\n",
      "RelationshipSatisfaction   -0.302828\n",
      "StockOptionLevel            0.271963\n",
      "TotalWorkingYears           0.322355\n",
      "TrainingTimesLastYear       0.492375\n",
      "WorkLifeBalance             0.301318\n",
      "YearsAtCompany             -0.207708\n",
      "YearsInCurrentRole         -0.383498\n",
      "YearsSinceLastPromotion     0.718805\n",
      "YearsWithCurrManager       -0.357686\n",
      "dtype: float64\n",
      "Total count of numeric features:  23\n",
      "count of features which are significantly skewed:  3\n"
     ]
    }
   ],
   "source": [
    "import numpy as np\n",
    "for index in df_x.skew().index:\n",
    "    if df_x.skew().loc[index]>0.5:\n",
    "        df_x[index]=np.log1p(df_x[index])\n",
    "    if df_x.skew().loc[index]<-0.5:\n",
    "        df_x[index]=np.square(df_x[index])\n",
    "print(df_x.skew())\n",
    "print(\"Total count of numeric features: \",len(df_x.skew()))\n",
    "print(\"count of features which are significantly skewed: \",len(df_x.skew().loc[abs(df_x.skew())>0.5]))"
   ]
  },
  {
   "cell_type": "markdown",
   "id": "421e5bef",
   "metadata": {},
   "source": [
    "as from above Total count of numeric features: 26 count of features which are significantly skewed: 3"
   ]
  },
  {
   "cell_type": "code",
   "execution_count": 27,
   "id": "9b84350a",
   "metadata": {},
   "outputs": [
    {
     "name": "stdout",
     "output_type": "stream",
     "text": [
      "BusinessTravel    object\n",
      "Department        object\n",
      "EducationField    object\n",
      "Gender            object\n",
      "JobRole           object\n",
      "MaritalStatus     object\n",
      "OverTime          object\n",
      "dtype: object\n"
     ]
    }
   ],
   "source": [
    "print(df_x.dtypes.loc[df_x.dtypes==\"object\"])"
   ]
  },
  {
   "cell_type": "markdown",
   "id": "52bb72f7",
   "metadata": {},
   "source": [
    "there are 7 no of columns dtype:object  "
   ]
  },
  {
   "cell_type": "code",
   "execution_count": 28,
   "id": "1d6cb43d",
   "metadata": {
    "scrolled": true
   },
   "outputs": [
    {
     "data": {
      "text/html": [
       "<div>\n",
       "<style scoped>\n",
       "    .dataframe tbody tr th:only-of-type {\n",
       "        vertical-align: middle;\n",
       "    }\n",
       "\n",
       "    .dataframe tbody tr th {\n",
       "        vertical-align: top;\n",
       "    }\n",
       "\n",
       "    .dataframe thead th {\n",
       "        text-align: right;\n",
       "    }\n",
       "</style>\n",
       "<table border=\"1\" class=\"dataframe\">\n",
       "  <thead>\n",
       "    <tr style=\"text-align: right;\">\n",
       "      <th></th>\n",
       "      <th>Age</th>\n",
       "      <th>DailyRate</th>\n",
       "      <th>DistanceFromHome</th>\n",
       "      <th>Education</th>\n",
       "      <th>EnvironmentSatisfaction</th>\n",
       "      <th>HourlyRate</th>\n",
       "      <th>JobInvolvement</th>\n",
       "      <th>JobLevel</th>\n",
       "      <th>JobSatisfaction</th>\n",
       "      <th>MonthlyIncome</th>\n",
       "      <th>...</th>\n",
       "      <th>JobRole_Laboratory Technician</th>\n",
       "      <th>JobRole_Manager</th>\n",
       "      <th>JobRole_Manufacturing Director</th>\n",
       "      <th>JobRole_Research Director</th>\n",
       "      <th>JobRole_Research Scientist</th>\n",
       "      <th>JobRole_Sales Executive</th>\n",
       "      <th>JobRole_Sales Representative</th>\n",
       "      <th>MaritalStatus_Married</th>\n",
       "      <th>MaritalStatus_Single</th>\n",
       "      <th>OverTime_Yes</th>\n",
       "    </tr>\n",
       "  </thead>\n",
       "  <tbody>\n",
       "    <tr>\n",
       "      <th>0</th>\n",
       "      <td>41</td>\n",
       "      <td>1102</td>\n",
       "      <td>0.693147</td>\n",
       "      <td>2</td>\n",
       "      <td>2</td>\n",
       "      <td>94</td>\n",
       "      <td>3</td>\n",
       "      <td>1.098612</td>\n",
       "      <td>4</td>\n",
       "      <td>8.698514</td>\n",
       "      <td>...</td>\n",
       "      <td>0</td>\n",
       "      <td>0</td>\n",
       "      <td>0</td>\n",
       "      <td>0</td>\n",
       "      <td>0</td>\n",
       "      <td>1</td>\n",
       "      <td>0</td>\n",
       "      <td>0</td>\n",
       "      <td>1</td>\n",
       "      <td>1</td>\n",
       "    </tr>\n",
       "    <tr>\n",
       "      <th>1</th>\n",
       "      <td>49</td>\n",
       "      <td>279</td>\n",
       "      <td>2.197225</td>\n",
       "      <td>1</td>\n",
       "      <td>3</td>\n",
       "      <td>61</td>\n",
       "      <td>2</td>\n",
       "      <td>1.098612</td>\n",
       "      <td>2</td>\n",
       "      <td>8.543056</td>\n",
       "      <td>...</td>\n",
       "      <td>0</td>\n",
       "      <td>0</td>\n",
       "      <td>0</td>\n",
       "      <td>0</td>\n",
       "      <td>1</td>\n",
       "      <td>0</td>\n",
       "      <td>0</td>\n",
       "      <td>1</td>\n",
       "      <td>0</td>\n",
       "      <td>0</td>\n",
       "    </tr>\n",
       "    <tr>\n",
       "      <th>2</th>\n",
       "      <td>37</td>\n",
       "      <td>1373</td>\n",
       "      <td>1.098612</td>\n",
       "      <td>2</td>\n",
       "      <td>4</td>\n",
       "      <td>92</td>\n",
       "      <td>2</td>\n",
       "      <td>0.693147</td>\n",
       "      <td>3</td>\n",
       "      <td>7.645398</td>\n",
       "      <td>...</td>\n",
       "      <td>1</td>\n",
       "      <td>0</td>\n",
       "      <td>0</td>\n",
       "      <td>0</td>\n",
       "      <td>0</td>\n",
       "      <td>0</td>\n",
       "      <td>0</td>\n",
       "      <td>0</td>\n",
       "      <td>1</td>\n",
       "      <td>1</td>\n",
       "    </tr>\n",
       "    <tr>\n",
       "      <th>3</th>\n",
       "      <td>33</td>\n",
       "      <td>1392</td>\n",
       "      <td>1.386294</td>\n",
       "      <td>4</td>\n",
       "      <td>4</td>\n",
       "      <td>56</td>\n",
       "      <td>3</td>\n",
       "      <td>0.693147</td>\n",
       "      <td>3</td>\n",
       "      <td>7.975908</td>\n",
       "      <td>...</td>\n",
       "      <td>0</td>\n",
       "      <td>0</td>\n",
       "      <td>0</td>\n",
       "      <td>0</td>\n",
       "      <td>1</td>\n",
       "      <td>0</td>\n",
       "      <td>0</td>\n",
       "      <td>1</td>\n",
       "      <td>0</td>\n",
       "      <td>1</td>\n",
       "    </tr>\n",
       "    <tr>\n",
       "      <th>4</th>\n",
       "      <td>27</td>\n",
       "      <td>591</td>\n",
       "      <td>1.098612</td>\n",
       "      <td>1</td>\n",
       "      <td>1</td>\n",
       "      <td>40</td>\n",
       "      <td>3</td>\n",
       "      <td>0.693147</td>\n",
       "      <td>2</td>\n",
       "      <td>8.151622</td>\n",
       "      <td>...</td>\n",
       "      <td>1</td>\n",
       "      <td>0</td>\n",
       "      <td>0</td>\n",
       "      <td>0</td>\n",
       "      <td>0</td>\n",
       "      <td>0</td>\n",
       "      <td>0</td>\n",
       "      <td>1</td>\n",
       "      <td>0</td>\n",
       "      <td>0</td>\n",
       "    </tr>\n",
       "    <tr>\n",
       "      <th>...</th>\n",
       "      <td>...</td>\n",
       "      <td>...</td>\n",
       "      <td>...</td>\n",
       "      <td>...</td>\n",
       "      <td>...</td>\n",
       "      <td>...</td>\n",
       "      <td>...</td>\n",
       "      <td>...</td>\n",
       "      <td>...</td>\n",
       "      <td>...</td>\n",
       "      <td>...</td>\n",
       "      <td>...</td>\n",
       "      <td>...</td>\n",
       "      <td>...</td>\n",
       "      <td>...</td>\n",
       "      <td>...</td>\n",
       "      <td>...</td>\n",
       "      <td>...</td>\n",
       "      <td>...</td>\n",
       "      <td>...</td>\n",
       "      <td>...</td>\n",
       "    </tr>\n",
       "    <tr>\n",
       "      <th>1465</th>\n",
       "      <td>36</td>\n",
       "      <td>884</td>\n",
       "      <td>3.178054</td>\n",
       "      <td>2</td>\n",
       "      <td>3</td>\n",
       "      <td>41</td>\n",
       "      <td>4</td>\n",
       "      <td>1.098612</td>\n",
       "      <td>4</td>\n",
       "      <td>7.852439</td>\n",
       "      <td>...</td>\n",
       "      <td>1</td>\n",
       "      <td>0</td>\n",
       "      <td>0</td>\n",
       "      <td>0</td>\n",
       "      <td>0</td>\n",
       "      <td>0</td>\n",
       "      <td>0</td>\n",
       "      <td>1</td>\n",
       "      <td>0</td>\n",
       "      <td>0</td>\n",
       "    </tr>\n",
       "    <tr>\n",
       "      <th>1466</th>\n",
       "      <td>39</td>\n",
       "      <td>613</td>\n",
       "      <td>1.945910</td>\n",
       "      <td>1</td>\n",
       "      <td>4</td>\n",
       "      <td>42</td>\n",
       "      <td>2</td>\n",
       "      <td>1.386294</td>\n",
       "      <td>1</td>\n",
       "      <td>9.209540</td>\n",
       "      <td>...</td>\n",
       "      <td>0</td>\n",
       "      <td>0</td>\n",
       "      <td>0</td>\n",
       "      <td>0</td>\n",
       "      <td>0</td>\n",
       "      <td>0</td>\n",
       "      <td>0</td>\n",
       "      <td>1</td>\n",
       "      <td>0</td>\n",
       "      <td>0</td>\n",
       "    </tr>\n",
       "    <tr>\n",
       "      <th>1467</th>\n",
       "      <td>27</td>\n",
       "      <td>155</td>\n",
       "      <td>1.609438</td>\n",
       "      <td>3</td>\n",
       "      <td>2</td>\n",
       "      <td>87</td>\n",
       "      <td>4</td>\n",
       "      <td>1.098612</td>\n",
       "      <td>2</td>\n",
       "      <td>8.723069</td>\n",
       "      <td>...</td>\n",
       "      <td>0</td>\n",
       "      <td>0</td>\n",
       "      <td>1</td>\n",
       "      <td>0</td>\n",
       "      <td>0</td>\n",
       "      <td>0</td>\n",
       "      <td>0</td>\n",
       "      <td>1</td>\n",
       "      <td>0</td>\n",
       "      <td>1</td>\n",
       "    </tr>\n",
       "    <tr>\n",
       "      <th>1468</th>\n",
       "      <td>49</td>\n",
       "      <td>1023</td>\n",
       "      <td>1.098612</td>\n",
       "      <td>3</td>\n",
       "      <td>4</td>\n",
       "      <td>63</td>\n",
       "      <td>2</td>\n",
       "      <td>1.098612</td>\n",
       "      <td>2</td>\n",
       "      <td>8.592486</td>\n",
       "      <td>...</td>\n",
       "      <td>0</td>\n",
       "      <td>0</td>\n",
       "      <td>0</td>\n",
       "      <td>0</td>\n",
       "      <td>0</td>\n",
       "      <td>1</td>\n",
       "      <td>0</td>\n",
       "      <td>1</td>\n",
       "      <td>0</td>\n",
       "      <td>0</td>\n",
       "    </tr>\n",
       "    <tr>\n",
       "      <th>1469</th>\n",
       "      <td>34</td>\n",
       "      <td>628</td>\n",
       "      <td>2.197225</td>\n",
       "      <td>3</td>\n",
       "      <td>2</td>\n",
       "      <td>82</td>\n",
       "      <td>4</td>\n",
       "      <td>1.098612</td>\n",
       "      <td>3</td>\n",
       "      <td>8.390496</td>\n",
       "      <td>...</td>\n",
       "      <td>1</td>\n",
       "      <td>0</td>\n",
       "      <td>0</td>\n",
       "      <td>0</td>\n",
       "      <td>0</td>\n",
       "      <td>0</td>\n",
       "      <td>0</td>\n",
       "      <td>1</td>\n",
       "      <td>0</td>\n",
       "      <td>0</td>\n",
       "    </tr>\n",
       "  </tbody>\n",
       "</table>\n",
       "<p>1470 rows × 44 columns</p>\n",
       "</div>"
      ],
      "text/plain": [
       "      Age  DailyRate  DistanceFromHome  Education  EnvironmentSatisfaction  \\\n",
       "0      41       1102          0.693147          2                        2   \n",
       "1      49        279          2.197225          1                        3   \n",
       "2      37       1373          1.098612          2                        4   \n",
       "3      33       1392          1.386294          4                        4   \n",
       "4      27        591          1.098612          1                        1   \n",
       "...   ...        ...               ...        ...                      ...   \n",
       "1465   36        884          3.178054          2                        3   \n",
       "1466   39        613          1.945910          1                        4   \n",
       "1467   27        155          1.609438          3                        2   \n",
       "1468   49       1023          1.098612          3                        4   \n",
       "1469   34        628          2.197225          3                        2   \n",
       "\n",
       "      HourlyRate  JobInvolvement  JobLevel  JobSatisfaction  MonthlyIncome  \\\n",
       "0             94               3  1.098612                4       8.698514   \n",
       "1             61               2  1.098612                2       8.543056   \n",
       "2             92               2  0.693147                3       7.645398   \n",
       "3             56               3  0.693147                3       7.975908   \n",
       "4             40               3  0.693147                2       8.151622   \n",
       "...          ...             ...       ...              ...            ...   \n",
       "1465          41               4  1.098612                4       7.852439   \n",
       "1466          42               2  1.386294                1       9.209540   \n",
       "1467          87               4  1.098612                2       8.723069   \n",
       "1468          63               2  1.098612                2       8.592486   \n",
       "1469          82               4  1.098612                3       8.390496   \n",
       "\n",
       "      ...  JobRole_Laboratory Technician  JobRole_Manager  \\\n",
       "0     ...                              0                0   \n",
       "1     ...                              0                0   \n",
       "2     ...                              1                0   \n",
       "3     ...                              0                0   \n",
       "4     ...                              1                0   \n",
       "...   ...                            ...              ...   \n",
       "1465  ...                              1                0   \n",
       "1466  ...                              0                0   \n",
       "1467  ...                              0                0   \n",
       "1468  ...                              0                0   \n",
       "1469  ...                              1                0   \n",
       "\n",
       "      JobRole_Manufacturing Director  JobRole_Research Director  \\\n",
       "0                                  0                          0   \n",
       "1                                  0                          0   \n",
       "2                                  0                          0   \n",
       "3                                  0                          0   \n",
       "4                                  0                          0   \n",
       "...                              ...                        ...   \n",
       "1465                               0                          0   \n",
       "1466                               0                          0   \n",
       "1467                               1                          0   \n",
       "1468                               0                          0   \n",
       "1469                               0                          0   \n",
       "\n",
       "      JobRole_Research Scientist  JobRole_Sales Executive  \\\n",
       "0                              0                        1   \n",
       "1                              1                        0   \n",
       "2                              0                        0   \n",
       "3                              1                        0   \n",
       "4                              0                        0   \n",
       "...                          ...                      ...   \n",
       "1465                           0                        0   \n",
       "1466                           0                        0   \n",
       "1467                           0                        0   \n",
       "1468                           0                        1   \n",
       "1469                           0                        0   \n",
       "\n",
       "      JobRole_Sales Representative  MaritalStatus_Married  \\\n",
       "0                                0                      0   \n",
       "1                                0                      1   \n",
       "2                                0                      0   \n",
       "3                                0                      1   \n",
       "4                                0                      1   \n",
       "...                            ...                    ...   \n",
       "1465                             0                      1   \n",
       "1466                             0                      1   \n",
       "1467                             0                      1   \n",
       "1468                             0                      1   \n",
       "1469                             0                      1   \n",
       "\n",
       "      MaritalStatus_Single  OverTime_Yes  \n",
       "0                        1             1  \n",
       "1                        0             0  \n",
       "2                        1             1  \n",
       "3                        0             1  \n",
       "4                        0             0  \n",
       "...                    ...           ...  \n",
       "1465                     0             0  \n",
       "1466                     0             0  \n",
       "1467                     0             1  \n",
       "1468                     0             0  \n",
       "1469                     0             0  \n",
       "\n",
       "[1470 rows x 44 columns]"
      ]
     },
     "execution_count": 28,
     "metadata": {},
     "output_type": "execute_result"
    }
   ],
   "source": [
    "df_x=pd.get_dummies(df_x,drop_first=True)\n",
    "df_x"
   ]
  },
  {
   "cell_type": "markdown",
   "id": "c02cbbe1",
   "metadata": {},
   "source": [
    "using one hot encoding convert above columns to 1 and 0"
   ]
  },
  {
   "cell_type": "code",
   "execution_count": 29,
   "id": "33376862",
   "metadata": {},
   "outputs": [
    {
     "name": "stdout",
     "output_type": "stream",
     "text": [
      "(1470, 44)\n",
      "(856, 44)\n"
     ]
    }
   ],
   "source": [
    "from scipy.stats import zscore\n",
    "z_score=abs(zscore(df_x))\n",
    "print(df_x.shape)\n",
    "df_x_final=df_x.loc[(z_score<3).all(axis=1)]\n",
    "print(df_x_final.shape)"
   ]
  },
  {
   "cell_type": "markdown",
   "id": "ae02a435",
   "metadata": {},
   "source": [
    "50% data willbe lost we need to avoid it"
   ]
  },
  {
   "cell_type": "code",
   "execution_count": 30,
   "id": "0efbd4c8",
   "metadata": {},
   "outputs": [],
   "source": [
    "from sklearn.preprocessing import StandardScaler\n",
    "sc=StandardScaler()\n",
    "sc.fit(df_x)\n",
    "x=sc.transform(df_x)\n",
    "x=pd.DataFrame(x,columns=df_x.columns)"
   ]
  },
  {
   "cell_type": "markdown",
   "id": "38974640",
   "metadata": {},
   "source": [
    "converting features to common scale as we will use logistic regression also"
   ]
  },
  {
   "cell_type": "code",
   "execution_count": 31,
   "id": "95400194",
   "metadata": {},
   "outputs": [
    {
     "name": "stderr",
     "output_type": "stream",
     "text": [
      "C:\\Users\\hp-pc\\anaconda3\\lib\\site-packages\\sklearn\\preprocessing\\_label.py:98: DataConversionWarning: A column-vector y was passed when a 1d array was expected. Please change the shape of y to (n_samples, ), for example using ravel().\n",
      "  y = column_or_1d(y, warn=True)\n",
      "C:\\Users\\hp-pc\\anaconda3\\lib\\site-packages\\sklearn\\preprocessing\\_label.py:133: DataConversionWarning: A column-vector y was passed when a 1d array was expected. Please change the shape of y to (n_samples, ), for example using ravel().\n",
      "  y = column_or_1d(y, warn=True)\n"
     ]
    },
    {
     "data": {
      "text/plain": [
       "array([1, 0, 1, ..., 0, 0, 0])"
      ]
     },
     "execution_count": 31,
     "metadata": {},
     "output_type": "execute_result"
    }
   ],
   "source": [
    "from sklearn.preprocessing import LabelEncoder\n",
    "le=LabelEncoder()\n",
    "le.fit(y)\n",
    "y=le.transform(y)\n",
    "y\n"
   ]
  },
  {
   "cell_type": "markdown",
   "id": "0185d811",
   "metadata": {},
   "source": [
    "convert target class into integers using labelencoder"
   ]
  },
  {
   "cell_type": "code",
   "execution_count": 32,
   "id": "8aafaa59",
   "metadata": {},
   "outputs": [
    {
     "data": {
      "text/plain": [
       "ExtraTreesClassifier()"
      ]
     },
     "execution_count": 32,
     "metadata": {},
     "output_type": "execute_result"
    }
   ],
   "source": [
    "from sklearn.ensemble import ExtraTreesClassifier\n",
    "import matplotlib.pyplot as plt\n",
    "model = ExtraTreesClassifier()\n",
    "model.fit(x,y)"
   ]
  },
  {
   "cell_type": "code",
   "execution_count": 33,
   "id": "d150fbf6",
   "metadata": {},
   "outputs": [
    {
     "name": "stdout",
     "output_type": "stream",
     "text": [
      "[0.03742614 0.03030193 0.02998282 0.02437328 0.03414708 0.02878271\n",
      " 0.02993523 0.02886701 0.03256156 0.03829131 0.02730505 0.02876964\n",
      " 0.02755711 0.01328629 0.02892202 0.02670217 0.03916474 0.02615535\n",
      " 0.03195687 0.03119122 0.03316453 0.02679581 0.03276674 0.02048386\n",
      " 0.01426142 0.01157436 0.01058154 0.01453678 0.0111224  0.01644356\n",
      " 0.005393   0.01235835 0.01982381 0.00549093 0.01641971 0.00397734\n",
      " 0.00590057 0.00287967 0.012061   0.0095137  0.01174983 0.01430432\n",
      " 0.02859023 0.06412704]\n"
     ]
    }
   ],
   "source": [
    "print(model.feature_importances_)"
   ]
  },
  {
   "cell_type": "code",
   "execution_count": 34,
   "id": "eddf8739",
   "metadata": {},
   "outputs": [
    {
     "data": {
      "image/png": "[encoded data removed]",
      "text/plain": [
       "<Figure size 432x288 with 1 Axes>"
      ]
     },
     "metadata": {
      "needs_background": "light"
     },
     "output_type": "display_data"
    }
   ],
   "source": [
    "#plot graph of feature importances for better visualization\n",
    "feat_importances = pd.Series(model.feature_importances_, index=x.columns)\n",
    "feat_importances.nlargest(5).plot(kind='barh')\n",
    "plt.show()"
   ]
  },
  {
   "cell_type": "code",
   "execution_count": 35,
   "id": "4228f749",
   "metadata": {},
   "outputs": [],
   "source": [
    "from imblearn.over_sampling import SMOTE\n",
    "from sklearn.metrics import roc_auc_score\n",
    "from sklearn.model_selection import train_test_split\n",
    "def max_aucroc_score(clf,df_x,y):\n",
    "    max_aucroc_score=0\n",
    "    for r_state in range(42,100):\n",
    "        x_train, x_test, y_train, y_test = train_test_split(df_x, y,random_state = r_state,test_size=0.20,stratify=y)\n",
    "        x_train, y_train = SMOTE().fit_sample(x_train, y_train)\n",
    "        clf.fit(x_train,y_train)\n",
    "        y_pred = clf.predict(x_test)\n",
    "        aucroc_scr=roc_auc_score(y_test,y_pred)\n",
    "        print(\"auc roc score corresponding to \",r_state,\" is \",aucroc_scr)\n",
    "        if aucroc_scr>max_aucroc_score:\n",
    "            max_aucroc_score=aucroc_scr\n",
    "            final_r_state=r_state\n",
    "    print(\"max auc roc score corresponding to \",final_r_state,\" is \",max_aucroc_score)\n",
    "    return final_r_state"
   ]
  },
  {
   "cell_type": "code",
   "execution_count": 36,
   "id": "a0b07f2b",
   "metadata": {},
   "outputs": [
    {
     "name": "stdout",
     "output_type": "stream",
     "text": [
      "auc roc score corresponding to  42  is  0.7093203548970627\n",
      "auc roc score corresponding to  43  is  0.8015332931346368\n",
      "auc roc score corresponding to  44  is  0.7726333017486432\n",
      "auc roc score corresponding to  45  is  0.7118614867775003\n",
      "auc roc score corresponding to  46  is  0.7417520888965458\n",
      "auc roc score corresponding to  47  is  0.7377035059005943\n",
      "auc roc score corresponding to  48  is  0.7888276337324489\n",
      "auc roc score corresponding to  49  is  0.7458006718924972\n",
      "auc roc score corresponding to  50  is  0.7832715996209838\n",
      "auc roc score corresponding to  51  is  0.820785597381342\n",
      "auc roc score corresponding to  52  is  0.7767249547764665\n",
      "auc roc score corresponding to  53  is  0.8166939443535188\n",
      "auc roc score corresponding to  54  is  0.7366698251356706\n",
      "auc roc score corresponding to  55  is  0.7305969506417435\n",
      "auc roc score corresponding to  56  is  0.7503660952709106\n",
      "auc roc score corresponding to  57  is  0.7204754931518649\n",
      "auc roc score corresponding to  58  is  0.7103540356619864\n",
      "auc roc score corresponding to  59  is  0.7995090016366612\n",
      "auc roc score corresponding to  60  is  0.748815574123525\n",
      "auc roc score corresponding to  61  is  0.7792230166250323\n",
      "auc roc score corresponding to  62  is  0.7483418037729348\n",
      "auc roc score corresponding to  63  is  0.7321044017572573\n",
      "auc roc score corresponding to  64  is  0.7199586527694031\n",
      "auc roc score corresponding to  65  is  0.8045481953656646\n",
      "auc roc score corresponding to  66  is  0.7817641485054698\n",
      "auc roc score corresponding to  67  is  0.7630286846412266\n",
      "auc roc score corresponding to  68  is  0.7660435868722542\n",
      "auc roc score corresponding to  69  is  0.7554483590317855\n",
      "auc roc score corresponding to  70  is  0.8248341803772935\n",
      "auc roc score corresponding to  71  is  0.7569558101472995\n",
      "auc roc score corresponding to  72  is  0.7731501421311052\n",
      "auc roc score corresponding to  73  is  0.7356792144026186\n",
      "auc roc score corresponding to  74  is  0.7994659316047894\n",
      "auc roc score corresponding to  75  is  0.7792230166250323\n",
      "auc roc score corresponding to  76  is  0.7518735463864243\n",
      "auc roc score corresponding to  77  is  0.7675941080196398\n",
      "auc roc score corresponding to  78  is  0.7924024463778102\n",
      "auc roc score corresponding to  79  is  0.7696183995176156\n",
      "auc roc score corresponding to  80  is  0.7777155655095185\n",
      "auc roc score corresponding to  81  is  0.7685847187526919\n",
      "auc roc score corresponding to  82  is  0.8131622017400293\n",
      "auc roc score corresponding to  83  is  0.7346886036695668\n",
      "auc roc score corresponding to  84  is  0.7954604186407097\n",
      "auc roc score corresponding to  85  is  0.7544146782668619\n",
      "auc roc score corresponding to  86  is  0.7549315186493238\n",
      "auc roc score corresponding to  87  is  0.7478249633904729\n",
      "auc roc score corresponding to  88  is  0.7351623740201568\n",
      "auc roc score corresponding to  89  is  0.7630286846412266\n",
      "auc roc score corresponding to  90  is  0.7458006718924972\n",
      "auc roc score corresponding to  91  is  0.7037643207855974\n",
      "auc roc score corresponding to  92  is  0.7782324058919803\n",
      "auc roc score corresponding to  93  is  0.7691015591351538\n",
      "auc roc score corresponding to  94  is  0.7655267464897925\n",
      "auc roc score corresponding to  95  is  0.7635455250236886\n",
      "auc roc score corresponding to  96  is  0.761004393143251\n",
      "auc roc score corresponding to  97  is  0.7224997846498405\n",
      "auc roc score corresponding to  98  is  0.7650529761392023\n",
      "auc roc score corresponding to  99  is  0.7199586527694031\n",
      "max auc roc score corresponding to  70  is  0.8248341803772935\n"
     ]
    },
    {
     "data": {
      "text/plain": [
       "70"
      ]
     },
     "execution_count": 36,
     "metadata": {},
     "output_type": "execute_result"
    }
   ],
   "source": [
    "from sklearn.linear_model import LogisticRegression\n",
    "import warnings\n",
    "warnings.filterwarnings(\"ignore\")\n",
    "lg_clf=LogisticRegression()\n",
    "max_aucroc_score(lg_clf,x,y)"
   ]
  },
  {
   "cell_type": "code",
   "execution_count": 37,
   "id": "088658cd",
   "metadata": {},
   "outputs": [
    {
     "name": "stdout",
     "output_type": "stream",
     "text": [
      "Mean roc auc score for logistic classifier:  0.8425184815957902\n",
      "standard deviation in roc auc score for logistic classifier:  0.018609160244716556\n",
      "[0.84281843 0.84569783 0.83607546 0.81505728 0.87294341]\n"
     ]
    }
   ],
   "source": [
    "from sklearn.model_selection import cross_val_score\n",
    "print(\"Mean roc auc score for logistic classifier: \",cross_val_score(lg_clf,x,y,cv=5,scoring=\"roc_auc\").mean())\n",
    "print(\"standard deviation in roc auc score for logistic classifier: \",cross_val_score(lg_clf,x,y,cv=5,scoring=\"roc_auc\").std())\n",
    "print(cross_val_score(lg_clf,x,y,cv=5,scoring=\"roc_auc\"))"
   ]
  },
  {
   "cell_type": "code",
   "execution_count": 38,
   "id": "263de259",
   "metadata": {},
   "outputs": [
    {
     "name": "stdout",
     "output_type": "stream",
     "text": [
      "auc roc score corresponding to  42  is  0.6419157550176586\n",
      "auc roc score corresponding to  43  is  0.6029373761736583\n",
      "auc roc score corresponding to  44  is  0.5613747954173487\n",
      "auc roc score corresponding to  45  is  0.5791196485485399\n",
      "auc roc score corresponding to  46  is  0.65966060814885\n",
      "auc roc score corresponding to  47  is  0.6378671720217073\n",
      "auc roc score corresponding to  48  is  0.6606512188819019\n",
      "auc roc score corresponding to  49  is  0.5314841932983031\n",
      "auc roc score corresponding to  50  is  0.5958308209148074\n",
      "auc roc score corresponding to  51  is  0.6150831251615126\n",
      "auc roc score corresponding to  52  is  0.5345421655612025\n",
      "auc roc score corresponding to  53  is  0.5684813506761994\n",
      "auc roc score corresponding to  54  is  0.5897579464208803\n",
      "auc roc score corresponding to  55  is  0.6115083125161513\n",
      "auc roc score corresponding to  56  is  0.5279524506848134\n",
      "auc roc score corresponding to  57  is  0.5547850805409595\n",
      "auc roc score corresponding to  58  is  0.5618916357998105\n",
      "auc roc score corresponding to  59  is  0.5213627358084245\n",
      "auc roc score corresponding to  60  is  0.5892411060384184\n",
      "auc roc score corresponding to  61  is  0.6429063657507106\n",
      "auc roc score corresponding to  62  is  0.6302868464122663\n",
      "auc roc score corresponding to  63  is  0.4975450081833061\n",
      "auc roc score corresponding to  64  is  0.6297700060298044\n",
      "auc roc score corresponding to  65  is  0.639891463519683\n",
      "auc roc score corresponding to  66  is  0.6317942975277802\n",
      "auc roc score corresponding to  67  is  0.5613747954173487\n",
      "auc roc score corresponding to  68  is  0.5851925230424669\n",
      "auc roc score corresponding to  69  is  0.6434662761650443\n",
      "auc roc score corresponding to  70  is  0.5381169782065639\n",
      "auc roc score corresponding to  71  is  0.577612197433026\n",
      "auc roc score corresponding to  72  is  0.5938065294168318\n",
      "auc roc score corresponding to  73  is  0.6571194762684124\n",
      "auc roc score corresponding to  74  is  0.6140494443965888\n",
      "auc roc score corresponding to  75  is  0.5684813506761994\n",
      "auc roc score corresponding to  76  is  0.6201653889223877\n",
      "auc roc score corresponding to  77  is  0.6196485485399259\n",
      "auc roc score corresponding to  78  is  0.646481178396072\n",
      "auc roc score corresponding to  79  is  0.5922990783013179\n",
      "auc roc score corresponding to  80  is  0.6459643380136101\n",
      "auc roc score corresponding to  81  is  0.5385907485571539\n",
      "auc roc score corresponding to  82  is  0.6317942975277802\n",
      "auc roc score corresponding to  83  is  0.5492290464294943\n",
      "auc roc score corresponding to  84  is  0.6282625549142906\n",
      "auc roc score corresponding to  85  is  0.626712033766905\n",
      "auc roc score corresponding to  86  is  0.6844689465070204\n",
      "auc roc score corresponding to  87  is  0.5517701783099319\n",
      "auc roc score corresponding to  88  is  0.6231802911534154\n",
      "auc roc score corresponding to  89  is  0.5791196485485399\n",
      "auc roc score corresponding to  90  is  0.5603841846842966\n",
      "auc roc score corresponding to  91  is  0.5938065294168318\n",
      "auc roc score corresponding to  92  is  0.5750710655525885\n",
      "auc roc score corresponding to  93  is  0.5026272719441812\n",
      "auc roc score corresponding to  94  is  0.5487122060470324\n",
      "auc roc score corresponding to  95  is  0.5598673443018347\n",
      "auc roc score corresponding to  96  is  0.6130588336635369\n",
      "auc roc score corresponding to  97  is  0.5892411060384184\n",
      "auc roc score corresponding to  98  is  0.5750710655525885\n",
      "auc roc score corresponding to  99  is  0.5714962529072272\n",
      "max auc roc score corresponding to  86  is  0.6844689465070204\n"
     ]
    },
    {
     "data": {
      "text/plain": [
       "86"
      ]
     },
     "execution_count": 38,
     "metadata": {},
     "output_type": "execute_result"
    }
   ],
   "source": [
    "from sklearn.tree import DecisionTreeClassifier\n",
    "dc=DecisionTreeClassifier()\n",
    "max_aucroc_score(dc,df_x,y)"
   ]
  },
  {
   "cell_type": "code",
   "execution_count": 39,
   "id": "bdcb85cd",
   "metadata": {},
   "outputs": [
    {
     "name": "stdout",
     "output_type": "stream",
     "text": [
      "Mean auc roc score for decision tree classifier:  0.617510191490062\n",
      "standard deviation in auc roc score for decision tree classifier:  0.017381906508074915\n",
      "[0.62271341 0.64761179 0.6753381  0.58669997 0.64596434]\n"
     ]
    }
   ],
   "source": [
    "print(\"Mean auc roc score for decision tree classifier: \",cross_val_score(dc,df_x,y,cv=5,scoring=\"roc_auc\").mean())\n",
    "print(\"standard deviation in auc roc score for decision tree classifier: \",cross_val_score(dc,df_x,y,cv=5,scoring=\"roc_auc\").std())\n",
    "print(cross_val_score(dc,df_x,y,cv=5,scoring=\"roc_auc\"))"
   ]
  },
  {
   "cell_type": "code",
   "execution_count": 40,
   "id": "aa1a03de",
   "metadata": {},
   "outputs": [
    {
     "data": {
      "text/plain": [
       "{'criterion': 'entropy',\n",
       " 'min_samples_leaf': 2,\n",
       " 'min_samples_split': 2,\n",
       " 'n_estimators': 500}"
      ]
     },
     "execution_count": 40,
     "metadata": {},
     "output_type": "execute_result"
    }
   ],
   "source": [
    "from sklearn.ensemble import RandomForestClassifier\n",
    "from sklearn.model_selection import GridSearchCV\n",
    "n_estimators=[10,100,500]\n",
    "criterion=['entropy','gini']\n",
    "min_samples_split=[2,5,8]\n",
    "min_samples_leaf=[1,2,4]\n",
    "parameters={'n_estimators':n_estimators,'min_samples_split':min_samples_split,'min_samples_leaf':min_samples_leaf,'criterion':criterion}\n",
    "rf_clf=RandomForestClassifier()\n",
    "clf = GridSearchCV(rf_clf, parameters, cv=3,scoring=\"roc_auc\")\n",
    "clf.fit(df_x,y)\n",
    "clf.best_params_"
   ]
  },
  {
   "cell_type": "code",
   "execution_count": 41,
   "id": "45c6f661",
   "metadata": {},
   "outputs": [
    {
     "name": "stdout",
     "output_type": "stream",
     "text": [
      "auc roc score corresponding to  42  is  0.5755017658713066\n",
      "auc roc score corresponding to  43  is  0.6221035403566199\n",
      "auc roc score corresponding to  44  is  0.6362735808424498\n",
      "auc roc score corresponding to  45  is  0.6307175467309846\n",
      "auc roc score corresponding to  46  is  0.6327418382289604\n",
      "auc roc score corresponding to  47  is  0.6155138254802308\n",
      "auc roc score corresponding to  48  is  0.6479455594797141\n",
      "auc roc score corresponding to  49  is  0.5835989318632095\n",
      "auc roc score corresponding to  50  is  0.5815746403652338\n",
      "auc roc score corresponding to  51  is  0.6048755276078904\n",
      "auc roc score corresponding to  52  is  0.6048755276078904\n",
      "auc roc score corresponding to  53  is  0.59423722973555\n",
      "auc roc score corresponding to  54  is  0.5582737531225773\n",
      "auc roc score corresponding to  55  is  0.5982858127315014\n",
      "auc roc score corresponding to  56  is  0.5694288913773797\n",
      "auc roc score corresponding to  57  is  0.573477474373331\n",
      "auc roc score corresponding to  58  is  0.6200792488586442\n",
      "auc roc score corresponding to  59  is  0.6671978637264191\n",
      "auc roc score corresponding to  60  is  0.6048755276078904\n",
      "auc roc score corresponding to  61  is  0.6236109914721336\n",
      "auc roc score corresponding to  62  is  0.6221035403566199\n",
      "auc roc score corresponding to  63  is  0.6175381169782066\n",
      "auc roc score corresponding to  64  is  0.6302007063485227\n",
      "auc roc score corresponding to  65  is  0.5982858127315014\n",
      "auc roc score corresponding to  66  is  0.600826944611939\n",
      "auc roc score corresponding to  67  is  0.5709363424928934\n",
      "auc roc score corresponding to  68  is  0.5770092169868206\n",
      "auc roc score corresponding to  69  is  0.6140063743647171\n",
      "auc roc score corresponding to  70  is  0.5988026531139633\n",
      "auc roc score corresponding to  71  is  0.6155138254802308\n",
      "auc roc score corresponding to  72  is  0.6155138254802308\n",
      "auc roc score corresponding to  73  is  0.5815746403652338\n",
      "auc roc score corresponding to  74  is  0.6302007063485227\n",
      "auc roc score corresponding to  75  is  0.6200792488586442\n",
      "auc roc score corresponding to  76  is  0.6322249978464984\n",
      "auc roc score corresponding to  77  is  0.600826944611939\n",
      "auc roc score corresponding to  78  is  0.6068998191058662\n",
      "auc roc score corresponding to  79  is  0.5861400637436471\n",
      "auc roc score corresponding to  80  is  0.6479455594797141\n",
      "auc roc score corresponding to  81  is  0.6241278318545955\n",
      "auc roc score corresponding to  82  is  0.613489533982255\n",
      "auc roc score corresponding to  83  is  0.6195624084761823\n",
      "auc roc score corresponding to  84  is  0.5820914807476958\n",
      "auc roc score corresponding to  85  is  0.600826944611939\n",
      "auc roc score corresponding to  86  is  0.6200792488586442\n",
      "auc roc score corresponding to  87  is  0.613489533982255\n",
      "auc roc score corresponding to  88  is  0.6712464467223705\n",
      "auc roc score corresponding to  89  is  0.6540184339736412\n",
      "auc roc score corresponding to  90  is  0.6094409509863037\n",
      "auc roc score corresponding to  91  is  0.6585838573520545\n",
      "auc roc score corresponding to  92  is  0.6241278318545955\n",
      "auc roc score corresponding to  93  is  0.6646567318459815\n",
      "auc roc score corresponding to  94  is  0.5623223361185288\n",
      "auc roc score corresponding to  95  is  0.594754070118012\n",
      "auc roc score corresponding to  96  is  0.5988026531139633\n",
      "auc roc score corresponding to  97  is  0.6048755276078904\n",
      "auc roc score corresponding to  98  is  0.5608148850030149\n",
      "auc roc score corresponding to  99  is  0.5683952106124559\n",
      "max auc roc score corresponding to  88  is  0.6712464467223705\n"
     ]
    },
    {
     "data": {
      "text/plain": [
       "88"
      ]
     },
     "execution_count": 41,
     "metadata": {},
     "output_type": "execute_result"
    }
   ],
   "source": [
    "rf_clf=RandomForestClassifier(n_estimators=500,criterion='entropy',min_samples_leaf=2,min_samples_split=2,)\n",
    "max_aucroc_score(rf_clf,df_x,y)"
   ]
  },
  {
   "cell_type": "code",
   "execution_count": 42,
   "id": "05a2d3a1",
   "metadata": {},
   "outputs": [
    {
     "data": {
      "text/plain": [
       "{'leaf_size': 1, 'n_neighbors': 28, 'p': 1}"
      ]
     },
     "execution_count": 42,
     "metadata": {},
     "output_type": "execute_result"
    }
   ],
   "source": [
    "from sklearn.model_selection import GridSearchCV \n",
    "from sklearn.neighbors import KNeighborsClassifier \n",
    "import warnings \n",
    "warnings.filterwarnings(\"ignore\") \n",
    "leaf_size = list(range(1,10)) \n",
    "n_neighbors = list(range(1,30)) \n",
    "p=[1,2] \n",
    "parameters={\"n_neighbors\":n_neighbors,\"leaf_size\":leaf_size, \"p\":p} \n",
    "kc=KNeighborsClassifier() \n",
    "clf = GridSearchCV(kc, parameters, cv=3,scoring=\"roc_auc\") \n",
    "clf.fit(x,y) \n",
    "clf.best_params_"
   ]
  },
  {
   "cell_type": "code",
   "execution_count": 43,
   "id": "ea819d79",
   "metadata": {},
   "outputs": [
    {
     "name": "stdout",
     "output_type": "stream",
     "text": [
      "auc roc score corresponding to  42  is  0.65918683779826\n",
      "auc roc score corresponding to  43  is  0.7630286846412266\n",
      "auc roc score corresponding to  44  is  0.6971746059092083\n",
      "auc roc score corresponding to  45  is  0.6485485399259195\n",
      "auc roc score corresponding to  46  is  0.6495822206908435\n",
      "auc roc score corresponding to  47  is  0.6976914462916702\n",
      "auc roc score corresponding to  48  is  0.6804634335429408\n",
      "auc roc score corresponding to  49  is  0.6916185717977431\n",
      "auc roc score corresponding to  50  is  0.6095270910500473\n",
      "auc roc score corresponding to  51  is  0.7681109484021018\n",
      "auc roc score corresponding to  52  is  0.6976914462916702\n",
      "auc roc score corresponding to  53  is  0.706779223016625\n",
      "auc roc score corresponding to  54  is  0.6748643293996037\n",
      "auc roc score corresponding to  55  is  0.6277887845637005\n",
      "auc roc score corresponding to  56  is  0.685545697303816\n",
      "auc roc score corresponding to  57  is  0.672366267551038\n",
      "auc roc score corresponding to  58  is  0.5943664398311653\n",
      "auc roc score corresponding to  59  is  0.7356792144026186\n",
      "auc roc score corresponding to  60  is  0.7240072357653545\n",
      "auc roc score corresponding to  61  is  0.67335687828409\n",
      "auc roc score corresponding to  62  is  0.6500990610733052\n",
      "auc roc score corresponding to  63  is  0.64549056766302\n",
      "auc roc score corresponding to  64  is  0.6890774399173056\n",
      "auc roc score corresponding to  65  is  0.6221896804203634\n",
      "auc roc score corresponding to  66  is  0.7311137910242054\n",
      "auc roc score corresponding to  67  is  0.6875699888017918\n",
      "auc roc score corresponding to  68  is  0.6551382548023087\n",
      "auc roc score corresponding to  69  is  0.677965371694375\n",
      "auc roc score corresponding to  70  is  0.6961839951761564\n",
      "auc roc score corresponding to  71  is  0.686019467654406\n",
      "auc roc score corresponding to  72  is  0.6865363080368679\n",
      "auc roc score corresponding to  73  is  0.713885778275476\n",
      "auc roc score corresponding to  74  is  0.7164269101559134\n",
      "auc roc score corresponding to  75  is  0.7027306400206735\n",
      "auc roc score corresponding to  76  is  0.6460074080454818\n",
      "auc roc score corresponding to  77  is  0.7149194590403998\n",
      "auc roc score corresponding to  78  is  0.7098371952795244\n",
      "auc roc score corresponding to  79  is  0.7569558101472995\n",
      "auc roc score corresponding to  80  is  0.7275820484107158\n",
      "auc roc score corresponding to  81  is  0.6997157377896459\n",
      "auc roc score corresponding to  82  is  0.7194418123869413\n",
      "auc roc score corresponding to  83  is  0.6814540442759929\n",
      "auc roc score corresponding to  84  is  0.6429925058144542\n",
      "auc roc score corresponding to  85  is  0.7144026186579377\n",
      "auc roc score corresponding to  86  is  0.6632354207942115\n",
      "auc roc score corresponding to  87  is  0.7305969506417435\n",
      "auc roc score corresponding to  88  is  0.7103540356619864\n",
      "auc roc score corresponding to  89  is  0.7123783271599621\n",
      "auc roc score corresponding to  90  is  0.6683176845550866\n",
      "auc roc score corresponding to  91  is  0.6683176845550866\n",
      "auc roc score corresponding to  92  is  0.6556550951847705\n",
      "auc roc score corresponding to  93  is  0.767077267637178\n",
      "auc roc score corresponding to  94  is  0.6672840037901628\n",
      "auc roc score corresponding to  95  is  0.7255577569127402\n",
      "auc roc score corresponding to  96  is  0.7052717719011112\n",
      "auc roc score corresponding to  97  is  0.68705314841933\n",
      "auc roc score corresponding to  98  is  0.658669997415798\n",
      "auc roc score corresponding to  99  is  0.6890774399173056\n",
      "max auc roc score corresponding to  51  is  0.7681109484021018\n"
     ]
    },
    {
     "data": {
      "text/plain": [
       "51"
      ]
     },
     "execution_count": 43,
     "metadata": {},
     "output_type": "execute_result"
    }
   ],
   "source": [
    "kc=KNeighborsClassifier(n_neighbors=28, leaf_size=1,p=1 )\n",
    "max_aucroc_score(kc,x,y)\n"
   ]
  },
  {
   "cell_type": "code",
   "execution_count": 44,
   "id": "ad5de758",
   "metadata": {},
   "outputs": [
    {
     "data": {
      "text/plain": [
       "{'C': 1, 'gamma': 0.01, 'kernel': 'rbf'}"
      ]
     },
     "execution_count": 44,
     "metadata": {},
     "output_type": "execute_result"
    }
   ],
   "source": [
    "from sklearn.svm import SVC\n",
    "svc=SVC()\n",
    "parameters={\"kernel\":[\"linear\", \"poly\", \"rbf\"],\"C\":[0.1,1,10,100], 'gamma': [0.0001, 0.001,0.01, 0.1,1,10 ]}\n",
    "clf = GridSearchCV(svc, parameters, cv=3,scoring=\"roc_auc\")\n",
    "clf.fit(x,y)\n",
    "clf.best_params_"
   ]
  },
  {
   "cell_type": "code",
   "execution_count": 45,
   "id": "1075e5a6",
   "metadata": {},
   "outputs": [
    {
     "name": "stdout",
     "output_type": "stream",
     "text": [
      "auc roc score corresponding to  42  is  0.7052287018692394\n",
      "auc roc score corresponding to  43  is  0.7584201912309415\n",
      "auc roc score corresponding to  44  is  0.6945904039968989\n",
      "auc roc score corresponding to  45  is  0.6778792316306314\n",
      "auc roc score corresponding to  46  is  0.6677577741407529\n",
      "auc roc score corresponding to  47  is  0.7138427082436043\n",
      "auc roc score corresponding to  48  is  0.728529589111896\n",
      "auc roc score corresponding to  49  is  0.7376604358687227\n",
      "auc roc score corresponding to  50  is  0.7214230338530451\n",
      "auc roc score corresponding to  51  is  0.7609613231113791\n",
      "auc roc score corresponding to  52  is  0.7310707209923335\n",
      "auc roc score corresponding to  53  is  0.7639762253424068\n",
      "auc roc score corresponding to  54  is  0.7265052976139202\n",
      "auc roc score corresponding to  55  is  0.6991558273753122\n",
      "auc roc score corresponding to  56  is  0.6951072443793608\n",
      "auc roc score corresponding to  57  is  0.7158669997415799\n",
      "auc roc score corresponding to  58  is  0.6824446550090446\n",
      "auc roc score corresponding to  59  is  0.7589370316134034\n",
      "auc roc score corresponding to  60  is  0.6960978551124127\n",
      "auc roc score corresponding to  61  is  0.7361099147213369\n",
      "auc roc score corresponding to  62  is  0.7240072357653545\n",
      "auc roc score corresponding to  63  is  0.7259884572314584\n",
      "auc roc score corresponding to  64  is  0.7720733913343095\n",
      "auc roc score corresponding to  65  is  0.7437333103626498\n",
      "auc roc score corresponding to  66  is  0.7543716082349902\n",
      "auc roc score corresponding to  67  is  0.6824446550090446\n",
      "auc roc score corresponding to  68  is  0.7579033508484797\n",
      "auc roc score corresponding to  69  is  0.7396847273666983\n",
      "auc roc score corresponding to  70  is  0.7563958997329658\n",
      "auc roc score corresponding to  71  is  0.7336118528727712\n",
      "auc roc score corresponding to  72  is  0.7077698337496771\n",
      "auc roc score corresponding to  73  is  0.7057455422517014\n",
      "auc roc score corresponding to  74  is  0.7173744508570936\n",
      "auc roc score corresponding to  75  is  0.7386510466017745\n",
      "auc roc score corresponding to  76  is  0.7153501593591179\n",
      "auc roc score corresponding to  77  is  0.7411921784822121\n",
      "auc roc score corresponding to  78  is  0.7523473167370144\n",
      "auc roc score corresponding to  79  is  0.7321044017572573\n",
      "auc roc score corresponding to  80  is  0.7731070720992334\n",
      "auc roc score corresponding to  81  is  0.7437333103626498\n",
      "auc roc score corresponding to  82  is  0.8045051253337927\n",
      "auc roc score corresponding to  83  is  0.7655267464897925\n",
      "auc roc score corresponding to  84  is  0.7695753294857438\n",
      "auc roc score corresponding to  85  is  0.7244810061159446\n",
      "auc roc score corresponding to  86  is  0.7482987337410629\n",
      "auc roc score corresponding to  87  is  0.7199155827375313\n",
      "auc roc score corresponding to  88  is  0.7184081316220174\n",
      "auc roc score corresponding to  89  is  0.7609613231113791\n",
      "auc roc score corresponding to  90  is  0.7452407614781635\n",
      "auc roc score corresponding to  91  is  0.6677577741407529\n",
      "auc roc score corresponding to  92  is  0.7609613231113791\n",
      "auc roc score corresponding to  93  is  0.7928762167284005\n",
      "auc roc score corresponding to  94  is  0.7467482125936773\n",
      "auc roc score corresponding to  95  is  0.7204324231199931\n",
      "auc roc score corresponding to  96  is  0.7325781721078474\n",
      "auc roc score corresponding to  97  is  0.7482987337410629\n",
      "auc roc score corresponding to  98  is  0.6839521061245584\n",
      "auc roc score corresponding to  99  is  0.6566026358859505\n",
      "max auc roc score corresponding to  82  is  0.8045051253337927\n"
     ]
    },
    {
     "data": {
      "text/plain": [
       "82"
      ]
     },
     "execution_count": 45,
     "metadata": {},
     "output_type": "execute_result"
    }
   ],
   "source": [
    "svc=SVC(kernel=\"rbf\",C=1,gamma=0.01)\n",
    "max_aucroc_score(svc,x,y)"
   ]
  },
  {
   "cell_type": "code",
   "execution_count": 46,
   "id": "8d17d668",
   "metadata": {},
   "outputs": [
    {
     "data": {
      "text/plain": [
       "{'learning_rate': 0.01, 'n_estimators': 500}"
      ]
     },
     "execution_count": 46,
     "metadata": {},
     "output_type": "execute_result"
    }
   ],
   "source": [
    "from sklearn.ensemble import GradientBoostingClassifier\n",
    "parameters={\"learning_rate\":[0.001,0.01,0.1,1],\"n_estimators\":[10,100,500,1000]}\n",
    "gb_clf=GradientBoostingClassifier()\n",
    "clf = GridSearchCV(gb_clf, parameters, cv=5,scoring=\"roc_auc\")\n",
    "clf.fit(df_x,y)\n",
    "clf.best_params_"
   ]
  },
  {
   "cell_type": "code",
   "execution_count": 47,
   "id": "c70a86ee",
   "metadata": {},
   "outputs": [
    {
     "name": "stdout",
     "output_type": "stream",
     "text": [
      "auc roc score corresponding to  42  is  0.6337755189938841\n",
      "auc roc score corresponding to  43  is  0.6519941424756655\n",
      "auc roc score corresponding to  44  is  0.6352829701093978\n",
      "auc roc score corresponding to  45  is  0.6525109828581273\n",
      "auc roc score corresponding to  46  is  0.654535274356103\n",
      "auc roc score corresponding to  47  is  0.6879576190886381\n",
      "auc roc score corresponding to  48  is  0.6585838573520545\n",
      "auc roc score corresponding to  49  is  0.6398483934878112\n",
      "auc roc score corresponding to  50  is  0.6180549573606685\n",
      "auc roc score corresponding to  51  is  0.66060814885003\n",
      "auc roc score corresponding to  52  is  0.586656904126109\n",
      "auc roc score corresponding to  53  is  0.6585838573520545\n",
      "auc roc score corresponding to  54  is  0.5907054871220605\n",
      "auc roc score corresponding to  55  is  0.6114652424842795\n",
      "auc roc score corresponding to  56  is  0.5679214402618659\n",
      "auc roc score corresponding to  57  is  0.6033680764923766\n",
      "auc roc score corresponding to  58  is  0.6099577913687657\n",
      "auc roc score corresponding to  59  is  0.6717632871048325\n",
      "auc roc score corresponding to  60  is  0.6646567318459815\n",
      "auc roc score corresponding to  61  is  0.6367904212249117\n",
      "auc roc score corresponding to  62  is  0.6297269359979326\n",
      "auc roc score corresponding to  63  is  0.6585838573520545\n",
      "auc roc score corresponding to  64  is  0.6773193212162977\n",
      "auc roc score corresponding to  65  is  0.6378241019898355\n",
      "auc roc score corresponding to  66  is  0.6438969764837628\n",
      "auc roc score corresponding to  67  is  0.6094409509863037\n",
      "auc roc score corresponding to  68  is  0.6074166594883279\n",
      "auc roc score corresponding to  69  is  0.6398483934878112\n",
      "auc roc score corresponding to  70  is  0.6818847445947109\n",
      "auc roc score corresponding to  71  is  0.6758118701007839\n",
      "auc roc score corresponding to  72  is  0.675295029718322\n",
      "auc roc score corresponding to  73  is  0.6286932552330088\n",
      "auc roc score corresponding to  74  is  0.6666810233439573\n",
      "auc roc score corresponding to  75  is  0.6651735722284434\n",
      "auc roc score corresponding to  76  is  0.6479455594797141\n",
      "auc roc score corresponding to  77  is  0.6180549573606685\n",
      "auc roc score corresponding to  78  is  0.6221035403566199\n",
      "auc roc score corresponding to  79  is  0.6378241019898355\n",
      "auc roc score corresponding to  80  is  0.722413644586097\n",
      "auc roc score corresponding to  81  is  0.654535274356103\n",
      "auc roc score corresponding to  82  is  0.6352829701093978\n",
      "auc roc score corresponding to  83  is  0.6585838573520545\n",
      "auc roc score corresponding to  84  is  0.6479455594797141\n",
      "auc roc score corresponding to  85  is  0.6479455594797141\n",
      "auc roc score corresponding to  86  is  0.6479455594797141\n",
      "auc roc score corresponding to  87  is  0.6332586786114222\n",
      "auc roc score corresponding to  88  is  0.6585838573520545\n",
      "auc roc score corresponding to  89  is  0.6671978637264191\n",
      "auc roc score corresponding to  90  is  0.6479455594797141\n",
      "auc roc score corresponding to  91  is  0.6438969764837628\n",
      "auc roc score corresponding to  92  is  0.6651735722284434\n",
      "auc roc score corresponding to  93  is  0.6671978637264191\n",
      "auc roc score corresponding to  94  is  0.6540184339736412\n",
      "auc roc score corresponding to  95  is  0.6352829701093978\n",
      "auc roc score corresponding to  96  is  0.6464381083642002\n",
      "auc roc score corresponding to  97  is  0.6438969764837628\n",
      "auc roc score corresponding to  98  is  0.6140063743647171\n",
      "auc roc score corresponding to  99  is  0.6261521233525713\n",
      "max auc roc score corresponding to  80  is  0.722413644586097\n"
     ]
    },
    {
     "data": {
      "text/plain": [
       "80"
      ]
     },
     "execution_count": 47,
     "metadata": {},
     "output_type": "execute_result"
    }
   ],
   "source": [
    "gb_clf=GradientBoostingClassifier(learning_rate=0.01,n_estimators=500)\n",
    "max_aucroc_score(gb_clf,df_x,y)"
   ]
  },
  {
   "cell_type": "code",
   "execution_count": 48,
   "id": "5c8a7f80",
   "metadata": {},
   "outputs": [
    {
     "name": "stdout",
     "output_type": "stream",
     "text": [
      "auc roc score corresponding to  42  is  0.7179774313032992\n",
      "auc roc score corresponding to  43  is  0.8060987165130501\n",
      "auc roc score corresponding to  44  is  0.7139288483073478\n",
      "auc roc score corresponding to  45  is  0.6693513653200105\n",
      "auc roc score corresponding to  46  is  0.6926522525626669\n",
      "auc roc score corresponding to  47  is  0.7286157291756397\n",
      "auc roc score corresponding to  48  is  0.7083728141958825\n",
      "auc roc score corresponding to  49  is  0.7108708760444483\n",
      "auc roc score corresponding to  50  is  0.7351623740201568\n",
      "auc roc score corresponding to  51  is  0.8071323972779738\n",
      "auc roc score corresponding to  52  is  0.7650960461710743\n",
      "auc roc score corresponding to  53  is  0.7027737100525455\n",
      "auc roc score corresponding to  54  is  0.6562150055991042\n",
      "auc roc score corresponding to  55  is  0.7017400292876217\n",
      "auc roc score corresponding to  56  is  0.7174605909208372\n",
      "auc roc score corresponding to  57  is  0.6976914462916702\n",
      "auc roc score corresponding to  58  is  0.6546644844517185\n",
      "auc roc score corresponding to  59  is  0.7210354035661987\n",
      "auc roc score corresponding to  60  is  0.6769747609613231\n",
      "auc roc score corresponding to  61  is  0.7681109484021018\n",
      "auc roc score corresponding to  62  is  0.7144026186579377\n",
      "auc roc score corresponding to  63  is  0.7204754931518649\n",
      "auc roc score corresponding to  64  is  0.7291325695581015\n",
      "auc roc score corresponding to  65  is  0.7442932207769833\n",
      "auc roc score corresponding to  66  is  0.7453269015419072\n",
      "auc roc score corresponding to  67  is  0.7007494185545697\n",
      "auc roc score corresponding to  68  is  0.7584632612628133\n",
      "auc roc score corresponding to  69  is  0.7073822034628305\n",
      "auc roc score corresponding to  70  is  0.7108708760444483\n",
      "auc roc score corresponding to  71  is  0.7387371866655181\n",
      "auc roc score corresponding to  72  is  0.7655698165216642\n",
      "auc roc score corresponding to  73  is  0.7361960547850805\n",
      "auc roc score corresponding to  74  is  0.7128951675424239\n",
      "auc roc score corresponding to  75  is  0.7108708760444483\n",
      "auc roc score corresponding to  76  is  0.6982082866741323\n",
      "auc roc score corresponding to  77  is  0.7357222844344905\n",
      "auc roc score corresponding to  78  is  0.7341717632871048\n",
      "auc roc score corresponding to  79  is  0.773666982513567\n",
      "auc roc score corresponding to  80  is  0.7088465845464726\n",
      "auc roc score corresponding to  81  is  0.6992419674390559\n",
      "auc roc score corresponding to  82  is  0.7417520888965458\n",
      "auc roc score corresponding to  83  is  0.7265914376776639\n",
      "auc roc score corresponding to  84  is  0.7108708760444483\n",
      "auc roc score corresponding to  85  is  0.7372297355500044\n",
      "auc roc score corresponding to  86  is  0.7139288483073478\n",
      "auc roc score corresponding to  87  is  0.7271082780601258\n",
      "auc roc score corresponding to  88  is  0.698251356706004\n",
      "auc roc score corresponding to  89  is  0.7681109484021018\n",
      "auc roc score corresponding to  90  is  0.7827978292703937\n",
      "auc roc score corresponding to  91  is  0.7529072271513482\n",
      "auc roc score corresponding to  92  is  0.7250839865621501\n",
      "auc roc score corresponding to  93  is  0.7944267378757861\n",
      "auc roc score corresponding to  94  is  0.7255577569127402\n",
      "auc roc score corresponding to  95  is  0.7139288483073478\n",
      "auc roc score corresponding to  96  is  0.7073391334309589\n",
      "auc roc score corresponding to  97  is  0.7726333017486432\n",
      "auc roc score corresponding to  98  is  0.68705314841933\n",
      "auc roc score corresponding to  99  is  0.6916185717977431\n",
      "max auc roc score corresponding to  51  is  0.8071323972779738\n"
     ]
    },
    {
     "data": {
      "text/plain": [
       "51"
      ]
     },
     "execution_count": 48,
     "metadata": {},
     "output_type": "execute_result"
    }
   ],
   "source": [
    "from sklearn.ensemble import AdaBoostClassifier\n",
    "#parameters={\"base_estimator\":[dc,lg_clf,svc],\"learning_rate\":[0.001,0.01,0.1,1],\"n_estimators\":[10,100,500,1000]}\n",
    "ada_clf=AdaBoostClassifier(base_estimator=svc,algorithm='SAMME')\n",
    "max_aucroc_score(ada_clf,x,y)"
   ]
  },
  {
   "cell_type": "code",
   "execution_count": 49,
   "id": "2ce857ea",
   "metadata": {},
   "outputs": [],
   "source": [
    "#Lets choose svm as our final model and random state 82\n",
    "x_train, x_test, y_train, y_test = train_test_split(x, y,random_state = 70,test_size=0.20,stratify=y)\n",
    "x_train, y_train = SMOTE().fit_sample(x_train, y_train)\n",
    "svc=SVC(kernel=\"linear\",C=0.1,probability=True)\n",
    "svc.fit(x_train,y_train)\n",
    "y_pred=svc.predict(x_test)"
   ]
  },
  {
   "cell_type": "code",
   "execution_count": 50,
   "id": "c016e590",
   "metadata": {},
   "outputs": [
    {
     "name": "stdout",
     "output_type": "stream",
     "text": [
      "Confusion matrix \n",
      " [[193  54]\n",
      " [  5  42]]\n",
      "f1 score is :  0.5874125874125874\n",
      "classification report \n",
      "               precision    recall  f1-score   support\n",
      "\n",
      "           0       0.97      0.78      0.87       247\n",
      "           1       0.44      0.89      0.59        47\n",
      "\n",
      "    accuracy                           0.80       294\n",
      "   macro avg       0.71      0.84      0.73       294\n",
      "weighted avg       0.89      0.80      0.82       294\n",
      "\n",
      "AUC ROC Score:  0.8374967697476094\n"
     ]
    }
   ],
   "source": [
    "from sklearn.metrics import confusion_matrix\n",
    "from sklearn.metrics import classification_report\n",
    "from sklearn.metrics import f1_score\n",
    "from sklearn.metrics import roc_auc_score\n",
    "print(\"Confusion matrix \\n\",confusion_matrix(y_test,y_pred))\n",
    "print(\"f1 score is : \",f1_score(y_test,y_pred))\n",
    "print(\"classification report \\n\",classification_report(y_test,y_pred))\n",
    "print(\"AUC ROC Score: \",roc_auc_score(y_test,y_pred))"
   ]
  },
  {
   "cell_type": "code",
   "execution_count": 51,
   "id": "447a32e8",
   "metadata": {},
   "outputs": [
    {
     "data": {
      "text/plain": [
       "<matplotlib.legend.Legend at 0x18eb8860a00>"
      ]
     },
     "execution_count": 51,
     "metadata": {},
     "output_type": "execute_result"
    },
    {
     "data": {
      "image/png": "[encoded data removed]",
      "text/plain": [
       "<Figure size 432x288 with 1 Axes>"
      ]
     },
     "metadata": {
      "needs_background": "light"
     },
     "output_type": "display_data"
    }
   ],
   "source": [
    "fpr, tpr, thresholds = roc_curve(y_test,svc.predict_proba(x_test)[:,1],pos_label=1)\n",
    "precision, recall, thresholds = precision_recall_curve(y_test,svc.predict_proba(x_test)[:,1],pos_label=1)\n",
    "plt.plot(fpr, tpr, label='SVC')\n",
    "plt.plot([0,1], [0,1], label='No Discrimination', linestyle='-', dashes=(1, 1))\n",
    "plt.legend()"
   ]
  },
  {
   "cell_type": "code",
   "execution_count": 72,
   "id": "a49e9e93",
   "metadata": {},
   "outputs": [
    {
     "data": {
      "text/plain": [
       "<matplotlib.legend.Legend at 0x18ebc878640>"
      ]
     },
     "execution_count": 72,
     "metadata": {},
     "output_type": "execute_result"
    },
    {
     "data": {
      "image/png": "[encoded data removed]",
      "text/plain": [
       "<Figure size 432x288 with 1 Axes>"
      ]
     },
     "metadata": {
      "needs_background": "light"
     },
     "output_type": "display_data"
    }
   ],
   "source": [
    "precision, recall, thresholds = precision_recall_curve(y_test,svc.predict_proba(x_test)[:,1],pos_label=1)\n",
    "plt.plot(precision,recall, label=SVC)\n",
    "plt.xlabel(\"Precision\")\n",
    "plt.ylabel(\"Recall\")\n",
    "plt.title(\"Precision Recall Curve\")\n",
    "plt.legend()"
   ]
  },
  {
   "cell_type": "code",
   "execution_count": 71,
   "id": "521771f7",
   "metadata": {},
   "outputs": [],
   "source": [
    "roc_dict = {} #ROC dict for TPR and FPR values\n",
    "prc_dict = {} #precision recall curve\n",
    "\n",
    "def modify_roc_dict(clf, y_test, x_test, name ,dict_modify): #modifies a dictionary in place and adds keys for ROC metrics\n",
    "  fpr, tpr, thresholds = roc_curve(y_test,clf.predict_proba(x_test)[:,1],pos_label=1)\n",
    "  clf_roc_dict = {'fpr':fpr, 'tpr': tpr, 'thresholds': thresholds}\n",
    "  dict_modify[name] = clf_roc_dict\n",
    "    \n",
    "def modify_prc_dict(clf, y_test, x_test, name ,dict_modify): #modifies a dictionary in place and adds keys for precision recall metrics\n",
    "  precision, recall, thresholds = precision_recall_curve(y_test,clf.predict_proba(x_test)[:,1],pos_label=1)\n",
    "  clf_prc_dict = {'precision':precision, 'recall': recall, 'thresholds': thresholds}\n",
    "  dict_modify[name] = clf_prc_dict"
   ]
  },
  {
   "cell_type": "code",
   "execution_count": 69,
   "id": "a5429f86",
   "metadata": {},
   "outputs": [],
   "source": [
    "def fit_score_clf(clf, x_train, y_train, x_test, y_test, name='clf'): \n",
    "  clf.fit(x_train, y_train) #fit to train data\n",
    "  y_pred = clf.predict(x_test) #make predictions\n",
    "  clf_report = pd.DataFrame(classification_report(y_test, y_pred, output_dict=True)) #make dataframe from report\n",
    "  clf_report['clf'] = name #add clf name as column\n",
    "  return clf_report"
   ]
  },
  {
   "cell_type": "code",
   "execution_count": 55,
   "id": "a6629a08",
   "metadata": {},
   "outputs": [
    {
     "data": {
      "text/html": [
       "<div>\n",
       "<style scoped>\n",
       "    .dataframe tbody tr th:only-of-type {\n",
       "        vertical-align: middle;\n",
       "    }\n",
       "\n",
       "    .dataframe tbody tr th {\n",
       "        vertical-align: top;\n",
       "    }\n",
       "\n",
       "    .dataframe thead th {\n",
       "        text-align: right;\n",
       "    }\n",
       "</style>\n",
       "<table border=\"1\" class=\"dataframe\">\n",
       "  <thead>\n",
       "    <tr style=\"text-align: right;\">\n",
       "      <th></th>\n",
       "      <th>0</th>\n",
       "      <th>1</th>\n",
       "      <th>accuracy</th>\n",
       "      <th>macro avg</th>\n",
       "      <th>weighted avg</th>\n",
       "      <th>clf</th>\n",
       "    </tr>\n",
       "  </thead>\n",
       "  <tbody>\n",
       "    <tr>\n",
       "      <th>precision</th>\n",
       "      <td>0.974747</td>\n",
       "      <td>0.437500</td>\n",
       "      <td>0.79932</td>\n",
       "      <td>0.706124</td>\n",
       "      <td>0.888861</td>\n",
       "      <td>SupportVector</td>\n",
       "    </tr>\n",
       "    <tr>\n",
       "      <th>recall</th>\n",
       "      <td>0.781377</td>\n",
       "      <td>0.893617</td>\n",
       "      <td>0.79932</td>\n",
       "      <td>0.837497</td>\n",
       "      <td>0.799320</td>\n",
       "      <td>SupportVector</td>\n",
       "    </tr>\n",
       "    <tr>\n",
       "      <th>f1-score</th>\n",
       "      <td>0.867416</td>\n",
       "      <td>0.587413</td>\n",
       "      <td>0.79932</td>\n",
       "      <td>0.727414</td>\n",
       "      <td>0.822653</td>\n",
       "      <td>SupportVector</td>\n",
       "    </tr>\n",
       "    <tr>\n",
       "      <th>support</th>\n",
       "      <td>247.000000</td>\n",
       "      <td>47.000000</td>\n",
       "      <td>0.79932</td>\n",
       "      <td>294.000000</td>\n",
       "      <td>294.000000</td>\n",
       "      <td>SupportVector</td>\n",
       "    </tr>\n",
       "  </tbody>\n",
       "</table>\n",
       "</div>"
      ],
      "text/plain": [
       "                    0          1  accuracy   macro avg  weighted avg  \\\n",
       "precision    0.974747   0.437500   0.79932    0.706124      0.888861   \n",
       "recall       0.781377   0.893617   0.79932    0.837497      0.799320   \n",
       "f1-score     0.867416   0.587413   0.79932    0.727414      0.822653   \n",
       "support    247.000000  47.000000   0.79932  294.000000    294.000000   \n",
       "\n",
       "                     clf  \n",
       "precision  SupportVector  \n",
       "recall     SupportVector  \n",
       "f1-score   SupportVector  \n",
       "support    SupportVector  "
      ]
     },
     "execution_count": 55,
     "metadata": {},
     "output_type": "execute_result"
    }
   ],
   "source": [
    "lr_report = fit_score_clf(svc, x_train, y_train, x_test, y_test, name='SupportVector')\n",
    "lr_report.head()"
   ]
  },
  {
   "cell_type": "code",
   "execution_count": 56,
   "id": "5521ece6",
   "metadata": {},
   "outputs": [],
   "source": [
    "lr_report = fit_score_clf(rf_clf, x_train, y_train, x_test, y_test, name='RandomForest')\n"
   ]
  },
  {
   "cell_type": "code",
   "execution_count": 57,
   "id": "612c4637",
   "metadata": {},
   "outputs": [
    {
     "data": {
      "text/html": [
       "<div>\n",
       "<style scoped>\n",
       "    .dataframe tbody tr th:only-of-type {\n",
       "        vertical-align: middle;\n",
       "    }\n",
       "\n",
       "    .dataframe tbody tr th {\n",
       "        vertical-align: top;\n",
       "    }\n",
       "\n",
       "    .dataframe thead th {\n",
       "        text-align: right;\n",
       "    }\n",
       "</style>\n",
       "<table border=\"1\" class=\"dataframe\">\n",
       "  <thead>\n",
       "    <tr style=\"text-align: right;\">\n",
       "      <th></th>\n",
       "      <th>0</th>\n",
       "      <th>1</th>\n",
       "      <th>accuracy</th>\n",
       "      <th>macro avg</th>\n",
       "      <th>weighted avg</th>\n",
       "      <th>clf</th>\n",
       "    </tr>\n",
       "  </thead>\n",
       "  <tbody>\n",
       "    <tr>\n",
       "      <th>precision</th>\n",
       "      <td>0.922280</td>\n",
       "      <td>0.316832</td>\n",
       "      <td>0.714286</td>\n",
       "      <td>0.619556</td>\n",
       "      <td>0.825490</td>\n",
       "      <td>AdaBoost</td>\n",
       "    </tr>\n",
       "    <tr>\n",
       "      <th>recall</th>\n",
       "      <td>0.720648</td>\n",
       "      <td>0.680851</td>\n",
       "      <td>0.714286</td>\n",
       "      <td>0.700749</td>\n",
       "      <td>0.714286</td>\n",
       "      <td>AdaBoost</td>\n",
       "    </tr>\n",
       "    <tr>\n",
       "      <th>f1-score</th>\n",
       "      <td>0.809091</td>\n",
       "      <td>0.432432</td>\n",
       "      <td>0.714286</td>\n",
       "      <td>0.620762</td>\n",
       "      <td>0.748877</td>\n",
       "      <td>AdaBoost</td>\n",
       "    </tr>\n",
       "    <tr>\n",
       "      <th>support</th>\n",
       "      <td>247.000000</td>\n",
       "      <td>47.000000</td>\n",
       "      <td>0.714286</td>\n",
       "      <td>294.000000</td>\n",
       "      <td>294.000000</td>\n",
       "      <td>AdaBoost</td>\n",
       "    </tr>\n",
       "  </tbody>\n",
       "</table>\n",
       "</div>"
      ],
      "text/plain": [
       "                    0          1  accuracy   macro avg  weighted avg       clf\n",
       "precision    0.922280   0.316832  0.714286    0.619556      0.825490  AdaBoost\n",
       "recall       0.720648   0.680851  0.714286    0.700749      0.714286  AdaBoost\n",
       "f1-score     0.809091   0.432432  0.714286    0.620762      0.748877  AdaBoost\n",
       "support    247.000000  47.000000  0.714286  294.000000    294.000000  AdaBoost"
      ]
     },
     "execution_count": 57,
     "metadata": {},
     "output_type": "execute_result"
    }
   ],
   "source": [
    "lr_report = fit_score_clf(ada_clf, x_train, y_train, x_test, y_test, name='AdaBoost')\n",
    "lr_report.head()"
   ]
  },
  {
   "cell_type": "code",
   "execution_count": 68,
   "id": "853e67bf",
   "metadata": {},
   "outputs": [
    {
     "data": {
      "text/html": [
       "<div>\n",
       "<style scoped>\n",
       "    .dataframe tbody tr th:only-of-type {\n",
       "        vertical-align: middle;\n",
       "    }\n",
       "\n",
       "    .dataframe tbody tr th {\n",
       "        vertical-align: top;\n",
       "    }\n",
       "\n",
       "    .dataframe thead th {\n",
       "        text-align: right;\n",
       "    }\n",
       "</style>\n",
       "<table border=\"1\" class=\"dataframe\">\n",
       "  <thead>\n",
       "    <tr style=\"text-align: right;\">\n",
       "      <th></th>\n",
       "      <th>0</th>\n",
       "      <th>1</th>\n",
       "      <th>accuracy</th>\n",
       "      <th>macro avg</th>\n",
       "      <th>weighted avg</th>\n",
       "      <th>clf</th>\n",
       "    </tr>\n",
       "  </thead>\n",
       "  <tbody>\n",
       "    <tr>\n",
       "      <th>precision</th>\n",
       "      <td>0.890977</td>\n",
       "      <td>0.642857</td>\n",
       "      <td>0.867347</td>\n",
       "      <td>0.766917</td>\n",
       "      <td>0.851312</td>\n",
       "      <td>GradientBoosting</td>\n",
       "    </tr>\n",
       "    <tr>\n",
       "      <th>recall</th>\n",
       "      <td>0.959514</td>\n",
       "      <td>0.382979</td>\n",
       "      <td>0.867347</td>\n",
       "      <td>0.671246</td>\n",
       "      <td>0.867347</td>\n",
       "      <td>GradientBoosting</td>\n",
       "    </tr>\n",
       "    <tr>\n",
       "      <th>f1-score</th>\n",
       "      <td>0.923977</td>\n",
       "      <td>0.480000</td>\n",
       "      <td>0.867347</td>\n",
       "      <td>0.701988</td>\n",
       "      <td>0.853001</td>\n",
       "      <td>GradientBoosting</td>\n",
       "    </tr>\n",
       "    <tr>\n",
       "      <th>support</th>\n",
       "      <td>247.000000</td>\n",
       "      <td>47.000000</td>\n",
       "      <td>0.867347</td>\n",
       "      <td>294.000000</td>\n",
       "      <td>294.000000</td>\n",
       "      <td>GradientBoosting</td>\n",
       "    </tr>\n",
       "  </tbody>\n",
       "</table>\n",
       "</div>"
      ],
      "text/plain": [
       "                    0          1  accuracy   macro avg  weighted avg  \\\n",
       "precision    0.890977   0.642857  0.867347    0.766917      0.851312   \n",
       "recall       0.959514   0.382979  0.867347    0.671246      0.867347   \n",
       "f1-score     0.923977   0.480000  0.867347    0.701988      0.853001   \n",
       "support    247.000000  47.000000  0.867347  294.000000    294.000000   \n",
       "\n",
       "                        clf  \n",
       "precision  GradientBoosting  \n",
       "recall     GradientBoosting  \n",
       "f1-score   GradientBoosting  \n",
       "support    GradientBoosting  "
      ]
     },
     "execution_count": 68,
     "metadata": {},
     "output_type": "execute_result"
    }
   ],
   "source": [
    "lr_report = fit_score_clf(gb_clf, x_train, y_train, x_test, y_test, name='GradientBoosting')\n",
    "lr_report.head()"
   ]
  },
  {
   "cell_type": "code",
   "execution_count": 59,
   "id": "fbbd1faa",
   "metadata": {},
   "outputs": [
    {
     "data": {
      "text/plain": [
       "dict_keys([])"
      ]
     },
     "execution_count": 59,
     "metadata": {},
     "output_type": "execute_result"
    }
   ],
   "source": [
    "#see keys we have\n",
    "roc_dict.keys()"
   ]
  },
  {
   "cell_type": "code",
   "execution_count": 67,
   "id": "438ff9d0",
   "metadata": {},
   "outputs": [
    {
     "data": {
      "text/plain": [
       "dict_keys([])"
      ]
     },
     "execution_count": 67,
     "metadata": {},
     "output_type": "execute_result"
    }
   ],
   "source": [
    "#see keys we have\n",
    "roc_dict.keys()"
   ]
  },
  {
   "cell_type": "code",
   "execution_count": 66,
   "id": "fa57b792",
   "metadata": {},
   "outputs": [
    {
     "data": {
      "image/png": "[encoded data removed]",
      "text/plain": [
       "<Figure size 432x288 with 1 Axes>"
      ]
     },
     "metadata": {
      "needs_background": "light"
     },
     "output_type": "display_data"
    }
   ],
   "source": [
    "for key in roc_dict:\n",
    "    clf = roc_dict[key]\n",
    "    plt.plot(clf['fpr'], clf['tpr'], label=key)\n",
    "plt.xlabel(\"FPR\")\n",
    "plt.ylabel(\"TPR\")\n",
    "plt.title(\"ROC\")\n",
    "plt.plot([0,1], [0,1], label='No Discrimination', linestyle='-', dashes=(5, 5))\n",
    "plt.legend()\n",
    "plt.show()"
   ]
  },
  {
   "cell_type": "code",
   "execution_count": 65,
   "id": "c86b44f0",
   "metadata": {},
   "outputs": [],
   "source": [
    "modify_prc_dict(clf=svc,y_test=y_test,x_test=x_test,name='SupportVector',dict_modify=prc_dict)\n",
    "modify_prc_dict(clf=rf_clf,y_test=y_test,x_test=x_test,name='RandomForest',dict_modify=prc_dict)\n",
    "modify_prc_dict(clf=ada_clf,y_test=y_test,x_test=x_test,name='AdaBoost',dict_modify=prc_dict)\n",
    "modify_prc_dict(clf=gb_clf,y_test=y_test,x_test=x_test,name='GradientBoosting',dict_modify=prc_dict)"
   ]
  },
  {
   "cell_type": "code",
   "execution_count": 63,
   "id": "791ece72",
   "metadata": {},
   "outputs": [
    {
     "data": {
      "text/plain": [
       "dict_keys(['SupportVector', 'RandomForest', 'AdaBoost', 'GradientBoosting'])"
      ]
     },
     "execution_count": 63,
     "metadata": {},
     "output_type": "execute_result"
    }
   ],
   "source": [
    "prc_dict.keys()"
   ]
  },
  {
   "cell_type": "code",
   "execution_count": 64,
   "id": "fd0325c2",
   "metadata": {},
   "outputs": [
    {
     "data": {
      "image/png": "[encoded data removed]",
      "text/plain": [
       "<Figure size 432x288 with 1 Axes>"
      ]
     },
     "metadata": {
      "needs_background": "light"
     },
     "output_type": "display_data"
    }
   ],
   "source": [
    "for key in prc_dict:\n",
    "  clf = prc_dict[key]\n",
    "  plt.plot(clf['precision'], clf['recall'], label=key)\n",
    "plt.xlabel(\"Precision\")\n",
    "plt.ylabel(\"Recall\")\n",
    "plt.title(\"Precision Recall Curve\")\n",
    "plt.legend()\n",
    "plt.show()"
   ]
  },
  {
   "cell_type": "markdown",
   "id": "5564cc24",
   "metadata": {},
   "source": [
    "above curve verified that the svc model is giving best output"
   ]
  },
  {
   "cell_type": "code",
   "execution_count": null,
   "id": "7ee8d466",
   "metadata": {},
   "outputs": [],
   "source": []
  }
 ],
 "metadata": {
  "kernelspec": {
   "display_name": "Python 3",
   "language": "python",
   "name": "python3"
  },
  "language_info": {
   "codemirror_mode": {
    "name": "ipython",
    "version": 3
   },
   "file_extension": ".py",
   "mimetype": "text/x-python",
   "name": "python",
   "nbconvert_exporter": "python",
   "pygments_lexer": "ipython3",
   "version": "3.8.8"
  }
 },
 "nbformat": 4,
 "nbformat_minor": 5
}
