{
 "cells": [
  {
   "cell_type": "markdown",
   "id": "614fccfe",
   "metadata": {},
   "source": [
    "# QUESTION-1 Write a python program to scrape data for “Data Analyst” Job position in “Bangalore” location. You have to scrape the job-title, job-location, company_name, experience_required. You have to scrape first 10 jobs data."
   ]
  },
  {
   "cell_type": "code",
   "execution_count": null,
   "id": "30db45a2",
   "metadata": {},
   "outputs": [],
   "source": [
    "import selenium\n",
    "from selenium import webdriver\n",
    "import pandas as pd\n",
    "import warnings\n",
    "warnings.filterwarnings(\"ignore\")"
   ]
  },
  {
   "cell_type": "code",
   "execution_count": 22,
   "id": "f4530096",
   "metadata": {},
   "outputs": [],
   "source": [
    "driver=webdriver.Chrome('chromedriver.exe')"
   ]
  },
  {
   "cell_type": "code",
   "execution_count": 23,
   "id": "5441c2a8",
   "metadata": {},
   "outputs": [],
   "source": [
    "url='https://www.naukri.com/'\n",
    "driver.get(url)"
   ]
  },
  {
   "cell_type": "code",
   "execution_count": null,
   "id": "f7d6236c",
   "metadata": {},
   "outputs": [],
   "source": [
    "search_job=driver.find_element_by_id('qsb-keyword-sugg')"
   ]
  },
  {
   "cell_type": "code",
   "execution_count": null,
   "id": "da7f8c39",
   "metadata": {},
   "outputs": [],
   "source": [
    "search_job.send_keys('Data Analyst')"
   ]
  },
  {
   "cell_type": "code",
   "execution_count": null,
   "id": "fa6fc033",
   "metadata": {},
   "outputs": [],
   "source": [
    "search_loc=driver.find_element_by_id('qsb-location-sugg')\n",
    "search_loc.send_keys('banglore')"
   ]
  },
  {
   "cell_type": "code",
   "execution_count": null,
   "id": "9b684c7a",
   "metadata": {},
   "outputs": [],
   "source": [
    "search_button=driver.find_element_by_xpath('//button[@class=\"btn\"]')\n",
    "search_button.click()"
   ]
  },
  {
   "cell_type": "code",
   "execution_count": null,
   "id": "0d5c5c31",
   "metadata": {},
   "outputs": [],
   "source": [
    "search_button=driver.find_element_by_xpath('//button[@class=\"btn\"]')\n",
    "search_button.click()"
   ]
  },
  {
   "cell_type": "code",
   "execution_count": null,
   "id": "8479ce21",
   "metadata": {},
   "outputs": [],
   "source": [
    "job_titles=[]\n",
    "for i in job_title:\n",
    "    job_titles.append(i.text)\n",
    "    \n",
    "job_titles[:10]"
   ]
  },
  {
   "cell_type": "code",
   "execution_count": null,
   "id": "367200e3",
   "metadata": {},
   "outputs": [],
   "source": [
    "cname=driver.find_elements_by_xpath('//a[@class=\"subTitle ellipsis fleft\"]')\n",
    "cname"
   ]
  },
  {
   "cell_type": "code",
   "execution_count": null,
   "id": "2657e151",
   "metadata": {},
   "outputs": [],
   "source": [
    "company_name=[]\n",
    "for i in cname:\n",
    "    company_name.append(i.text)\n",
    "company_name[:10]"
   ]
  },
  {
   "cell_type": "code",
   "execution_count": null,
   "id": "6ea30346",
   "metadata": {},
   "outputs": [],
   "source": [
    "job_loc=driver.find_elements_by_xpath('//li[@class=\"fleft grey-text br2 placeHolderLi location\"]//span[1]')\n",
    "job_loc"
   ]
  },
  {
   "cell_type": "code",
   "execution_count": null,
   "id": "6cbda8f4",
   "metadata": {},
   "outputs": [],
   "source": [
    "job__location=[]\n",
    "for i in job_loc:\n",
    "    job__location.append(i.text)\n",
    "job__location[:10]"
   ]
  },
  {
   "cell_type": "code",
   "execution_count": null,
   "id": "9eed3d17",
   "metadata": {},
   "outputs": [],
   "source": [
    "len(job__location)"
   ]
  },
  {
   "cell_type": "code",
   "execution_count": null,
   "id": "9dfff43c",
   "metadata": {},
   "outputs": [],
   "source": [
    "exp=driver.find_elements_by_xpath('//li[@class=\"fleft grey-text br2 placeHolderLi experience\"]')\n",
    "exp"
   ]
  },
  {
   "cell_type": "code",
   "execution_count": null,
   "id": "75cec80a",
   "metadata": {},
   "outputs": [],
   "source": [
    "experience=[]\n",
    "\n",
    "for i in exp:\n",
    "    \n",
    "    experience.append(i.text)\n",
    "    \n",
    "experience[:10]"
   ]
  },
  {
   "cell_type": "code",
   "execution_count": null,
   "id": "b14893bf",
   "metadata": {},
   "outputs": [],
   "source": [
    "df=pd.DataFrame()\n",
    "df[\"JOB_TITLE\"]=job_titles[:10]\n",
    "df[\"EXPERIENCE_REQUIRED\"]=experience[:10]\n",
    "df[\"LOCATION\"]=job__location[:10]\n",
    "df[\"COMPANY_NAME\"]=company_name[:10]\n",
    "df"
   ]
  },
  {
   "cell_type": "code",
   "execution_count": null,
   "id": "f670676d",
   "metadata": {},
   "outputs": [],
   "source": []
  },
  {
   "cell_type": "markdown",
   "id": "7168db2c",
   "metadata": {},
   "source": [
    "# QUESTION-2\n",
    "\n",
    "Write a python program to scrape data for “Data Scientist” Job position in “Bangalore” location. You have to scrape the job-title, job-location, company_name, full job-description. You have to scrape first 10 jobs data."
   ]
  },
  {
   "cell_type": "code",
   "execution_count": null,
   "id": "35cd2090",
   "metadata": {},
   "outputs": [],
   "source": [
    "import selenium\n",
    "from selenium import webdriver\n",
    "import pandas as pd\n",
    "import warnings\n",
    "warnings.filterwarnings(\"ignore\")"
   ]
  },
  {
   "cell_type": "code",
   "execution_count": null,
   "id": "af363220",
   "metadata": {},
   "outputs": [],
   "source": [
    "driver=webdriver.Chrome('chromedriver.exe')"
   ]
  },
  {
   "cell_type": "code",
   "execution_count": null,
   "id": "00fd3088",
   "metadata": {},
   "outputs": [],
   "source": [
    "url='https://www.naukri.com/'\n",
    "driver.get(url)"
   ]
  },
  {
   "cell_type": "code",
   "execution_count": null,
   "id": "ae0414b1",
   "metadata": {},
   "outputs": [],
   "source": [
    "search_job=driver.find_element_by_id('qsb-keyword-sugg')"
   ]
  },
  {
   "cell_type": "code",
   "execution_count": null,
   "id": "c03d946b",
   "metadata": {},
   "outputs": [],
   "source": [
    "search_job.send_keys('Data Scientist')"
   ]
  },
  {
   "cell_type": "code",
   "execution_count": null,
   "id": "e2107f8b",
   "metadata": {},
   "outputs": [],
   "source": [
    "search_loc=driver.find_element_by_id('qsb-location-sugg')\n",
    "search_loc.send_keys('banglore')"
   ]
  },
  {
   "cell_type": "code",
   "execution_count": null,
   "id": "649852fb",
   "metadata": {},
   "outputs": [],
   "source": [
    "search_button=driver.find_element_by_xpath('//button[@class=\"btn\"]')\n",
    "search_button.click()"
   ]
  },
  {
   "cell_type": "code",
   "execution_count": null,
   "id": "2b7bd334",
   "metadata": {},
   "outputs": [],
   "source": [
    "url=driver.find_elements_by_xpath(\"//a[@class='title fw500 ellipsis']\")\n",
    "url"
   ]
  },
  {
   "cell_type": "code",
   "execution_count": null,
   "id": "31c6f275",
   "metadata": {},
   "outputs": [],
   "source": [
    "job_opening_urls=[]\n",
    "for i in url:\n",
    "    #job_title=driver.find_elements_by_xpath(\"//h1[@class='av-special-heading-tag ']\")\n",
    "    job_opening_urls.append(i.get_attribute('href'))\n",
    "job_opening_urls"
   ]
  },
  {
   "cell_type": "code",
   "execution_count": null,
   "id": "51b14325",
   "metadata": {},
   "outputs": [],
   "source": [
    "len(job_opening_urls)"
   ]
  },
  {
   "cell_type": "code",
   "execution_count": null,
   "id": "23c9dda1",
   "metadata": {},
   "outputs": [],
   "source": [
    "job_titles=[]\n",
    "for i in job_opening_urls:\n",
    "    driver.get(i)\n",
    "    time.sleep(10)\n",
    "    try:\n",
    "        job_title=driver.find_element_by_xpath(\"//h1[@class='jd-header-title']\")\n",
    "        job_titles.append(job_title.text)\n",
    "    except:\n",
    "        job_titles.append(\"--\")\n",
    "job_titles"
   ]
  },
  {
   "cell_type": "code",
   "execution_count": null,
   "id": "dacb1cc2",
   "metadata": {},
   "outputs": [],
   "source": [
    "import time"
   ]
  },
  {
   "cell_type": "code",
   "execution_count": null,
   "id": "d022eb4a",
   "metadata": {},
   "outputs": [],
   "source": [
    "job=[]\n",
    "for i in job_opening_urls[:10]:\n",
    "    \n",
    "    driver.get(i)\n",
    "    time.sleep(5)\n",
    "    try:\n",
    "         job_title=driver.find_element_by_xpath(\"//h1[@class='av-special-heading-tag ']\")\n",
    "    \n",
    "         job.append(job_title.text)\n",
    "    except:\n",
    "         job.append(\"--\")\n",
    "job"
   ]
  },
  {
   "cell_type": "code",
   "execution_count": null,
   "id": "36d20dfe",
   "metadata": {},
   "outputs": [],
   "source": [
    "job_desc=[]\n",
    "for i in job_opening_urls[:10]:\n",
    "    \n",
    "    driver.get(i)\n",
    "    time.sleep(5)\n",
    "    try:\n",
    "        job_d=driver.find_element_by_xpath(\"//section[@class='job-desc']\")\n",
    "        job_desc.append(job_d.text.replace(\"\\n\",\"new line\"))\n",
    "    except:\n",
    "        job_desc.append(\"--\")\n",
    "\n",
    "job_desc"
   ]
  },
  {
   "cell_type": "code",
   "execution_count": null,
   "id": "3e864cca",
   "metadata": {},
   "outputs": [],
   "source": [
    "#Extracting company name and location\n",
    "company=[]\n",
    "location=[]\n",
    "for i in job_opening_urls[:10]:\n",
    "    \n",
    "    driver.get(i)\n",
    "    time.sleep(5)\n",
    "    try:\n",
    "         company_name=driver.find_element_by_xpath(\"//div[@class='jd-header-comp-name']/a\")\n",
    "         loc=driver.find_element_by_xpath(\"//span[@class='location ']/a\")\n",
    "         company.append(company_name.text)\n",
    "         location.append(loc.text)\n",
    "    except:\n",
    "         company.append(\"--\")\n",
    "         location.append(\"--\")\n",
    "            \n",
    "company"
   ]
  },
  {
   "cell_type": "code",
   "execution_count": null,
   "id": "d0e329f0",
   "metadata": {},
   "outputs": [],
   "source": [
    "location"
   ]
  },
  {
   "cell_type": "code",
   "execution_count": null,
   "id": "112f7799",
   "metadata": {},
   "outputs": [],
   "source": [
    "company2=[]\n",
    "location2=[]\n",
    "for i in job_opening_urls[:10]:\n",
    "    \n",
    "    driver.get(i)\n",
    "    time.sleep(5)\n",
    "    try:\n",
    "         company_name=driver.find_element_by_xpath(\"//div[@class='f14 lh18 alignJ']/p\")\n",
    "         loc=driver.find_element_by_xpath(\"//span[@class='slide-meta-loc pull-left']/a\")\n",
    "\n",
    "         company2.append(company_name.text)\n",
    "         location2.append(loc.text)\n",
    "    except:\n",
    "         company2.append(\"--\")\n",
    "         location2.append(\"--\")"
   ]
  },
  {
   "cell_type": "code",
   "execution_count": null,
   "id": "9de71064",
   "metadata": {},
   "outputs": [],
   "source": [
    "company2"
   ]
  },
  {
   "cell_type": "code",
   "execution_count": null,
   "id": "d020a5db",
   "metadata": {},
   "outputs": [],
   "source": [
    "len(location)"
   ]
  },
  {
   "cell_type": "code",
   "execution_count": null,
   "id": "af429daf",
   "metadata": {},
   "outputs": [],
   "source": [
    "location2"
   ]
  },
  {
   "cell_type": "code",
   "execution_count": null,
   "id": "0ec1120a",
   "metadata": {},
   "outputs": [],
   "source": [
    "#merging the two lists\n",
    "company_=[]\n",
    "list=[0,3,6,7]\n",
    "for i in list:\n",
    "    for j in range(0,10):\n",
    "        if(company[j]!=\"--\"):\n",
    "          company_.append(company[j]) \n",
    "        else:\n",
    "            if(company[j]!=company2[i]):\n",
    "                company_.append(company2[i])\n",
    "            else:\n",
    "                company_.append(company2[i+1])\n",
    "company_[:10]"
   ]
  },
  {
   "cell_type": "code",
   "execution_count": null,
   "id": "108b9fdc",
   "metadata": {},
   "outputs": [],
   "source": [
    "len(location)"
   ]
  },
  {
   "cell_type": "code",
   "execution_count": null,
   "id": "79e63991",
   "metadata": {},
   "outputs": [],
   "source": [
    "job__=[]\n",
    "list=[0,3,6,7]\n",
    "for i in list:\n",
    "    for j in range(0,10):\n",
    "        if(job_titles[j]!=\"--\"):\n",
    "          job__.append(job_titles[j]) \n",
    "        else:\n",
    "            if(job_titles[j]!=job[i]):\n",
    "                job__.append(job[i])\n",
    "            else:\n",
    "                job__.append(job[i+1])\n",
    "job__[:10]"
   ]
  },
  {
   "cell_type": "code",
   "execution_count": null,
   "id": "535030ee",
   "metadata": {},
   "outputs": [],
   "source": [
    "location__=[]\n",
    "list=[0,3,6,7]\n",
    "for i in list:\n",
    "    for j in range(0,10):\n",
    "        if(location[j]!=\"--\"):\n",
    "          location__.append(location[j]) \n",
    "        else:\n",
    "            if(location[j]!=location2[i]):\n",
    "                location__.append(location2[i])\n",
    "            else:\n",
    "                location__.append(location2[i+1])\n",
    "location__[:10]"
   ]
  },
  {
   "cell_type": "code",
   "execution_count": null,
   "id": "fce28a1c",
   "metadata": {},
   "outputs": [],
   "source": [
    "job_desc2=[]\n",
    "for i in job_opening_urls[:10]:\n",
    "    driver.get(i)\n",
    "    time.sleep(5)\n",
    "    try:\n",
    "        jobdesc=driver.find_element_by_xpath(\"//div[@class='nConfig_textblock ']\")\n",
    "        job_desc2.append(jobdesc.text.replace(\"\\n\",\" new line: \"))\n",
    "    except:\n",
    "        job_desc2.append(\"--\")\n",
    "    job_desc2"
   ]
  },
  {
   "cell_type": "code",
   "execution_count": null,
   "id": "3ec17ae7",
   "metadata": {},
   "outputs": [],
   "source": [
    "job_desc2"
   ]
  },
  {
   "cell_type": "code",
   "execution_count": null,
   "id": "9c2c8261",
   "metadata": {},
   "outputs": [],
   "source": [
    "description=[]\n",
    "list=[0,3,6,7]\n",
    "for i in list:\n",
    "    for j in range(0,10):\n",
    "        if(job_desc[j]!=\"--\"):\n",
    "          description.append(job_desc[j]) \n",
    "        else:\n",
    "            if(job_desc[j]!=job_desc2[i]):\n",
    "                description.append(job_desc2[i])\n",
    "            else:\n",
    "                description.append(job_desc2[i+1])\n",
    "description[:10]"
   ]
  },
  {
   "cell_type": "code",
   "execution_count": null,
   "id": "faa8db29",
   "metadata": {},
   "outputs": [],
   "source": [
    "df2=pd.DataFrame()\n",
    "df2[\"JOB_TITLE\"]=job__[:10]\n",
    "df2[\"COMPANY_NAME\"]=company_[:10]\n",
    "df2[\"LOCATION\"]=location__[:10]\n",
    "df2[\"FULL_JOB_DESC\"]=description[:10]\n",
    "df2"
   ]
  },
  {
   "cell_type": "markdown",
   "id": "7d9e706b",
   "metadata": {},
   "source": [
    "# QUESTION-3\n",
    "\n",
    "Q3: In this question you have to scrape data using the filters available on the webpage"
   ]
  },
  {
   "cell_type": "code",
   "execution_count": null,
   "id": "59dbffc9",
   "metadata": {},
   "outputs": [],
   "source": [
    "import selenium\n",
    "from selenium import webdriver\n",
    "import pandas as pd\n",
    "import warnings\n",
    "warnings.filterwarnings(\"ignore\")"
   ]
  },
  {
   "cell_type": "code",
   "execution_count": null,
   "id": "d0c24a1c",
   "metadata": {},
   "outputs": [],
   "source": [
    "driver=webdriver.Chrome('chromedriver.exe')"
   ]
  },
  {
   "cell_type": "code",
   "execution_count": null,
   "id": "1b35f72e",
   "metadata": {},
   "outputs": [],
   "source": [
    "url=\"https://www.naukri.com/\"\n",
    "driver.get(url)"
   ]
  },
  {
   "cell_type": "code",
   "execution_count": null,
   "id": "a23dbb2d",
   "metadata": {},
   "outputs": [],
   "source": [
    "search_job=driver.find_element_by_xpath(\"//input[@class='sugInp']\")\n",
    "search_job.send_keys('Data Scientist')"
   ]
  },
  {
   "cell_type": "code",
   "execution_count": null,
   "id": "148ff322",
   "metadata": {},
   "outputs": [],
   "source": [
    "search_button=driver.find_element_by_xpath(\"//button[@class='btn']\")\n",
    "search_button.click()"
   ]
  },
  {
   "cell_type": "code",
   "execution_count": null,
   "id": "c23eaff8",
   "metadata": {},
   "outputs": [],
   "source": [
    "loc_filter=driver.find_elements_by_xpath(\"//div[@class='mt-8 chckBoxCont']//span\")\n",
    "\n",
    "\n",
    "for i in loc_filter :\n",
    "    if (i.text=='Delhi / NCR'):\n",
    "        i.click()\n",
    "        break"
   ]
  },
  {
   "cell_type": "code",
   "execution_count": null,
   "id": "ea9839b3",
   "metadata": {},
   "outputs": [],
   "source": [
    "sal_filter=driver.find_elements_by_xpath(\"//div[@class='mt-8 chckBoxCont']//span\")\n",
    "for i in sal_filter:\n",
    "    if(i.text=='3-6 Lakhs'):\n",
    "        i.click()\n",
    "        break"
   ]
  },
  {
   "cell_type": "code",
   "execution_count": null,
   "id": "4987e9d4",
   "metadata": {},
   "outputs": [],
   "source": [
    "job_title=driver.find_elements_by_xpath(\"//a[@class='title fw500 ellipsis']\")\n",
    "job=[]\n",
    "for i in job_title:\n",
    "    job.append(i.text)\n",
    "job"
   ]
  },
  {
   "cell_type": "code",
   "execution_count": null,
   "id": "18e54793",
   "metadata": {},
   "outputs": [],
   "source": [
    "comp_name=driver.find_elements_by_xpath(\"//a[@class='subTitle ellipsis fleft']\")\n",
    "company=[]\n",
    "for i in comp_name:\n",
    "    company.append(i.text)\n",
    "    \n",
    "company"
   ]
  },
  {
   "cell_type": "code",
   "execution_count": null,
   "id": "42816e39",
   "metadata": {},
   "outputs": [],
   "source": [
    "exp_req=driver.find_elements_by_xpath(\"//li[@class='fleft grey-text br2 placeHolderLi experience']/span\")\n",
    "experience=[]\n",
    "for i in exp_req:\n",
    "    experience.append(i.text)\n",
    "experience"
   ]
  },
  {
   "cell_type": "code",
   "execution_count": null,
   "id": "a607daee",
   "metadata": {},
   "outputs": [],
   "source": [
    "loc=driver.find_elements_by_xpath(\"//li[@class='fleft grey-text br2 placeHolderLi location']/span[1]\")\n",
    "location=[]\n",
    "for i in loc:\n",
    "    location.append(i.text)\n",
    "    \n",
    "location"
   ]
  },
  {
   "cell_type": "code",
   "execution_count": null,
   "id": "5910c567",
   "metadata": {},
   "outputs": [],
   "source": [
    "df3=pd.DataFrame()\n",
    "df3[\"JOB_TITLE\"]=job[:10]\n",
    "df3[\"COMPANY_NAME\"]=company[:10]\n",
    "df3[\"EXPERIENCE_REQUIRED\"]=experience[:10]\n",
    "df3[\"JOB_LOCATION\"]=location[:10]\n",
    "df3"
   ]
  },
  {
   "cell_type": "markdown",
   "id": "db6a2d07",
   "metadata": {},
   "source": [
    "# QUESTION-5 SCRAPING DATA FROM GLASSDOOR"
   ]
  },
  {
   "cell_type": "code",
   "execution_count": null,
   "id": "22309b59",
   "metadata": {},
   "outputs": [],
   "source": [
    "import selenium\n",
    "from selenium import webdriver\n",
    "import pandas as pd\n",
    "import warnings\n",
    "warnings.filterwarnings(\"ignore\")"
   ]
  },
  {
   "cell_type": "code",
   "execution_count": null,
   "id": "28526069",
   "metadata": {},
   "outputs": [],
   "source": [
    "driver=webdriver.Chrome('chromedriver.exe')"
   ]
  },
  {
   "cell_type": "code",
   "execution_count": null,
   "id": "123a97b6",
   "metadata": {},
   "outputs": [],
   "source": [
    "url=\"https://www.glassdoor.co.in/index.htm\"\n",
    "driver.get(url)"
   ]
  },
  {
   "cell_type": "code",
   "execution_count": null,
   "id": "c5205217",
   "metadata": {},
   "outputs": [],
   "source": [
    "#maximizing the windows\n",
    "driver.maximize_window()"
   ]
  },
  {
   "cell_type": "code",
   "execution_count": null,
   "id": "5eb1607d",
   "metadata": {},
   "outputs": [],
   "source": [
    "search_btn=driver.find_element_by_xpath(\"//input[@id='sc.keyword']\")"
   ]
  },
  {
   "cell_type": "code",
   "execution_count": null,
   "id": "a2521409",
   "metadata": {},
   "outputs": [],
   "source": [
    "search_btn.send_keys('Data Scientist')"
   ]
  },
  {
   "cell_type": "code",
   "execution_count": null,
   "id": "4ec1ab1d",
   "metadata": {},
   "outputs": [],
   "source": [
    "loc_btn=driver.find_element_by_xpath(\"//input[@id='sc.location']\")"
   ]
  },
  {
   "cell_type": "code",
   "execution_count": null,
   "id": "71989a98",
   "metadata": {},
   "outputs": [],
   "source": [
    "loc_btn.send_keys('Noida')"
   ]
  },
  {
   "cell_type": "code",
   "execution_count": null,
   "id": "bac12a23",
   "metadata": {},
   "outputs": [],
   "source": [
    "search_btn=driver.find_element_by_xpath(\"//span[@class='css-8zxfjs']\")"
   ]
  },
  {
   "cell_type": "code",
   "execution_count": null,
   "id": "500447d7",
   "metadata": {},
   "outputs": [],
   "source": [
    "search_btn.click()"
   ]
  },
  {
   "cell_type": "code",
   "execution_count": null,
   "id": "0904b741",
   "metadata": {},
   "outputs": [],
   "source": [
    "job_title=driver.find_elements_by_xpath(\"//a[@class='jobLink job-search-key-1rd3saf eigr9kq1']/span\")\n",
    "job_title[:10]"
   ]
  },
  {
   "cell_type": "code",
   "execution_count": null,
   "id": "fa4e972c",
   "metadata": {},
   "outputs": [],
   "source": [
    "#using driver.execute script command to scroll down the page\n",
    "job_titles=[]\n",
    "for i in job_title[:10]:\n",
    "    driver.execute_script(\"window.scrollBy(0,document.body.scrollHeight0)\")\n",
    "    \n",
    "    job_titles.append(i.text)\n",
    "    \n",
    "job_titles"
   ]
  },
  {
   "cell_type": "code",
   "execution_count": null,
   "id": "5de3ba17",
   "metadata": {},
   "outputs": [],
   "source": [
    "company=driver.find_elements_by_xpath(\"//a[@class=' job-search-key-l2wjgv e1n63ojh0 jobLink']\")"
   ]
  },
  {
   "cell_type": "code",
   "execution_count": null,
   "id": "70383446",
   "metadata": {},
   "outputs": [],
   "source": [
    "company_name=[]\n",
    "for i in company[:10]:\n",
    "    driver.execute_script(\"window.scrollBy(0,document.body.scrollHeight0)\")\n",
    "    \n",
    "    company_name.append(i.text)\n",
    "    \n",
    "company_name"
   ]
  },
  {
   "cell_type": "code",
   "execution_count": null,
   "id": "08e0a042",
   "metadata": {},
   "outputs": [],
   "source": [
    "days=driver.find_elements_by_xpath(\"//div[@class='d-flex align-items-end pl-std css-17n8uzw']\")"
   ]
  },
  {
   "cell_type": "code",
   "execution_count": null,
   "id": "2aa01efb",
   "metadata": {},
   "outputs": [],
   "source": [
    "time_since_posted=[]\n",
    "for i in days[:10]:\n",
    "    driver.execute_script(\"window.scrollBy(0,document.body.scrollHeight0)\")\n",
    "    \n",
    "    time_since_posted.append(i.text)\n",
    "    \n",
    "time_since_posted"
   ]
  },
  {
   "cell_type": "code",
   "execution_count": null,
   "id": "ae1d332c",
   "metadata": {},
   "outputs": [],
   "source": [
    "ratings=driver.find_elements_by_xpath(\"//span[@class=' job-search-key-srfzj0 e1cjmv6j0']\")"
   ]
  },
  {
   "cell_type": "code",
   "execution_count": null,
   "id": "88e13f50",
   "metadata": {},
   "outputs": [],
   "source": [
    "rating=[]\n",
    "for i in ratings[:10]:\n",
    "    try:\n",
    "        driver.execute_script(\"window.scrollBy(0,document.body.scrollHeight0)\")\n",
    "        rating.append(i.text)\n",
    "    except:\n",
    "        rating.append(\"Not Available\")\n",
    "rating"
   ]
  },
  {
   "cell_type": "code",
   "execution_count": null,
   "id": "39e8de8f",
   "metadata": {},
   "outputs": [],
   "source": [
    "df4=pd.DataFrame()\n",
    "df4[\"INDEX\"]=range(1,11)\n",
    "df4[\"COMPANY_NAME\"]=company_name[:10]\n",
    "df4[\"RATING\"]=rating[:10]\n",
    "df4[\"TIME_SINCE_POSTED\"]=time_since_posted[:10]\n",
    "df4.set_index('INDEX',inplace=True)"
   ]
  },
  {
   "cell_type": "code",
   "execution_count": null,
   "id": "6fe5f71b",
   "metadata": {},
   "outputs": [],
   "source": [
    "df4"
   ]
  },
  {
   "cell_type": "markdown",
   "id": "7440360e",
   "metadata": {},
   "source": [
    "# QUESTION-6\n",
    "\n"
   ]
  },
  {
   "cell_type": "code",
   "execution_count": null,
   "id": "32884f47",
   "metadata": {},
   "outputs": [],
   "source": [
    "import selenium\n",
    "from selenium import webdriver\n",
    "import pandas as pd\n",
    "import warnings\n",
    "warnings.filterwarnings(\"ignore\")"
   ]
  },
  {
   "cell_type": "code",
   "execution_count": null,
   "id": "a503bdb2",
   "metadata": {},
   "outputs": [],
   "source": [
    "driver=webdriver.Chrome('chromedriver.exe')"
   ]
  },
  {
   "cell_type": "code",
   "execution_count": null,
   "id": "466ca30a",
   "metadata": {},
   "outputs": [],
   "source": [
    "url='https://www.flipkart.com/'\n",
    "driver.get(url)"
   ]
  },
  {
   "cell_type": "code",
   "execution_count": null,
   "id": "83f855d4",
   "metadata": {},
   "outputs": [],
   "source": [
    "driver.maximize_window()"
   ]
  },
  {
   "cell_type": "code",
   "execution_count": null,
   "id": "c9b79ce9",
   "metadata": {},
   "outputs": [],
   "source": [
    "#logging into flipkart and providing necessary information\n",
    "email_btn=driver.find_element_by_xpath(\"//input[@class='_2IX_2- VJZDxU']\")"
   ]
  },
  {
   "cell_type": "code",
   "execution_count": null,
   "id": "700fa6cb",
   "metadata": {},
   "outputs": [],
   "source": [
    "email_btn.send_keys('9625708656')"
   ]
  },
  {
   "cell_type": "code",
   "execution_count": null,
   "id": "6071947e",
   "metadata": {},
   "outputs": [],
   "source": [
    "password_btn=driver.find_element_by_xpath(\"//input[@class='_2IX_2- _3mctLh VJZDxU']\")"
   ]
  },
  {
   "cell_type": "code",
   "execution_count": null,
   "id": "0a05cd7e",
   "metadata": {},
   "outputs": [],
   "source": [
    "password_btn.send_keys(\"******\")"
   ]
  },
  {
   "cell_type": "code",
   "execution_count": null,
   "id": "a8996b22",
   "metadata": {},
   "outputs": [],
   "source": [
    "login_btn=driver.find_element_by_xpath(\"//button[@class='_2KpZ6l _2HKlqd _3AWRsL']\")"
   ]
  },
  {
   "cell_type": "code",
   "execution_count": null,
   "id": "d4018167",
   "metadata": {},
   "outputs": [],
   "source": [
    "login_btn.click()"
   ]
  },
  {
   "cell_type": "code",
   "execution_count": null,
   "id": "41483ac6",
   "metadata": {},
   "outputs": [],
   "source": [
    "search_items=driver.find_element_by_xpath(\"//input[@class='_3704LK']\")"
   ]
  },
  {
   "cell_type": "code",
   "execution_count": null,
   "id": "b94121ce",
   "metadata": {},
   "outputs": [],
   "source": [
    "search_items.send_keys(\"sunglasses\")"
   ]
  },
  {
   "cell_type": "code",
   "execution_count": null,
   "id": "2cd42b31",
   "metadata": {},
   "outputs": [],
   "source": [
    "search_btn=driver.find_element_by_xpath(\"//button[@class='L0Z3Pu']\")"
   ]
  },
  {
   "cell_type": "code",
   "execution_count": null,
   "id": "4a8765c5",
   "metadata": {},
   "outputs": [],
   "source": [
    "search_btn.click()"
   ]
  },
  {
   "cell_type": "code",
   "execution_count": null,
   "id": "0cd3b837",
   "metadata": {},
   "outputs": [],
   "source": [
    "import time\n",
    "from selenium.webdriver.common.by import By"
   ]
  },
  {
   "cell_type": "code",
   "execution_count": null,
   "id": "3e310519",
   "metadata": {},
   "outputs": [],
   "source": [
    "def scrape_brand_name(url):\n",
    "    brand=[]\n",
    "    driver.get(url)\n",
    "    try:\n",
    "        brand_el=driver.find_elements_by_xpath(\"//div[@class='_2WkVRV']\")\n",
    "        time.sleep(3)\n",
    "        \n",
    "        for i in brand_el:\n",
    "            \n",
    "            brand.append(i.text)\n",
    "            driver.execute_script(\"window.scrollBy(0,document.body.scrollHeight0)\")\n",
    "            \n",
    "        return brand\n",
    "    except StaleElementReferenceException as e:\n",
    "        print(\"exception raised\",e)"
   ]
  },
  {
   "cell_type": "code",
   "execution_count": null,
   "id": "69e3f2cf",
   "metadata": {},
   "outputs": [],
   "source": [
    "def scrape_product_des(url):\n",
    "    product_des=[]\n",
    "    driver.get(url)\n",
    "    product_el=driver.find_elements_by_xpath(\"//a[@class='IRpwTa']\")\n",
    "    for i in product_el:\n",
    "        try:\n",
    "            product_des.append(i.text)\n",
    "            driver.execute_script(\"window.scrollBy(0,document.body.scrollHeight0)\")\n",
    "        except:\n",
    "            product_des.append(\"--\")\n",
    "        \n",
    "    return product_des"
   ]
  },
  {
   "cell_type": "code",
   "execution_count": null,
   "id": "994cd602",
   "metadata": {},
   "outputs": [],
   "source": [
    "def scrape_price(url):\n",
    "    price=[]\n",
    "    driver.get(url)\n",
    "    price_el=driver.find_elements_by_xpath(\"//div[@class='_30jeq3']\")\n",
    "    \n",
    "    for i in price_el:\n",
    "        try:\n",
    "            price.append(i.text)\n",
    "            driver.execute_script(\"window.scrollBy(0,document.body.scrollHeight0)\")\n",
    "            \n",
    "        except:\n",
    "            price.append(\"--\")\n",
    "        \n",
    "    return price"
   ]
  },
  {
   "cell_type": "code",
   "execution_count": null,
   "id": "56107a18",
   "metadata": {},
   "outputs": [],
   "source": [
    "def scrape_discount(url):\n",
    "    discount=[]\n",
    "    driver.get(url)\n",
    "    \n",
    "    discount_el=driver.find_elements_by_xpath(\"//div[@class='_3Ay6Sb']/span\")\n",
    "        \n",
    "    for i in discount_el:\n",
    "        \n",
    "        try:\n",
    "            \n",
    "            discount.append(i.text)\n",
    "            driver.execute_script(\"window.scrollBy(0,document.body.scrollHeight0)\")\n",
    "        except:\n",
    "            discount.append(\"--\")\n",
    "        \n",
    "    return discount"
   ]
  },
  {
   "cell_type": "code",
   "execution_count": null,
   "id": "929731fa",
   "metadata": {},
   "outputs": [],
   "source": [
    "import time"
   ]
  },
  {
   "cell_type": "code",
   "execution_count": null,
   "id": "8814d23c",
   "metadata": {},
   "outputs": [],
   "source": [
    "from selenium.common.exceptions import StaleElementReferenceException\n",
    "from selenium.webdriver.support.ui import WebDriverWait\n",
    "from selenium.webdriver.support import expected_conditions as EC\n",
    "from selenium.webdriver.common.by import By"
   ]
  },
  {
   "cell_type": "code",
   "execution_count": null,
   "id": "6c8b38d9",
   "metadata": {},
   "outputs": [],
   "source": [
    "brand_list=[]\n",
    "product_list=[]\n",
    "discount_list=[]\n",
    "price_list=[]\n",
    "urls='https://www.flipkart.com/search?q=sunglasses&otracker=search&otracker1=search&marketplace=FLIPKART&as-show=on&as=off&page='\n",
    "for i in ['1','2','3']:\n",
    "\n",
    "   url= urls+i\n",
    "   time.sleep(5)\n",
    "   brand=scrape_brand_name(url)\n",
    "   brand_list.extend(brand) \n",
    "   product=scrape_product_des(url)\n",
    "   product_list.extend(product)\n",
    "   discount=scrape_discount(url)\n",
    "   discount_list.extend(discount)\n",
    "   price=scrape_price(url)\n",
    "   price_list.extend(price) "
   ]
  },
  {
   "cell_type": "code",
   "execution_count": null,
   "id": "ec2e9f70",
   "metadata": {},
   "outputs": [],
   "source": [
    "length=[len(brand_list),len(product_list),len(discount_list),len(price_list)]\n",
    "length"
   ]
  },
  {
   "cell_type": "code",
   "execution_count": null,
   "id": "9fe63262",
   "metadata": {},
   "outputs": [],
   "source": [
    "#creating DataFrame for the scraped Data\n",
    "import pandas as pd\n",
    "df5=pd.DataFrame()\n",
    "df5[\"BRAND\"]=brand_list[:100]\n",
    "df5[\"PRODUCT_DESCRIPTION\"]=product_list[:100]\n",
    "df5[\"DISCOUNT\"]=discount_list[:100]\n",
    "df5[\"PRICE\"]=price_list[:100]\n",
    "df5"
   ]
  },
  {
   "cell_type": "markdown",
   "id": "7acf2d1d",
   "metadata": {},
   "source": [
    "# QUESTION-7\n",
    "\n",
    "Scrape 100 reviews data from flipkart.com for iphone11 phone. You have to go the link: https://www.flipkart.com/apple-iphone-11-black-64-gb-includesearpods-poweradapter/p/itm0f37c2240b217?pid=MOBFKCTSVZAXUHGR&lid=LSTMOBFKC TSVZAXUHGREPBFGI&marketplace"
   ]
  },
  {
   "cell_type": "code",
   "execution_count": null,
   "id": "8c08f55f",
   "metadata": {},
   "outputs": [],
   "source": [
    "import selenium\n",
    "from selenium import webdriver\n",
    "import pandas as pd\n",
    "import warnings\n",
    "warnings.filterwarnings(\"ignore\")"
   ]
  },
  {
   "cell_type": "code",
   "execution_count": null,
   "id": "47e4bab4",
   "metadata": {},
   "outputs": [],
   "source": [
    "driver=webdriver.Chrome('chromedriver.exe')"
   ]
  },
  {
   "cell_type": "code",
   "execution_count": null,
   "id": "5ea5b111",
   "metadata": {},
   "outputs": [],
   "source": [
    "url=\"https://www.flipkart.com/apple-iphone-11-black-64-gb-includesearpods-poweradapter/p/itm0f37c2240b217?pid=MOBFKCTSVZAXUHGR&lid=LSTMOBFKC\""
   ]
  },
  {
   "cell_type": "code",
   "execution_count": null,
   "id": "3d00328d",
   "metadata": {},
   "outputs": [],
   "source": [
    "driver.get(url)"
   ]
  },
  {
   "cell_type": "code",
   "execution_count": null,
   "id": "bf09ec03",
   "metadata": {},
   "outputs": [],
   "source": [
    "driver.maximize_window()"
   ]
  },
  {
   "cell_type": "code",
   "execution_count": null,
   "id": "2ea756c8",
   "metadata": {},
   "outputs": [],
   "source": [
    "all_reviews_btn=driver.find_element_by_xpath(\"//div[@class='_3UAT2v _16PBlm']/span\")"
   ]
  },
  {
   "cell_type": "code",
   "execution_count": null,
   "id": "cc6404aa",
   "metadata": {},
   "outputs": [],
   "source": [
    "all_reviews_btn.click()"
   ]
  },
  {
   "cell_type": "code",
   "execution_count": null,
   "id": "39c03b88",
   "metadata": {},
   "outputs": [],
   "source": [
    "url1='https://www.flipkart.com/apple-iphone-11-black-64-gb-includes-earpods-power-adapter/product-reviews/itm0f37c2240b217?pid=MOBFKCTSVZAXUHGR&lid=LST"
   ]
  },
  {
   "cell_type": "code",
   "execution_count": null,
   "id": "b410d1bc",
   "metadata": {},
   "outputs": [],
   "source": [
    "def scrape_rating():\n",
    "    rating=[]\n",
    "    driver.refresh()\n",
    "    rating_el=driver.find_elements_by_xpath(\"//div[@class='_3LWZlK _1BLPMq']\")\n",
    "    time.sleep(3)\n",
    "    for i in rating_el:\n",
    "        try:\n",
    "            rating.append(i.text)\n",
    "            driver.execute_script(\"window.scrollBy(0,document.body.scrollHeight0)\")\n",
    "        except:\n",
    "            rating.append(\"--\")\n",
    "    return rating\n",
    "            "
   ]
  },
  {
   "cell_type": "code",
   "execution_count": null,
   "id": "a673575b",
   "metadata": {},
   "outputs": [],
   "source": [
    "def scrape_review_summary():\n",
    "    review_sum=[]\n",
    "    driver.refresh()\n",
    "    rev_sum=driver.find_elements_by_xpath(\"//p[@class='_2-N8zT']\")\n",
    "    time.sleep(3)\n",
    "    for i in rev_sum:\n",
    "        try:\n",
    "            review_sum.append(i.text)\n",
    "            driver.execute_script(\"window.scrollBy(0,document.body.scrollHeight0)\")\n",
    "        except:\n",
    "            review_sum.append(\"--\")\n",
    "    return review_sum"
   ]
  },
  {
   "cell_type": "code",
   "execution_count": null,
   "id": "40f58cfa",
   "metadata": {},
   "outputs": [],
   "source": [
    "def scrape_full_review():\n",
    "    full_review=[]\n",
    "    driver.refresh()\n",
    "    rev_el=driver.find_elements_by_xpath(\"//div[@class='t-ZTKy']/div\")\n",
    "    time.sleep(3)\n",
    "    for i in rev_el:\n",
    "        try:\n",
    "            full_review.append(i.text.replace(\"\\n\",\"  New Line: \"))\n",
    "            driver.execute_script(\"window.scrollBy(0,document.body.scrollHeight0)\")\n",
    "        except:\n",
    "            full_review.append(\"--\")\n",
    "    return full_review"
   ]
  },
  {
   "cell_type": "code",
   "execution_count": null,
   "id": "a97906a2",
   "metadata": {},
   "outputs": [],
   "source": [
    "import time"
   ]
  },
  {
   "cell_type": "code",
   "execution_count": null,
   "id": "8176fff7",
   "metadata": {},
   "outputs": [],
   "source": [
    "rating=[]\n",
    "review_sum=[]\n",
    "full_review=[]\n",
    "length=len(rating)\n",
    "while(length<=100):\n",
    "    driver.refresh()\n",
    "    rating.extend(scrape_rating())\n",
    "    review_sum.extend(scrape_review_summary())\n",
    "    full_review.extend(scrape_full_review())\n",
    "    time.sleep(5)\n",
    "    length=len(rating)\n",
    "    next_btn=driver.find_element_by_xpath(\"//a[@class='_1LKTO3']/span\")\n",
    "    next_btn.click()\n",
    "    \n",
    "len(review_sum)length_list=[len(full_review),len(rating),len(review_sum)]\n",
    "length_list"
   ]
  },
  {
   "cell_type": "code",
   "execution_count": null,
   "id": "85a4bd29",
   "metadata": {},
   "outputs": [],
   "source": [
    "review_sum"
   ]
  },
  {
   "cell_type": "code",
   "execution_count": null,
   "id": "f290cc9a",
   "metadata": {},
   "outputs": [],
   "source": [
    "#creating a DataFrame for the scraped data\n",
    "import pandas as pd\n",
    "df6=pd.DataFrame()\n",
    "df6[\"INDEX\"]=range(1,101)\n",
    "df6[\"RATING\"]=rating[:100]\n",
    "df6[\"REVIEW_SUMMARY\"]=review_sum[:100]\n",
    "df6[\"FULL_REVIEW\"]=full_review[:100]\n",
    "df6.set_index(\"INDEX\",inplace=True)\n",
    "df6"
   ]
  },
  {
   "cell_type": "code",
   "execution_count": null,
   "id": "0103e0db",
   "metadata": {},
   "outputs": [],
   "source": []
  },
  {
   "cell_type": "markdown",
   "id": "0c183e52",
   "metadata": {},
   "source": [
    "# QUESTION-8\n",
    "\n",
    "Scrape data for first 100 sneakers you find when you visit flipkart.com and search for “sneakers” in the search field. You have to scrape 4 attributes of each sneaker :\n",
    "\n",
    "Brand\n",
    "Product Description\n",
    "Price\n",
    "discount %"
   ]
  },
  {
   "cell_type": "code",
   "execution_count": null,
   "id": "2cb3eec0",
   "metadata": {},
   "outputs": [],
   "source": [
    "import selenium\n",
    "from selenium import webdriver\n",
    "import pandas as pd\n",
    "import warnings\n",
    "warnings.filterwarnings(\"ignore\")"
   ]
  },
  {
   "cell_type": "code",
   "execution_count": null,
   "id": "b495b21b",
   "metadata": {},
   "outputs": [],
   "source": [
    "driver=webdriver.Chrome('chromedriver.exe')"
   ]
  },
  {
   "cell_type": "code",
   "execution_count": null,
   "id": "826fcb59",
   "metadata": {},
   "outputs": [],
   "source": [
    "url='https://www.flipkart.com/'\n",
    "driver.get(url)"
   ]
  },
  {
   "cell_type": "code",
   "execution_count": null,
   "id": "e9fd3779",
   "metadata": {},
   "outputs": [],
   "source": [
    "email_btn=driver.find_element_by_xpath(\"//input[@class='_2IX_2- VJZDxU']\")"
   ]
  },
  {
   "cell_type": "code",
   "execution_count": null,
   "id": "07cc6dfc",
   "metadata": {},
   "outputs": [],
   "source": [
    "email_btn.send_keys(\"9625708656\")"
   ]
  },
  {
   "cell_type": "code",
   "execution_count": null,
   "id": "7890c8de",
   "metadata": {},
   "outputs": [],
   "source": [
    "password_column=driver.find_element_by_xpath(\"//input[@class='_2IX_2- _3mctLh VJZDxU']\")"
   ]
  },
  {
   "cell_type": "code",
   "execution_count": null,
   "id": "04e4c187",
   "metadata": {},
   "outputs": [],
   "source": [
    "search_column.send_keys(\"sneakers\")\n"
   ]
  },
  {
   "cell_type": "code",
   "execution_count": null,
   "id": "8cba441a",
   "metadata": {},
   "outputs": [],
   "source": [
    "search_btn=driver.find_element_by_xpath(\"//button[@class='L0Z3Pu']\")"
   ]
  },
  {
   "cell_type": "code",
   "execution_count": null,
   "id": "f9378584",
   "metadata": {},
   "outputs": [],
   "source": [
    "search_btn.click()"
   ]
  },
  {
   "cell_type": "code",
   "execution_count": null,
   "id": "8b345edf",
   "metadata": {},
   "outputs": [],
   "source": [
    "#creating functions to scrape data\n",
    "import time"
   ]
  },
  {
   "cell_type": "code",
   "execution_count": null,
   "id": "dbf483cf",
   "metadata": {},
   "outputs": [],
   "source": [
    "def scrape_brand():\n",
    "    brand=[]\n",
    "    brand_el=driver.find_elements_by_xpath(\"//div[@class='_2WkVRV']\")\n",
    "    time.sleep(3)\n",
    "    for i in brand_el:\n",
    "        try:\n",
    "            brand.append(i.text)\n",
    "            driver.execute_script(\"window.scrollBy(0,document.body.scrollHeight0)\")\n",
    "        except:\n",
    "            brand.append(\"--\")\n",
    "    return brand"
   ]
  },
  {
   "cell_type": "code",
   "execution_count": null,
   "id": "2638c934",
   "metadata": {},
   "outputs": [],
   "source": [
    "def scrape_product_des():\n",
    "    product_des=[]\n",
    "    des_el=driver.find_elements_by_xpath(\"//a[@class='IRpwTa' or @class='IRpwTa _2-ICcC']\")\n",
    "    print(len(des_el))\n",
    "    time.sleep(3)\n",
    "    for i in des_el:\n",
    "        try:\n",
    "            product_des.append(i.text)\n",
    "            driver.execute_script(\"window.scrollBy(0,document.body.scrollHeight0)\")\n",
    "        except:\n",
    "            product_des.append(\"--\")\n",
    "    return product_des"
   ]
  },
  {
   "cell_type": "code",
   "execution_count": null,
   "id": "e18a93e2",
   "metadata": {},
   "outputs": [],
   "source": [
    "def scrape_price():\n",
    "    price=[]\n",
    "    price_el=driver.find_elements_by_xpath(\"//div[@class='_30jeq3']\")\n",
    "    time.sleep(3)\n",
    "    for i in price_el:\n",
    "        try:\n",
    "            price.append(i.text)\n",
    "            driver.execute_script(\"window.scrollBy(0,document.body.scrollHeight0)\")\n",
    "        except:\n",
    "            price.append(\"--\")\n",
    "            \n",
    "    return price"
   ]
  },
  {
   "cell_type": "code",
   "execution_count": null,
   "id": "045361b1",
   "metadata": {},
   "outputs": [],
   "source": [
    "def scrape_discount():\n",
    "    discount=[]\n",
    "    discount_el=driver.find_elements_by_xpath(\"//div[@class='_3Ay6Sb']/span\")\n",
    "    time.sleep(3)\n",
    "    for i in discount_el:\n",
    "        try:\n",
    "            discount.append(i.text)\n",
    "            driver.execute_script(\"window.scrollBy(0,document.body.scrollHeight0)\")\n",
    "        except:\n",
    "            discount.append(\"--\")\n",
    "            \n",
    "    return discount"
   ]
  },
  {
   "cell_type": "code",
   "execution_count": null,
   "id": "db7e07d1",
   "metadata": {},
   "outputs": [],
   "source": [
    "brand=[]\n",
    "product_des=[]\n",
    "price=[]\n",
    "discount=[]\n",
    "length=len(brand)\n",
    "while(length<=100):\n",
    "    driver.refresh()\n",
    "    brand.extend(scrape_brand())\n",
    "    product_des.extend(scrape_product_des())\n",
    "    price.extend(scrape_price())\n",
    "    discount.extend(scrape_discount())\n",
    "    time.sleep(3)\n",
    "    next_btn=driver.find_element_by_xpath(\"//a[@class='_1LKTO3']/span\")\n",
    "    next_btn.click()\n",
    "    length=len(brand)\n",
    "len(price)"
   ]
  },
  {
   "cell_type": "code",
   "execution_count": null,
   "id": "8ebb3426",
   "metadata": {},
   "outputs": [],
   "source": [
    "#inspecting the length of scraped attributes\n",
    "length_list=[len(brand),len(product_des),len(discount),len(price)]\n",
    "length_list"
   ]
  },
  {
   "cell_type": "code",
   "execution_count": null,
   "id": "5328d66c",
   "metadata": {},
   "outputs": [],
   "source": [
    "#creating DataFrame for the scraped data\n",
    "import pandas as pd\n",
    "sneakers=pd.DataFrame()\n",
    "sneakers[\"INDEX\"]=range(1,101)\n",
    "sneakers[\"BRAND\"]=brand[:100]\n",
    "sneakers[\"PRODUCT_DESCRIPTION\"]=product_des[:100]\n",
    "sneakers[\"DISCOUNT\"]=discount[:100]\n",
    "sneakers[\"PRICE\"]=price[:100]\n",
    "sneakers.set_index(\"INDEX\",inplace=True)\n",
    "sneakers"
   ]
  },
  {
   "cell_type": "markdown",
   "id": "953081bb",
   "metadata": {},
   "source": [
    "# QUESTION-9\n",
    "\n",
    "Go to the link - https://www.myntra.com/shoes Set Price filter to “Rs. 6649 to Rs. 13099” ,Color filter to “Black”."
   ]
  },
  {
   "cell_type": "code",
   "execution_count": null,
   "id": "7ba9b875",
   "metadata": {},
   "outputs": [],
   "source": [
    "import selenium\n",
    "from selenium import webdriver\n",
    "import pandas as pd\n",
    "import warnings\n",
    "warnings.filterwarnings(\"ignore\")"
   ]
  },
  {
   "cell_type": "code",
   "execution_count": null,
   "id": "99195c65",
   "metadata": {},
   "outputs": [],
   "source": [
    "driver=webdriver.Chrome('chromedriver.exe')"
   ]
  },
  {
   "cell_type": "code",
   "execution_count": null,
   "id": "83b5aa98",
   "metadata": {},
   "outputs": [],
   "source": [
    "url='https://www.myntra.com/shoes'\n",
    "driver.get(url)"
   ]
  },
  {
   "cell_type": "code",
   "execution_count": null,
   "id": "e6a1c64b",
   "metadata": {},
   "outputs": [],
   "source": [
    "driver.maximize_window()"
   ]
  },
  {
   "cell_type": "code",
   "execution_count": null,
   "id": "3f2d9406",
   "metadata": {},
   "outputs": [],
   "source": [
    "price_filter=driver.find_elements_by_xpath(\"//label[@class='common-customCheckbox vertical-filters-label']\")"
   ]
  },
  {
   "cell_type": "code",
   "execution_count": null,
   "id": "c61187c6",
   "metadata": {},
   "outputs": [],
   "source": [
    "price_filter[7].click()"
   ]
  },
  {
   "cell_type": "code",
   "execution_count": null,
   "id": "969498d4",
   "metadata": {},
   "outputs": [],
   "source": [
    "colour_filter=driver.find_elements_by_xpath(\"//label[@class='common-customCheckbox']\")"
   ]
  },
  {
   "cell_type": "code",
   "execution_count": null,
   "id": "4cfb8785",
   "metadata": {},
   "outputs": [],
   "source": [
    "colour_filter[0].click("
   ]
  },
  {
   "cell_type": "code",
   "execution_count": null,
   "id": "3b7dc4c9",
   "metadata": {},
   "outputs": [],
   "source": [
    "#defining functions for scraping\n",
    "import time"
   ]
  },
  {
   "cell_type": "code",
   "execution_count": null,
   "id": "898db67a",
   "metadata": {},
   "outputs": [],
   "source": [
    "def scrape_brand():\n",
    "    brand=[]\n",
    "    brand_el=driver.find_elements_by_xpath(\"//div[@class='product-productMetaInfo']/h3\")\n",
    "    time.sleep(3)\n",
    "    for i in brand_el:\n",
    "        try:\n",
    "            brand.append(i.text)\n",
    "            driver.execute_script(\"window.scrollBy(0,document.body.scrollHeight0)\")\n",
    "        except:\n",
    "            brand.append(\"--\")\n",
    "            \n",
    "    return brand"
   ]
  },
  {
   "cell_type": "code",
   "execution_count": null,
   "id": "1e11edca",
   "metadata": {},
   "outputs": [],
   "source": [
    "def scrape_des():\n",
    "    description=[]\n",
    "    des_el=driver.find_elements_by_xpath(\"//div[@class='product-productMetaInfo']/h4\")\n",
    "    time.sleep(3)\n",
    "    for i in des_el:\n",
    "        try:\n",
    "            description.append(i.text)\n",
    "            driver.execute_script(\"window.scrollBy(0,document.body.scrollHeight0)\")\n",
    "        except:\n",
    "            description.append(\"--\")\n",
    "    return description"
   ]
  },
  {
   "cell_type": "code",
   "execution_count": null,
   "id": "5ae1c6b1",
   "metadata": {},
   "outputs": [],
   "source": [
    "def scrape_price():\n",
    "    price=[]\n",
    "    price_el=driver.find_elements_by_xpath(\"//div[@class='product-price']\")\n",
    "    time.sleep(3)\n",
    "    for i in price_el:\n",
    "        try:\n",
    "            price.append(i.text)\n",
    "            driver.execute_script(\"window.scrollBy(0,document.body.scrollHeight0)\")\n",
    "        except:\n",
    "            price.append(\"--\")\n",
    "    return price"
   ]
  },
  {
   "cell_type": "code",
   "execution_count": null,
   "id": "fcfcc7fc",
   "metadata": {},
   "outputs": [],
   "source": [
    "brand=[]\n",
    "description=[]\n",
    "price=[]\n",
    "length=len(brand)\n",
    "while(length<=100):\n",
    "    driver.refresh()\n",
    "    brand.extend(scrape_brand())\n",
    "    description.extend(scrape_des())\n",
    "    price.extend(scrape_price())\n",
    "    time.sleep(3)\n",
    "    length=len(brand)\n",
    "    next_btn=driver.find_element_by_xpath(\"//li[@class='pagination-next']/a\")\n",
    "    next_btn.click()\n",
    "    \n",
    "len(price)"
   ]
  },
  {
   "cell_type": "code",
   "execution_count": null,
   "id": "3bf12e20",
   "metadata": {},
   "outputs": [],
   "source": [
    "length_list=[len(brand),len(description),len(price)]\n",
    "length_list"
   ]
  },
  {
   "cell_type": "code",
   "execution_count": null,
   "id": "67185014",
   "metadata": {},
   "outputs": [],
   "source": [
    "description_new=[]\n",
    "for i in range(0,300,2):\n",
    "    description_new.append(description[i])\n",
    "description_new"
   ]
  },
  {
   "cell_type": "code",
   "execution_count": null,
   "id": "61ecb647",
   "metadata": {},
   "outputs": [],
   "source": [
    "#creating Dataframe for the scraped data\n",
    "import pandas as pd\n",
    "myntra_shoes=pd.DataFrame()\n",
    "myntra_shoes[\"INDEX\"]=range(1,101)\n",
    "myntra_shoes[\"BRAND\"]=brand[:100]\n",
    "myntra_shoes[\"SHORT_DESCRIPTION\"]=description_new[:100]\n",
    "myntra_shoes[\"PRICE\"]=price[:100]\n",
    "myntra_shoes.set_index(\"INDEX\",inplace=True)\n",
    "myntra_shoes"
   ]
  },
  {
   "cell_type": "code",
   "execution_count": null,
   "id": "e5bd7678",
   "metadata": {},
   "outputs": [],
   "source": [
    "QUESTION-10"
   ]
  },
  {
   "cell_type": "code",
   "execution_count": null,
   "id": "8b55a873",
   "metadata": {},
   "outputs": [],
   "source": [
    "import selenium\n",
    "from selenium import webdriver\n",
    "import pandas as pd\n",
    "import warnings\n",
    "warnings.filterwarnings(\"ignore\")"
   ]
  },
  {
   "cell_type": "code",
   "execution_count": null,
   "id": "55c58235",
   "metadata": {},
   "outputs": [],
   "source": [
    "driver=webdriver.Chrome('chromedriver.exe')"
   ]
  },
  {
   "cell_type": "code",
   "execution_count": null,
   "id": "c6e2f4a6",
   "metadata": {},
   "outputs": [],
   "source": [
    "url=\"https://www.amazon.in/\"\n",
    "driver.get(url)"
   ]
  },
  {
   "cell_type": "code",
   "execution_count": null,
   "id": "7ca48de1",
   "metadata": {},
   "outputs": [],
   "source": [
    "driver.maximize_window()"
   ]
  },
  {
   "cell_type": "code",
   "execution_count": null,
   "id": "50230472",
   "metadata": {},
   "outputs": [],
   "source": [
    "search_button=driver.find_elements_by_xpath(\"//input[@class='nav-input nav-progressive-attribute']\")"
   ]
  },
  {
   "cell_type": "code",
   "execution_count": null,
   "id": "85367aff",
   "metadata": {},
   "outputs": [],
   "source": [
    "search_button[1].click()"
   ]
  },
  {
   "cell_type": "code",
   "execution_count": null,
   "id": "bc530484",
   "metadata": {},
   "outputs": [],
   "source": [
    "#i7=driver.find_elements_by_xpath(\"//li[@id='p_n_feature_thirteen_browse-bin/12598163031']\")\n",
    "\n",
    "#for i in i7:\n",
    "    \n",
    "#print(i.text)\n",
    "#if(i.text)=='Intel Core i7':\n",
    "\n"
   ]
  },
  {
   "cell_type": "code",
   "execution_count": null,
   "id": "a2c493b0",
   "metadata": {},
   "outputs": [],
   "source": [
    "title_el=driver.find_elements_by_xpath(\"//h2[@class='a-size-mini a-spacing-none a-color-base s-line-clamp-2']\")\n",
    "title=[]\n",
    "for i in title_el[:10]:\n",
    "    title.append(i.text)\n",
    "title"
   ]
  },
  {
   "cell_type": "code",
   "execution_count": null,
   "id": "0bccc239",
   "metadata": {},
   "outputs": [],
   "source": [
    "price_el=driver.find_elements_by_xpath(\"//span[@class='a-price-whole']\")\n",
    "price=[]\n",
    "for i in price_el[:10]:\n",
    "    price.append(i.text)\n",
    "price"
   ]
  },
  {
   "cell_type": "code",
   "execution_count": null,
   "id": "1da80da8",
   "metadata": {},
   "outputs": [],
   "source": [
    "url2=driver.find_elements_by_xpath(\"//a[@class='a-link-normal a-text-normal']\")\n",
    "\n",
    "rating_url=[]\n",
    "for i in url2[:10]:\n",
    "    rating_url.append(i.get_attribute('href'))\n",
    "rating_url"
   ]
  },
  {
   "cell_type": "code",
   "execution_count": null,
   "id": "206f032e",
   "metadata": {},
   "outputs": [],
   "source": [
    "import time\n",
    "rating=[]\n",
    "for i in rating_url[:10]:\n",
    "    driver.get(i)\n",
    "    time.sleep(3)\n",
    "    try:\n",
    "        \n",
    "        ratings = driver.find_element(By.XPATH,\".//span[@class='a-icon-alt']/..\")\n",
    "        ratings = ratings.get_attribute('innerHTML').split(\">\")[1].split(\" \")[0]\n",
    "        rating.append(ratings)\n",
    "    except:\n",
    "        \n",
    "        \n",
    "        rating.append(\"00\")\n",
    "rating"
   ]
  },
  {
   "cell_type": "code",
   "execution_count": null,
   "id": "b7ab3178",
   "metadata": {},
   "outputs": [],
   "source": [
    "len(price)"
   ]
  },
  {
   "cell_type": "code",
   "execution_count": null,
   "id": "669bd9e4",
   "metadata": {},
   "outputs": [],
   "source": [
    "len(title)"
   ]
  },
  {
   "cell_type": "code",
   "execution_count": null,
   "id": "b6750ed6",
   "metadata": {},
   "outputs": [],
   "source": [
    "#creating DataFrame for the scraped data\n",
    "import pandas as pd\n",
    "laptop_df=pd.DataFrame()\n",
    "laptop_df['INDEX']=range(1,11)\n",
    "laptop_df['TITLE']=title[:10]\n",
    "laptop_df['RATING']=rating[:10]\n",
    "laptop_df['PRICE']=price[:10]\n",
    "laptop_df.set_index('INDEX',inplace=True)\n",
    "laptop_df"
   ]
  },
  {
   "cell_type": "code",
   "execution_count": null,
   "id": "10a6ee5d",
   "metadata": {},
   "outputs": [],
   "source": []
  },
  {
   "cell_type": "code",
   "execution_count": null,
   "id": "45fd5094",
   "metadata": {},
   "outputs": [],
   "source": []
  },
  {
   "cell_type": "code",
   "execution_count": null,
   "id": "927e2e35",
   "metadata": {},
   "outputs": [],
   "source": []
  },
  {
   "cell_type": "code",
   "execution_count": null,
   "id": "4a33d9d2",
   "metadata": {},
   "outputs": [],
   "source": []
  },
  {
   "cell_type": "code",
   "execution_count": null,
   "id": "378346ea",
   "metadata": {},
   "outputs": [],
   "source": []
  },
  {
   "cell_type": "code",
   "execution_count": null,
   "id": "581e2cdc",
   "metadata": {},
   "outputs": [],
   "source": []
  }
 ],
 "metadata": {
  "kernelspec": {
   "display_name": "Python 3",
   "language": "python",
   "name": "python3"
  },
  "language_info": {
   "codemirror_mode": {
    "name": "ipython",
    "version": 3
   },
   "file_extension": ".py",
   "mimetype": "text/x-python",
   "name": "python",
   "nbconvert_exporter": "python",
   "pygments_lexer": "ipython3",
   "version": "3.8.8"
  }
 },
 "nbformat": 4,
 "nbformat_minor": 5
}
