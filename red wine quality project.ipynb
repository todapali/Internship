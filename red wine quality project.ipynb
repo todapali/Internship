{
 "cells": [
  {
   "cell_type": "code",
   "execution_count": null,
   "id": "ca4ba45a",
   "metadata": {},
   "outputs": [],
   "source": []
  },
  {
   "cell_type": "code",
   "execution_count": 92,
   "id": "499d61cf",
   "metadata": {},
   "outputs": [],
   "source": [
    "#Libraries we will use\n",
    "import numpy as np\n",
    "import warnings\n",
    "import pandas as pd\n",
    "import matplotlib.pyplot as plt\n",
    "import seaborn as sns\n",
    "from sklearn.model_selection import train_test_split\n",
    "from sklearn.linear_model import LinearRegression\n",
    "from sklearn.metrics import mean_squared_error\n",
    "from sklearn.metrics import accuracy_score\n",
    "from sklearn.metrics import f1_score, confusion_matrix, accuracy_score, recall_score, precision_score\n",
    "from sklearn.preprocessing import PolynomialFeatures\n",
    "from sklearn.metrics import mean_squared_error\n",
    "from sklearn.tree import DecisionTreeRegressor\n",
    "from sklearn.ensemble import RandomForestRegressor\n",
    "from sklearn import linear_model\n",
    "from math import sqrt\n",
    "from prettytable import PrettyTable\n",
    "\n",
    "\n"
   ]
  },
  {
   "cell_type": "markdown",
   "id": "4d1e3127",
   "metadata": {},
   "source": [
    " Data Cleaning and Checking\n",
    "On this section we will check for undesired values such as NaN and get our dataset prepared so we can train our model later on with proper data. We will also check data types so we can transform them into numerical values if needed."
   ]
  },
  {
   "cell_type": "code",
   "execution_count": 50,
   "id": "b37c601c",
   "metadata": {},
   "outputs": [
    {
     "data": {
      "text/html": [
       "<div>\n",
       "<style scoped>\n",
       "    .dataframe tbody tr th:only-of-type {\n",
       "        vertical-align: middle;\n",
       "    }\n",
       "\n",
       "    .dataframe tbody tr th {\n",
       "        vertical-align: top;\n",
       "    }\n",
       "\n",
       "    .dataframe thead th {\n",
       "        text-align: right;\n",
       "    }\n",
       "</style>\n",
       "<table border=\"1\" class=\"dataframe\">\n",
       "  <thead>\n",
       "    <tr style=\"text-align: right;\">\n",
       "      <th></th>\n",
       "      <th>fixed acidity</th>\n",
       "      <th>volatile acidity</th>\n",
       "      <th>citric acid</th>\n",
       "      <th>residual sugar</th>\n",
       "      <th>chlorides</th>\n",
       "      <th>free sulfur dioxide</th>\n",
       "      <th>total sulfur dioxide</th>\n",
       "      <th>density</th>\n",
       "      <th>pH</th>\n",
       "      <th>sulphates</th>\n",
       "      <th>alcohol</th>\n",
       "      <th>quality</th>\n",
       "    </tr>\n",
       "  </thead>\n",
       "  <tbody>\n",
       "    <tr>\n",
       "      <th>0</th>\n",
       "      <td>7.4</td>\n",
       "      <td>0.70</td>\n",
       "      <td>0.00</td>\n",
       "      <td>1.9</td>\n",
       "      <td>0.076</td>\n",
       "      <td>11.0</td>\n",
       "      <td>34.0</td>\n",
       "      <td>0.9978</td>\n",
       "      <td>3.51</td>\n",
       "      <td>0.56</td>\n",
       "      <td>9.4</td>\n",
       "      <td>5</td>\n",
       "    </tr>\n",
       "    <tr>\n",
       "      <th>1</th>\n",
       "      <td>7.8</td>\n",
       "      <td>0.88</td>\n",
       "      <td>0.00</td>\n",
       "      <td>2.6</td>\n",
       "      <td>0.098</td>\n",
       "      <td>25.0</td>\n",
       "      <td>67.0</td>\n",
       "      <td>0.9968</td>\n",
       "      <td>3.20</td>\n",
       "      <td>0.68</td>\n",
       "      <td>9.8</td>\n",
       "      <td>5</td>\n",
       "    </tr>\n",
       "    <tr>\n",
       "      <th>2</th>\n",
       "      <td>7.8</td>\n",
       "      <td>0.76</td>\n",
       "      <td>0.04</td>\n",
       "      <td>2.3</td>\n",
       "      <td>0.092</td>\n",
       "      <td>15.0</td>\n",
       "      <td>54.0</td>\n",
       "      <td>0.9970</td>\n",
       "      <td>3.26</td>\n",
       "      <td>0.65</td>\n",
       "      <td>9.8</td>\n",
       "      <td>5</td>\n",
       "    </tr>\n",
       "    <tr>\n",
       "      <th>3</th>\n",
       "      <td>11.2</td>\n",
       "      <td>0.28</td>\n",
       "      <td>0.56</td>\n",
       "      <td>1.9</td>\n",
       "      <td>0.075</td>\n",
       "      <td>17.0</td>\n",
       "      <td>60.0</td>\n",
       "      <td>0.9980</td>\n",
       "      <td>3.16</td>\n",
       "      <td>0.58</td>\n",
       "      <td>9.8</td>\n",
       "      <td>6</td>\n",
       "    </tr>\n",
       "    <tr>\n",
       "      <th>4</th>\n",
       "      <td>7.4</td>\n",
       "      <td>0.70</td>\n",
       "      <td>0.00</td>\n",
       "      <td>1.9</td>\n",
       "      <td>0.076</td>\n",
       "      <td>11.0</td>\n",
       "      <td>34.0</td>\n",
       "      <td>0.9978</td>\n",
       "      <td>3.51</td>\n",
       "      <td>0.56</td>\n",
       "      <td>9.4</td>\n",
       "      <td>5</td>\n",
       "    </tr>\n",
       "    <tr>\n",
       "      <th>5</th>\n",
       "      <td>7.4</td>\n",
       "      <td>0.66</td>\n",
       "      <td>0.00</td>\n",
       "      <td>1.8</td>\n",
       "      <td>0.075</td>\n",
       "      <td>13.0</td>\n",
       "      <td>40.0</td>\n",
       "      <td>0.9978</td>\n",
       "      <td>3.51</td>\n",
       "      <td>0.56</td>\n",
       "      <td>9.4</td>\n",
       "      <td>5</td>\n",
       "    </tr>\n",
       "    <tr>\n",
       "      <th>6</th>\n",
       "      <td>7.9</td>\n",
       "      <td>0.60</td>\n",
       "      <td>0.06</td>\n",
       "      <td>1.6</td>\n",
       "      <td>0.069</td>\n",
       "      <td>15.0</td>\n",
       "      <td>59.0</td>\n",
       "      <td>0.9964</td>\n",
       "      <td>3.30</td>\n",
       "      <td>0.46</td>\n",
       "      <td>9.4</td>\n",
       "      <td>5</td>\n",
       "    </tr>\n",
       "    <tr>\n",
       "      <th>7</th>\n",
       "      <td>7.3</td>\n",
       "      <td>0.65</td>\n",
       "      <td>0.00</td>\n",
       "      <td>1.2</td>\n",
       "      <td>0.065</td>\n",
       "      <td>15.0</td>\n",
       "      <td>21.0</td>\n",
       "      <td>0.9946</td>\n",
       "      <td>3.39</td>\n",
       "      <td>0.47</td>\n",
       "      <td>10.0</td>\n",
       "      <td>7</td>\n",
       "    </tr>\n",
       "    <tr>\n",
       "      <th>8</th>\n",
       "      <td>7.8</td>\n",
       "      <td>0.58</td>\n",
       "      <td>0.02</td>\n",
       "      <td>2.0</td>\n",
       "      <td>0.073</td>\n",
       "      <td>9.0</td>\n",
       "      <td>18.0</td>\n",
       "      <td>0.9968</td>\n",
       "      <td>3.36</td>\n",
       "      <td>0.57</td>\n",
       "      <td>9.5</td>\n",
       "      <td>7</td>\n",
       "    </tr>\n",
       "    <tr>\n",
       "      <th>9</th>\n",
       "      <td>7.5</td>\n",
       "      <td>0.50</td>\n",
       "      <td>0.36</td>\n",
       "      <td>6.1</td>\n",
       "      <td>0.071</td>\n",
       "      <td>17.0</td>\n",
       "      <td>102.0</td>\n",
       "      <td>0.9978</td>\n",
       "      <td>3.35</td>\n",
       "      <td>0.80</td>\n",
       "      <td>10.5</td>\n",
       "      <td>5</td>\n",
       "    </tr>\n",
       "  </tbody>\n",
       "</table>\n",
       "</div>"
      ],
      "text/plain": [
       "   fixed acidity  volatile acidity  citric acid  residual sugar  chlorides  \\\n",
       "0            7.4              0.70         0.00             1.9      0.076   \n",
       "1            7.8              0.88         0.00             2.6      0.098   \n",
       "2            7.8              0.76         0.04             2.3      0.092   \n",
       "3           11.2              0.28         0.56             1.9      0.075   \n",
       "4            7.4              0.70         0.00             1.9      0.076   \n",
       "5            7.4              0.66         0.00             1.8      0.075   \n",
       "6            7.9              0.60         0.06             1.6      0.069   \n",
       "7            7.3              0.65         0.00             1.2      0.065   \n",
       "8            7.8              0.58         0.02             2.0      0.073   \n",
       "9            7.5              0.50         0.36             6.1      0.071   \n",
       "\n",
       "   free sulfur dioxide  total sulfur dioxide  density    pH  sulphates  \\\n",
       "0                 11.0                  34.0   0.9978  3.51       0.56   \n",
       "1                 25.0                  67.0   0.9968  3.20       0.68   \n",
       "2                 15.0                  54.0   0.9970  3.26       0.65   \n",
       "3                 17.0                  60.0   0.9980  3.16       0.58   \n",
       "4                 11.0                  34.0   0.9978  3.51       0.56   \n",
       "5                 13.0                  40.0   0.9978  3.51       0.56   \n",
       "6                 15.0                  59.0   0.9964  3.30       0.46   \n",
       "7                 15.0                  21.0   0.9946  3.39       0.47   \n",
       "8                  9.0                  18.0   0.9968  3.36       0.57   \n",
       "9                 17.0                 102.0   0.9978  3.35       0.80   \n",
       "\n",
       "   alcohol  quality  \n",
       "0      9.4        5  \n",
       "1      9.8        5  \n",
       "2      9.8        5  \n",
       "3      9.8        6  \n",
       "4      9.4        5  \n",
       "5      9.4        5  \n",
       "6      9.4        5  \n",
       "7     10.0        7  \n",
       "8      9.5        7  \n",
       "9     10.5        5  "
      ]
     },
     "execution_count": 50,
     "metadata": {},
     "output_type": "execute_result"
    }
   ],
   "source": [
    "#We load the .csv and visualize the first ten rows of it, we can also see the columns name\n",
    "df = pd.read_csv(\"winequality-red.csv\")\n",
    "df.head(10)"
   ]
  },
  {
   "cell_type": "code",
   "execution_count": 51,
   "id": "9222cacb",
   "metadata": {},
   "outputs": [
    {
     "data": {
      "text/plain": [
       "(1599, 12)"
      ]
     },
     "execution_count": 51,
     "metadata": {},
     "output_type": "execute_result"
    }
   ],
   "source": [
    "#Now let's check the dataset shape so we can see the number of rows and columns\n",
    "df.shape"
   ]
  },
  {
   "cell_type": "markdown",
   "id": "ce55f4d5",
   "metadata": {},
   "source": [
    "As we can see, the name of some columns contains spaces, which is something we do not really want when treating data, this is why we are going to replace these spaces with \"_\"."
   ]
  },
  {
   "cell_type": "code",
   "execution_count": 52,
   "id": "f2a70766",
   "metadata": {},
   "outputs": [],
   "source": [
    "#Replace spaces with _ for each column\n",
    "df.columns = df.columns.str.replace(' ', '_')"
   ]
  },
  {
   "cell_type": "code",
   "execution_count": 53,
   "id": "9b73a880",
   "metadata": {},
   "outputs": [
    {
     "name": "stdout",
     "output_type": "stream",
     "text": [
      "<class 'pandas.core.frame.DataFrame'>\n",
      "RangeIndex: 1599 entries, 0 to 1598\n",
      "Data columns (total 12 columns):\n",
      " #   Column                Non-Null Count  Dtype  \n",
      "---  ------                --------------  -----  \n",
      " 0   fixed_acidity         1599 non-null   float64\n",
      " 1   volatile_acidity      1599 non-null   float64\n",
      " 2   citric_acid           1599 non-null   float64\n",
      " 3   residual_sugar        1599 non-null   float64\n",
      " 4   chlorides             1599 non-null   float64\n",
      " 5   free_sulfur_dioxide   1599 non-null   float64\n",
      " 6   total_sulfur_dioxide  1599 non-null   float64\n",
      " 7   density               1599 non-null   float64\n",
      " 8   pH                    1599 non-null   float64\n",
      " 9   sulphates             1599 non-null   float64\n",
      " 10  alcohol               1599 non-null   float64\n",
      " 11  quality               1599 non-null   int64  \n",
      "dtypes: float64(11), int64(1)\n",
      "memory usage: 150.0 KB\n"
     ]
    },
    {
     "data": {
      "text/plain": [
       "fixed_acidity           0\n",
       "volatile_acidity        0\n",
       "citric_acid             0\n",
       "residual_sugar          0\n",
       "chlorides               0\n",
       "free_sulfur_dioxide     0\n",
       "total_sulfur_dioxide    0\n",
       "density                 0\n",
       "pH                      0\n",
       "sulphates               0\n",
       "alcohol                 0\n",
       "quality                 0\n",
       "dtype: int64"
      ]
     },
     "execution_count": 53,
     "metadata": {},
     "output_type": "execute_result"
    }
   ],
   "source": [
    "#We check there are no missing values and no object data types\n",
    "df.info()\n",
    "df.isnull().sum()"
   ]
  },
  {
   "cell_type": "markdown",
   "id": "c6fc139b",
   "metadata": {},
   "source": [
    "Fortunately for us, we find there are no null values and all datatypes seem to be right, since there are no object datatypes that must be converted to numerical values."
   ]
  },
  {
   "cell_type": "markdown",
   "id": "1f5bce14",
   "metadata": {},
   "source": [
    "Data Exploration\n",
    "After checking our dataset is fine and \"ready to go\" we are going to explore the data a little bit more, we are going to plot important information that will help us check how features behave and how they are correlated. We will also try to extract as much information as we can from it to help us understand the dataset better.\n",
    "\n",
    "Knowing our target variable is \"quality\", we are now going to plot some information about it. Let's see which values this column contains and how many of them there are."
   ]
  },
  {
   "cell_type": "code",
   "execution_count": 54,
   "id": "2874d8ae",
   "metadata": {},
   "outputs": [
    {
     "name": "stderr",
     "output_type": "stream",
     "text": [
      "C:\\Users\\hp-pc\\anaconda3\\lib\\site-packages\\seaborn\\_decorators.py:36: FutureWarning: Pass the following variable as a keyword arg: x. From version 0.12, the only valid positional argument will be `data`, and passing other arguments without an explicit keyword will result in an error or misinterpretation.\n",
      "  warnings.warn(\n"
     ]
    },
    {
     "data": {
      "text/plain": [
       "5    681\n",
       "6    638\n",
       "7    199\n",
       "4     53\n",
       "8     18\n",
       "3     10\n",
       "Name: quality, dtype: int64"
      ]
     },
     "execution_count": 54,
     "metadata": {},
     "output_type": "execute_result"
    },
    {
     "data": {
      "image/png": "[encoded data removed]",
      "text/plain": [
       "<Figure size 432x288 with 1 Axes>"
      ]
     },
     "metadata": {
      "needs_background": "light"
     },
     "output_type": "display_data"
    }
   ],
   "source": [
    "#let's start visualizing the different quality values and how many wines have that rating in our dataset\n",
    "sns.countplot(df['quality'])\n",
    "df['quality'].value_counts()"
   ]
  },
  {
   "cell_type": "markdown",
   "id": "89134669",
   "metadata": {},
   "source": [
    "Now that we got information about our target variable we are going to study the correlation between quality and other features and see which are the ones that play an important role in deciding the quality of a wine."
   ]
  },
  {
   "cell_type": "code",
   "execution_count": 55,
   "id": "2585106f",
   "metadata": {},
   "outputs": [
    {
     "name": "stdout",
     "output_type": "stream",
     "text": [
      "quality                 1.000000\n",
      "alcohol                 0.476166\n",
      "sulphates               0.251397\n",
      "citric_acid             0.226373\n",
      "fixed_acidity           0.124052\n",
      "residual_sugar          0.013732\n",
      "free_sulfur_dioxide    -0.050656\n",
      "pH                     -0.057731\n",
      "chlorides              -0.128907\n",
      "density                -0.174919\n",
      "total_sulfur_dioxide   -0.185100\n",
      "volatile_acidity       -0.390558\n",
      "Name: quality, dtype: float64\n"
     ]
    }
   ],
   "source": [
    "#Calculate and order correlations\n",
    "correlations = df.corr()['quality'].sort_values(ascending=False)\n",
    "print(correlations)"
   ]
  },
  {
   "cell_type": "code",
   "execution_count": 56,
   "id": "b0c66da0",
   "metadata": {},
   "outputs": [
    {
     "data": {
      "text/plain": [
       "<AxesSubplot:>"
      ]
     },
     "execution_count": 56,
     "metadata": {},
     "output_type": "execute_result"
    },
    {
     "data": {
      "image/png": "[encoded data removed]",
      "text/plain": [
       "<Figure size 432x288 with 1 Axes>"
      ]
     },
     "metadata": {
      "needs_background": "light"
     },
     "output_type": "display_data"
    }
   ],
   "source": [
    "correlations.plot(kind='bar')"
   ]
  },
  {
   "cell_type": "markdown",
   "id": "60f45fc4",
   "metadata": {},
   "source": [
    "Having now the correlation values between quality and the other features, let's have a look at the correlation matrix to have a better understanding of how features correlate with each other."
   ]
  },
  {
   "cell_type": "code",
   "execution_count": 57,
   "id": "96567583",
   "metadata": {},
   "outputs": [
    {
     "data": {
      "text/plain": [
       "<AxesSubplot:>"
      ]
     },
     "execution_count": 57,
     "metadata": {},
     "output_type": "execute_result"
    },
    {
     "data": {
      "image/png": "[encoded data removed]",
      "text/plain": [
       "<Figure size 720x432 with 2 Axes>"
      ]
     },
     "metadata": {
      "needs_background": "light"
     },
     "output_type": "display_data"
    }
   ],
   "source": [
    "#Heatmap to plot all correlations between features\n",
    "plt.figure(figsize=(10,6))\n",
    "sns.heatmap(df.corr(), annot=True, fmt='.0%')"
   ]
  },
  {
   "cell_type": "markdown",
   "id": "fd4c9ccf",
   "metadata": {},
   "source": [
    "From this matrix we can observe, apart from the information we had before, some obvious feature correlations such as pH and acidity. Apart from that, we get to know the percentage of the correlations we obtained before. We can also observe that approximately half of these features correlate positively with quality while the other half correlate negatively.\n",
    "\n",
    "From all these features, we are going to select the ones with bigger numbers since these are the ones that will give us more information. To do so we are going to stablish a minimum threshold of correlation approximately around 0.2 (absolut value) since we do not have to take into account features whose values might be redundant and not provide information at all."
   ]
  },
  {
   "cell_type": "code",
   "execution_count": 58,
   "id": "327e15fa",
   "metadata": {},
   "outputs": [
    {
     "name": "stdout",
     "output_type": "stream",
     "text": [
      "quality                  True\n",
      "alcohol                  True\n",
      "sulphates                True\n",
      "citric_acid              True\n",
      "fixed_acidity           False\n",
      "residual_sugar          False\n",
      "free_sulfur_dioxide     False\n",
      "pH                      False\n",
      "chlorides               False\n",
      "density                 False\n",
      "total_sulfur_dioxide    False\n",
      "volatile_acidity         True\n",
      "Name: quality, dtype: bool\n"
     ]
    }
   ],
   "source": [
    "print(abs(correlations) > 0.2)"
   ]
  },
  {
   "cell_type": "markdown",
   "id": "451aa165",
   "metadata": {},
   "source": [
    "From all the values, we are selecting alcohol, sulphates, citric_acid and volatile_acidity in order to study them better and see the distribution of values that separate the different qualities."
   ]
  },
  {
   "cell_type": "code",
   "execution_count": 59,
   "id": "5379e435",
   "metadata": {},
   "outputs": [
    {
     "ename": "SyntaxError",
     "evalue": "invalid syntax (<ipython-input-59-adfbdb84eb98>, line 1)",
     "output_type": "error",
     "traceback": [
      "\u001b[1;36m  File \u001b[1;32m\"<ipython-input-59-adfbdb84eb98>\"\u001b[1;36m, line \u001b[1;32m1\u001b[0m\n\u001b[1;33m    Alcohol Percent\u001b[0m\n\u001b[1;37m            ^\u001b[0m\n\u001b[1;31mSyntaxError\u001b[0m\u001b[1;31m:\u001b[0m invalid syntax\n"
     ]
    }
   ],
   "source": [
    "Alcohol Percent"
   ]
  },
  {
   "cell_type": "code",
   "execution_count": null,
   "id": "17d3dc13",
   "metadata": {},
   "outputs": [],
   "source": [
    "bp = sns.boxplot(x='quality',y='alcohol', data=df)\n",
    "bp.set(title=\"Alcohol Percent in Different Quality Wines\")"
   ]
  },
  {
   "cell_type": "markdown",
   "id": "4eb80948",
   "metadata": {},
   "source": [
    "On this boxplot we can see how wines that contain less alcohol seem to be getting worse ratings while the ones with higher alcohol % are getting better quality ratings. However, we can observe how \"mid quality\" wines with rating 5 or 6 are presenting some strange values. Let's do some further investigation now:\n",
    "\n",
    "In order to see why we do have these different values, we are going to select a subset of the dataset which will only contain rows whose quality column value is 5 or 6, and we will calculate correlation coefficients for this subset."
   ]
  },
  {
   "cell_type": "code",
   "execution_count": null,
   "id": "18cd73b1",
   "metadata": {},
   "outputs": [],
   "source": [
    "df_quality_five_six = df.loc[(df['quality'] >= 5) & (df['quality'] <= 6)]\n",
    "df_quality_five_six['quality'].value_counts()"
   ]
  },
  {
   "cell_type": "code",
   "execution_count": null,
   "id": "675a5b6f",
   "metadata": {},
   "outputs": [],
   "source": [
    "correlations_subset = df_quality_five_six.corr()['quality'].sort_values(ascending=False)\n",
    "print(correlations_subset)"
   ]
  },
  {
   "cell_type": "markdown",
   "id": "28e6fc8f",
   "metadata": {},
   "source": [
    "After calculating the correlations for wines with quality of 5 and 6 we find, that features that correlate the most with quality are the same as we obtained before. However, the difference of values shown on the boxplot can be explained due to having (although the highest) a poor correlation with quality."
   ]
  },
  {
   "cell_type": "markdown",
   "id": "7d78464e",
   "metadata": {},
   "source": [
    "Sulphates and Citric Acid Presence"
   ]
  },
  {
   "cell_type": "code",
   "execution_count": null,
   "id": "adef980e",
   "metadata": {},
   "outputs": [],
   "source": [
    "bp = sns.boxplot(x='quality',y='sulphates', data=df)\n",
    "bp.set(title=\"Sulphates in Different Quality Wines\")"
   ]
  },
  {
   "cell_type": "code",
   "execution_count": null,
   "id": "4c90cbb7",
   "metadata": {},
   "outputs": [],
   "source": [
    "bp = sns.boxplot(x='quality',y='citric_acid', data=df)\n",
    "bp.set(title=\"Citric Acid in Different Quality Wines\")"
   ]
  },
  {
   "cell_type": "markdown",
   "id": "6cf69235",
   "metadata": {},
   "source": [
    "In the case of the features \"sulphates\" and \"citric_acid\" the relation between them and quality seem to be linearly positive, showing our correlation coefficients calculated before were right: adding higher amounts of sulphates and citric acid to these wines seem to get them higher quality ratings."
   ]
  },
  {
   "cell_type": "markdown",
   "id": "565e223e",
   "metadata": {},
   "source": [
    "Acetic Acid Presence"
   ]
  },
  {
   "cell_type": "code",
   "execution_count": null,
   "id": "40789171",
   "metadata": {},
   "outputs": [],
   "source": [
    "bp = sns.boxplot(x='quality',y='volatile_acidity', data=df)\n",
    "bp.set(title=\"Acetic Acid Presence in Different Quality Wines\")"
   ]
  },
  {
   "cell_type": "markdown",
   "id": "3223cd70",
   "metadata": {},
   "source": [
    "For the acetic acid presence, we can clearly observe how less acetic acid presence in wine seems positive while having higher values contribute to having a lower rating."
   ]
  },
  {
   "cell_type": "markdown",
   "id": "98244744",
   "metadata": {},
   "source": [
    "In the last subsection we plotted some box graphics in order to see which values belong to each quality. For further investigations we are now going to plot histograms for each of those important features so we can see better the correlation between the distribution of values from each feature and quality. To do so, we are first going to separate the quality values in three different groups, so we can do things a little bit easier:\n",
    "    \n",
    "    Low: contains wines whose quality is 3 or 4.\n",
    "Medium: contains wines whose quality is 5 or 6.\n",
    "High: contains wines whose quality is 7 or 8."
   ]
  },
  {
   "cell_type": "code",
   "execution_count": null,
   "id": "87291fd9",
   "metadata": {},
   "outputs": [],
   "source": [
    "#We make a copy of our dataframe and group quality in differnt groups\n",
    "df_aux = df.copy()\n",
    "df_aux['quality'].replace([3,4],['low','low'],inplace=True)\n",
    "df_aux['quality'].replace([5,6],['med','med'],inplace=True)\n",
    "df_aux['quality'].replace([7,8],['high','high'],inplace=True)"
   ]
  },
  {
   "cell_type": "code",
   "execution_count": 61,
   "id": "31112f33",
   "metadata": {},
   "outputs": [
    {
     "name": "stderr",
     "output_type": "stream",
     "text": [
      "C:\\Users\\hp-pc\\anaconda3\\lib\\site-packages\\seaborn\\_decorators.py:36: FutureWarning: Pass the following variable as a keyword arg: x. From version 0.12, the only valid positional argument will be `data`, and passing other arguments without an explicit keyword will result in an error or misinterpretation.\n",
      "  warnings.warn(\n"
     ]
    },
    {
     "data": {
      "text/plain": [
       "<AxesSubplot:xlabel='quality', ylabel='count'>"
      ]
     },
     "execution_count": 61,
     "metadata": {},
     "output_type": "execute_result"
    },
    {
     "data": {
      "image/png": "[encoded data removed]",
      "text/plain": [
       "<Figure size 432x288 with 1 Axes>"
      ]
     },
     "metadata": {
      "needs_background": "light"
     },
     "output_type": "display_data"
    }
   ],
   "source": [
    "sns.countplot(df_aux['quality'])"
   ]
  },
  {
   "cell_type": "code",
   "execution_count": 62,
   "id": "a75d8198",
   "metadata": {},
   "outputs": [
    {
     "data": {
      "image/png": "[encoded data removed]",
      "text/plain": [
       "<Figure size 720x720 with 12 Axes>"
      ]
     },
     "metadata": {
      "needs_background": "light"
     },
     "output_type": "display_data"
    }
   ],
   "source": [
    "df.hist(bins=25,figsize=(10,10))\n",
    "# display histogram\n",
    "plt.show()"
   ]
  },
  {
   "cell_type": "markdown",
   "id": "387a5bcb",
   "metadata": {},
   "source": [
    "###### Feature Selection\n",
    "Now that we have already studied our dataset through histograms and different graphics it's time to select some features we will use in our machine learning algorithms. In this specific case, what we are going to do is use the same columns we studied before, since those are the four ones that give us the most information between features and quality."
   ]
  },
  {
   "cell_type": "code",
   "execution_count": 63,
   "id": "5f2e7506",
   "metadata": {},
   "outputs": [
    {
     "data": {
      "text/plain": [
       "quality             1.000000\n",
       "alcohol             0.476166\n",
       "sulphates           0.251397\n",
       "citric_acid         0.226373\n",
       "volatile_acidity   -0.390558\n",
       "Name: quality, dtype: float64"
      ]
     },
     "execution_count": 63,
     "metadata": {},
     "output_type": "execute_result"
    }
   ],
   "source": [
    "correlations[abs(correlations) > 0.2]"
   ]
  },
  {
   "cell_type": "markdown",
   "id": "dec7ff99",
   "metadata": {},
   "source": [
    "# Regression Models"
   ]
  },
  {
   "cell_type": "markdown",
   "id": "f5fb121b",
   "metadata": {},
   "source": [
    "On this section, after having understood our data and dropped some useless features, we are going to make an estimation of quality based on the other features. To do so we are going to use Linear Regression, Decision Tree Rregressor and Random Forest Regressor. We will also plot the values of prediction and true quality and the confussion marices, so we can see how many of the predicted values are right (the diagonal of the matrix)."
   ]
  },
  {
   "cell_type": "code",
   "execution_count": 64,
   "id": "a3633ad3",
   "metadata": {},
   "outputs": [],
   "source": [
    "#We separe our features from our target feature (quality) and we split data intro training and test\n",
    "X = df.loc[:,['alcohol','sulphates','citric_acid','volatile_acidity']]\n",
    "Y = df.iloc[:,11]\n",
    "\n",
    "X_train, X_test, y_train, y_test = train_test_split(X, Y, test_size=0.3, random_state=42)"
   ]
  },
  {
   "cell_type": "markdown",
   "id": "921928cd",
   "metadata": {},
   "source": [
    "Linear Regression"
   ]
  },
  {
   "cell_type": "code",
   "execution_count": 66,
   "id": "23bb4f64",
   "metadata": {},
   "outputs": [],
   "source": [
    "#Fit the model and make prediction\n",
    "regressor = LinearRegression()\n",
    "regressor.fit(X_train, y_train)\n",
    "y_prediction_lr = regressor.predict(X_test)\n",
    "y_prediction_lr = np.round(y_prediction_lr)"
   ]
  },
  {
   "cell_type": "code",
   "execution_count": 67,
   "id": "c91fdbd2",
   "metadata": {},
   "outputs": [
    {
     "data": {
      "image/png": "[encoded data removed]",
      "text/plain": [
       "<Figure size 432x288 with 1 Axes>"
      ]
     },
     "metadata": {
      "needs_background": "light"
     },
     "output_type": "display_data"
    }
   ],
   "source": [
    "plt.scatter(y_test,y_prediction_lr)\n",
    "plt.title(\"Prediction Using Linear Regression\")\n",
    "plt.xlabel(\"Real Quality\")\n",
    "plt.ylabel(\"Predicted\")\n",
    "plt.show()"
   ]
  },
  {
   "cell_type": "code",
   "execution_count": 68,
   "id": "ea69d9fa",
   "metadata": {},
   "outputs": [
    {
     "data": {
      "image/png": "[encoded data removed]",
      "text/plain": [
       "<Figure size 432x288 with 2 Axes>"
      ]
     },
     "metadata": {
      "needs_background": "light"
     },
     "output_type": "display_data"
    }
   ],
   "source": [
    "#Confussion Matrix for the Linear Regression Model\n",
    "label_aux = plt.subplot()\n",
    "cm_linear_regression = confusion_matrix(y_test,y_prediction_lr)\n",
    "cm_lr = pd.DataFrame(cm_linear_regression,\n",
    "                     index = ['3','4','5','6','7','8'], \n",
    "                     columns = ['3','4','5','6','7','8'])\n",
    "sns.heatmap(cm_lr,annot=True,fmt=\"d\")\n",
    "label_aux.set_xlabel('Predicted Quality');label_aux.set_ylabel('True Quality');"
   ]
  },
  {
   "cell_type": "markdown",
   "id": "31143eb6",
   "metadata": {},
   "source": [
    "Decision Tree Regressor"
   ]
  },
  {
   "cell_type": "code",
   "execution_count": 70,
   "id": "f7c5adbc",
   "metadata": {},
   "outputs": [],
   "source": [
    "#Fit the model and make prediction\n",
    "regressor = DecisionTreeRegressor()\n",
    "regressor.fit(X_train, y_train)\n",
    "y_prediction_dt = regressor.predict(X_test)\n",
    "y_prediction_dt = np.round(y_prediction_dt)"
   ]
  },
  {
   "cell_type": "code",
   "execution_count": 71,
   "id": "000123a9",
   "metadata": {},
   "outputs": [
    {
     "data": {
      "image/png": "[encoded data removed]",
      "text/plain": [
       "<Figure size 432x288 with 1 Axes>"
      ]
     },
     "metadata": {
      "needs_background": "light"
     },
     "output_type": "display_data"
    }
   ],
   "source": [
    "plt.scatter(y_test,y_prediction_dt)\n",
    "plt.title(\"Prediction Using Decision Tree Regression\")\n",
    "plt.xlabel(\"Real Quality\")\n",
    "plt.ylabel(\"Predicted\")\n",
    "plt.show()"
   ]
  },
  {
   "cell_type": "code",
   "execution_count": 72,
   "id": "38183fe0",
   "metadata": {},
   "outputs": [
    {
     "data": {
      "image/png": "[encoded data removed]",
      "text/plain": [
       "<Figure size 432x288 with 2 Axes>"
      ]
     },
     "metadata": {
      "needs_background": "light"
     },
     "output_type": "display_data"
    }
   ],
   "source": [
    "#Confussion Matrix for the Decission Tree Regression Model\n",
    "label_aux = plt.subplot()\n",
    "cm_decision_tree_regression = confusion_matrix(y_test,y_prediction_dt)\n",
    "cm_dt = pd.DataFrame(cm_decision_tree_regression,\n",
    "                     index = ['3','4','5','6','7','8'], \n",
    "                     columns = ['3','4','5','6','7','8'])\n",
    "sns.heatmap(cm_dt,annot=True,fmt=\"d\")\n",
    "label_aux.set_xlabel('Predicted Quality');label_aux.set_ylabel('True Quality');"
   ]
  },
  {
   "cell_type": "markdown",
   "id": "81830117",
   "metadata": {},
   "source": [
    "Random Forest Regressor"
   ]
  },
  {
   "cell_type": "code",
   "execution_count": 73,
   "id": "f6b216f5",
   "metadata": {},
   "outputs": [],
   "source": [
    "regressor = RandomForestRegressor(n_estimators=10,random_state = 42)\n",
    "regressor.fit(X_train, y_train)\n",
    "y_prediction_rf = regressor.predict(X_test)\n",
    "y_prediction_rf = np.round(y_prediction_rf)"
   ]
  },
  {
   "cell_type": "code",
   "execution_count": null,
   "id": "18a8f25f",
   "metadata": {},
   "outputs": [],
   "source": [
    "plt.scatter(y_test,y_prediction_rf)\n",
    "plt.title(\"Prediction Using Random Forest Regression\")\n",
    "plt.xlabel(\"Real Quality\")\n",
    "plt.ylabel(\"Predicted\")\n",
    "plt.show()"
   ]
  },
  {
   "cell_type": "code",
   "execution_count": 74,
   "id": "58915240",
   "metadata": {},
   "outputs": [
    {
     "data": {
      "image/png": "[encoded data removed]",
      "text/plain": [
       "<Figure size 432x288 with 2 Axes>"
      ]
     },
     "metadata": {
      "needs_background": "light"
     },
     "output_type": "display_data"
    }
   ],
   "source": [
    "#Confussion Matrix for the Random Forest Regression Model\n",
    "label_aux = plt.subplot()\n",
    "cm_random_forest_regression = confusion_matrix(y_test,y_prediction_rf)\n",
    "cm_rf = pd.DataFrame(cm_random_forest_regression,\n",
    "                     index = ['3','4','5','6','7','8'], \n",
    "                     columns = ['3','4','5','6','7','8'])\n",
    "sns.heatmap(cm_rf,annot=True,fmt=\"d\")\n",
    "label_aux.set_xlabel('Predicted Quality');label_aux.set_ylabel('True Quality');"
   ]
  },
  {
   "cell_type": "markdown",
   "id": "97be59e0",
   "metadata": {},
   "source": [
    "# RMSE of Models"
   ]
  },
  {
   "cell_type": "markdown",
   "id": "07fa264e",
   "metadata": {},
   "source": [
    "After having prepared our models, it's now time to evaluate them. To do so we are going to use RMSE (Root Mean Square Error) which is the standard deviation of the residuals (prediction errors). Residuals are a measure of how far from the regression line data points are so RMSE is a measure of how spread out these residuals are."
   ]
  },
  {
   "cell_type": "markdown",
   "id": "8c9db1f2",
   "metadata": {},
   "source": [
    "# Linear Regression RMSE"
   ]
  },
  {
   "cell_type": "code",
   "execution_count": 75,
   "id": "d412458b",
   "metadata": {},
   "outputs": [
    {
     "name": "stdout",
     "output_type": "stream",
     "text": [
      "0.7085783889827104\n"
     ]
    }
   ],
   "source": [
    "RMSE = sqrt(mean_squared_error(y_test, y_prediction_lr))\n",
    "print(RMSE)"
   ]
  },
  {
   "cell_type": "markdown",
   "id": "f1a30b76",
   "metadata": {},
   "source": [
    "# Decision Tree Regressor RMSE"
   ]
  },
  {
   "cell_type": "code",
   "execution_count": 76,
   "id": "5a26e004",
   "metadata": {},
   "outputs": [
    {
     "name": "stdout",
     "output_type": "stream",
     "text": [
      "0.8453303101943839\n"
     ]
    }
   ],
   "source": [
    "RMSE = sqrt(mean_squared_error(y_test, y_prediction_dt))\n",
    "print(RMSE)"
   ]
  },
  {
   "cell_type": "markdown",
   "id": "1a9f1d3b",
   "metadata": {},
   "source": [
    "# Random Forest Regression RMSE"
   ]
  },
  {
   "cell_type": "code",
   "execution_count": 78,
   "id": "07e485c3",
   "metadata": {},
   "outputs": [
    {
     "name": "stdout",
     "output_type": "stream",
     "text": [
      "0.699702317656111\n"
     ]
    }
   ],
   "source": [
    "RMSE = sqrt(mean_squared_error(y_test, y_prediction_rf))\n",
    "print(RMSE)"
   ]
  },
  {
   "cell_type": "markdown",
   "id": "aaf1a846",
   "metadata": {},
   "source": [
    "When deciding which regression algorithm is better by looking at RMSE we would better choose the one with smaller value, so for this problem, Random Forest Regression seems to be the best fitting algorithm."
   ]
  },
  {
   "cell_type": "markdown",
   "id": "e16af622",
   "metadata": {},
   "source": [
    "# Improving the results with 1-Off Accuray"
   ]
  },
  {
   "cell_type": "markdown",
   "id": "ce53d2f4",
   "metadata": {},
   "source": [
    "As we can see from the confusion matrices we show above our predictions aren't bad at all but in order to \"improve\" them we are going to apply a concept called 1-off accuracy, which states that if the distance between our predicted quality and the true quality is 1 (in absolut value), we will accept it as a correct prediction.\n",
    "\n",
    "We will now create a function that will transform our predicted value into the true value if the distance between them is equal to 1. Afterwards we are going to plot the new correlation matrices and test the new values with some metrics."
   ]
  },
  {
   "cell_type": "code",
   "execution_count": 80,
   "id": "8efbca0b",
   "metadata": {},
   "outputs": [],
   "source": [
    "def one_accuracy(predicted, true):\n",
    "\ti = 0\n",
    "\tfor x,y in zip(predicted,true):\n",
    "\t\tif(abs(x-y)==1):\n",
    "\t\t\tpredicted[i] = y\n",
    "\t\ti = i + 1\n",
    "\n",
    "one_accuracy(y_prediction_lr, y_test)\n",
    "one_accuracy(y_prediction_dt, y_test)\n",
    "one_accuracy(y_prediction_rf, y_test)"
   ]
  },
  {
   "cell_type": "code",
   "execution_count": 81,
   "id": "440aade4",
   "metadata": {},
   "outputs": [
    {
     "data": {
      "image/png": "[encoded data removed]",
      "text/plain": [
       "<Figure size 432x288 with 2 Axes>"
      ]
     },
     "metadata": {
      "needs_background": "light"
     },
     "output_type": "display_data"
    }
   ],
   "source": [
    "#Confussion Matrix for the Linear Regression Model\n",
    "label_aux = plt.subplot()\n",
    "cm_linear_regression = confusion_matrix(y_test,y_prediction_lr)\n",
    "cm_lr = pd.DataFrame(cm_linear_regression,\n",
    "                     index = ['3','4','5','6','7','8'], \n",
    "                     columns = ['3','4','5','6','7','8'])\n",
    "sns.heatmap(cm_lr,annot=True,fmt=\"d\")\n",
    "label_aux.set_xlabel('Predicted Quality');label_aux.set_ylabel('True Quality');"
   ]
  },
  {
   "cell_type": "code",
   "execution_count": 82,
   "id": "ccbf347d",
   "metadata": {},
   "outputs": [
    {
     "data": {
      "image/png": "[encoded data removed]",
      "text/plain": [
       "<Figure size 432x288 with 2 Axes>"
      ]
     },
     "metadata": {
      "needs_background": "light"
     },
     "output_type": "display_data"
    }
   ],
   "source": [
    "#Confussion Matrix for the Decission Tree Regression Model\n",
    "label_aux = plt.subplot()\n",
    "cm_decision_tree_regression = confusion_matrix(y_test,y_prediction_dt)\n",
    "cm_dt = pd.DataFrame(cm_decision_tree_regression,\n",
    "                     index = ['3','4','5','6','7','8'], \n",
    "                     columns = ['3','4','5','6','7','8'])\n",
    "sns.heatmap(cm_dt,annot=True,fmt=\"d\")\n",
    "label_aux.set_xlabel('Predicted Quality');label_aux.set_ylabel('True Quality');"
   ]
  },
  {
   "cell_type": "code",
   "execution_count": 83,
   "id": "b4abb598",
   "metadata": {},
   "outputs": [
    {
     "data": {
      "image/png": "[encoded data removed]",
      "text/plain": [
       "<Figure size 432x288 with 2 Axes>"
      ]
     },
     "metadata": {
      "needs_background": "light"
     },
     "output_type": "display_data"
    }
   ],
   "source": [
    "#Confussion Matrix for the Random Forest Regression Model\n",
    "label_aux = plt.subplot()\n",
    "cm_random_forest_regression = confusion_matrix(y_test,y_prediction_rf)\n",
    "cm_rf = pd.DataFrame(cm_random_forest_regression,\n",
    "                     index = ['3','4','5','6','7','8'], \n",
    "                     columns = ['3','4','5','6','7','8'])\n",
    "sns.heatmap(cm_rf,annot=True,fmt=\"d\")\n",
    "label_aux.set_xlabel('Predicted Quality');label_aux.set_ylabel('True Quality');"
   ]
  },
  {
   "cell_type": "markdown",
   "id": "d287d62c",
   "metadata": {},
   "source": [
    "As we can see, our results are far better than the ones we obtained before. Therefore we are now going to calculate the new RMSE for all the three models."
   ]
  },
  {
   "cell_type": "code",
   "execution_count": 84,
   "id": "25e85d09",
   "metadata": {},
   "outputs": [
    {
     "name": "stdout",
     "output_type": "stream",
     "text": [
      "RMSE for new improved Linear Regression is: 0.27386127875258304\n",
      "\n",
      "RMSE for new improved Decision Tree Regression is: 0.60380736442456\n",
      "\n",
      "RMSE for new improved Random Forest Regression is: 0.3535533905932738\n",
      "\n"
     ]
    }
   ],
   "source": [
    "RMSE_lr = sqrt(mean_squared_error(y_test, y_prediction_lr))\n",
    "print(\"RMSE for new improved Linear Regression is: \" + str(RMSE_lr) + \"\\n\")\n",
    "RMSE_dt = sqrt(mean_squared_error(y_test, y_prediction_dt))\n",
    "print(\"RMSE for new improved Decision Tree Regression is: \" + str(RMSE_dt) + \"\\n\")\n",
    "RMSE_rf = sqrt(mean_squared_error(y_test, y_prediction_rf))\n",
    "print(\"RMSE for new improved Random Forest Regression is: \" + str(RMSE_rf) + \"\\n\")"
   ]
  },
  {
   "cell_type": "markdown",
   "id": "23404312",
   "metadata": {},
   "source": [
    "# Testing Our Models with Precision, Recall and F1 Score"
   ]
  },
  {
   "cell_type": "markdown",
   "id": "10c518f3",
   "metadata": {},
   "source": [
    "For further testing, we are plotting a table that shows the precision, recall and f1score of our three regressor models."
   ]
  },
  {
   "cell_type": "code",
   "execution_count": 93,
   "id": "de129f7f",
   "metadata": {},
   "outputs": [
    {
     "name": "stdout",
     "output_type": "stream",
     "text": [
      "+-----------------+--------------------+--------------------+--------------------+\n",
      "| Regressor Model |     Precision      |       Recall       |      F1Score       |\n",
      "+-----------------+--------------------+--------------------+--------------------+\n",
      "|      Linear     | 0.9797021240507777 |      0.98125       | 0.9787385410477942 |\n",
      "|  Decision Tree  | 0.9223102994815217 | 0.9166666666666666 | 0.9187304332285525 |\n",
      "|  Random Forest  | 0.9661947165672622 |      0.96875       | 0.9660315070376045 |\n",
      "+-----------------+--------------------+--------------------+--------------------+\n"
     ]
    }
   ],
   "source": [
    "warnings.filterwarnings('ignore')\n",
    "ptbl = PrettyTable()\n",
    "ptbl.field_names = [\"Regressor Model\", \"Precision\", \"Recall\", \"F1Score\"]\n",
    "ptbl.add_row([\"Linear\", precision_score(y_test, y_prediction_lr, average = 'weighted'),\n",
    "           recall_score(y_test, y_prediction_lr, average = 'weighted'), f1_score(y_test, y_prediction_lr, average = 'weighted')])\n",
    "ptbl.add_row([\"Decision Tree\", precision_score(y_test, y_prediction_dt, average = 'weighted'), recall_score(y_test, y_prediction_dt, average = 'weighted'), \n",
    "           f1_score(y_test, y_prediction_dt, average = 'weighted')])\n",
    "ptbl.add_row([\"Random Forest\", precision_score(y_test, y_prediction_rf, average = 'weighted'), recall_score(y_test, y_prediction_rf, average = 'weighted'),\n",
    "           f1_score(y_test, y_prediction_rf, average = 'weighted')])\n",
    "print(ptbl)"
   ]
  },
  {
   "cell_type": "markdown",
   "id": "572c1060",
   "metadata": {},
   "source": [
    "# Conclusions"
   ]
  },
  {
   "cell_type": "markdown",
   "id": "673315bd",
   "metadata": {},
   "source": [
    "After having obtained all the results through our models and plots, these are some things we can say about this problem and solution:\n",
    "\n",
    "The vast majority of wines get a quality rating of five or six, while having good and bad wines seems more unlikely. There seem not to be any excellent wines (>8) on this database.\n",
    "\n",
    "From the very first moment we saw there weren't strong correlations between features and quality, that's why it's hard to make an accurate prediction using regression algorithms. That said, alcohol, sulphates, citric_acid features are the ones that correlate the most positively while volatile_acidity is the one correlating the most negatively.\n",
    "\n",
    "Applying the concept 1-off Accuracy gives us much better results.\n",
    "\n",
    "Random Forest and Linear Regression seem to be the best fitting models when solving this problem using regression.\n",
    "\n",
    "Since there are only six different quality values in this dataset, it would be clever treating this problem as a multiclass classification problem (we can use the quality grouping approach we took earlier) and we might even get better results."
   ]
  }
 ],
 "metadata": {
  "kernelspec": {
   "display_name": "Python 3",
   "language": "python",
   "name": "python3"
  },
  "language_info": {
   "codemirror_mode": {
    "name": "ipython",
    "version": 3
   },
   "file_extension": ".py",
   "mimetype": "text/x-python",
   "name": "python",
   "nbconvert_exporter": "python",
   "pygments_lexer": "ipython3",
   "version": "3.8.8"
  }
 },
 "nbformat": 4,
 "nbformat_minor": 5
}
